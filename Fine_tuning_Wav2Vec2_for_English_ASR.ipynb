{
 "cells": [
  {
   "cell_type": "markdown",
   "metadata": {
    "id": "LBSYoWbi-45k"
   },
   "source": [
    "# **Fine-tuning Wav2Vec2 for English ASR with 🤗 Transformers**"
   ]
  },
  {
   "cell_type": "markdown",
   "metadata": {
    "id": "V7YOT2mnUiea"
   },
   "source": [
    "Wav2Vec2 is a pretrained model for Automatic Speech Recognition (ASR) and was released in [September 2020](https://ai.facebook.com/blog/wav2vec-20-learning-the-structure-of-speech-from-raw-audio/) by Alexei Baevski, Michael Auli, and Alex Conneau.\n",
    "\n",
    "Using a novel contrastive pretraining objective, Wav2Vec2 learns powerful speech representations from more than 50.000 hours of unlabeled speech. Similar, to [BERT's masked language modeling](http://jalammar.github.io/illustrated-bert/), the model learns contextualized speech representations by randomly masking feature vectors before passing them to a transformer network.\n",
    "\n",
    "![wav2vec2_structure](https://raw.githubusercontent.com/patrickvonplaten/scientific_images/master/wav2vec2.png)\n",
    "\n",
    "For the first time, it has been shown that pretraining, followed by fine-tuning on very little labeled speech data achieves competitive results to state-of-the-art ASR systems. Using as little as 10 minutes of labeled data, Wav2Vec2 yields a word error rate (WER) of less than 5% on the clean test set of [LibriSpeech](https://huggingface.co/datasets/librispeech_asr) - *cf.* with Table 9 of the [paper](https://arxiv.org/pdf/2006.11477.pdf)."
   ]
  },
  {
   "cell_type": "markdown",
   "metadata": {
    "id": "nT_QrfWtsxIz"
   },
   "source": [
    "In this notebook, we will give an in-detail explanation of how Wav2Vec2's pretrained checkpoints can be fine-tuned on any English ASR dataset. Note that in this notebook, we will fine-tune Wav2Vec2 without making use of a language model. It is much simpler to use Wav2Vec2 without a language model as an end-to-end ASR system and it has been shown that a standalone Wav2Vec2 acoustic model achieves impressive results. For demonstration purposes, we fine-tune the \"base\"-sized [pretrained checkpoint](https://huggingface.co/facebook/wav2vec2-base) on the rather small [Timit](https://huggingface.co/datasets/timit_asr) dataset that contains just 5h of training data."
   ]
  },
  {
   "cell_type": "markdown",
   "metadata": {
    "id": "Gx9OdDYrCtQ1"
   },
   "source": [
    "Wav2Vec2 is fine-tuned using Connectionist Temporal Classification (CTC), which is an algorithm that is used to train neural networks for sequence-to-sequence problems and mainly in Automatic Speech Recognition and handwriting recognition. \n",
    "\n",
    "I highly recommend reading the blog post [Sequence Modeling with CTC (2017)](https://distill.pub/2017/ctc/) very well-written blog post by Awni Hannun."
   ]
  },
  {
   "cell_type": "markdown",
   "metadata": {
    "id": "qW3J3rBizeds"
   },
   "source": [
    "First, let's try to get a good GPU in our colab! With Google Colab's free version it's sadly becoming much harder to get access to a good GPU. With Google Colab Pro, one has a much easier time getting access to a V100 or P100 GPU however."
   ]
  },
  {
   "cell_type": "code",
   "execution_count": 1,
   "metadata": {
    "ExecuteTime": {
     "end_time": "2023-05-01T20:01:12.677310Z",
     "start_time": "2023-05-01T20:01:12.560283Z"
    },
    "colab": {
     "base_uri": "https://localhost:8080/"
    },
    "id": "SLAufgh_xxj7",
    "outputId": "de7a2986-226f-466e-f3e5-e2bc26f97ddb"
   },
   "outputs": [
    {
     "name": "stdout",
     "output_type": "stream",
     "text": [
      "Tue May  2 05:01:12 2023       \n",
      "+-----------------------------------------------------------------------------+\n",
      "| NVIDIA-SMI 516.94       Driver Version: 516.94       CUDA Version: 11.7     |\n",
      "|-------------------------------+----------------------+----------------------+\n",
      "| GPU  Name            TCC/WDDM | Bus-Id        Disp.A | Volatile Uncorr. ECC |\n",
      "| Fan  Temp  Perf  Pwr:Usage/Cap|         Memory-Usage | GPU-Util  Compute M. |\n",
      "|                               |                      |               MIG M. |\n",
      "|===============================+======================+======================|\n",
      "|   0  NVIDIA GeForce ... WDDM  | 00000000:08:00.0  On |                  N/A |\n",
      "|  0%   41C    P8    22W / 220W |   1603MiB /  8192MiB |      2%      Default |\n",
      "|                               |                      |                  N/A |\n",
      "+-------------------------------+----------------------+----------------------+\n",
      "|   1  NVIDIA GeForce ... WDDM  | 00000000:09:00.0 Off |                  N/A |\n",
      "|  0%   29C    P8     7W / 220W |      0MiB /  8192MiB |      0%      Default |\n",
      "|                               |                      |                  N/A |\n",
      "+-------------------------------+----------------------+----------------------+\n",
      "                                                                               \n",
      "+-----------------------------------------------------------------------------+\n",
      "| Processes:                                                                  |\n",
      "|  GPU   GI   CI        PID   Type   Process name                  GPU Memory |\n",
      "|        ID   ID                                                   Usage      |\n",
      "|=============================================================================|\n",
      "|    0   N/A  N/A      1316    C+G   C:\\Windows\\System32\\dwm.exe     N/A      |\n",
      "|    0   N/A  N/A      3132    C+G   ...bbwe\\Microsoft.Photos.exe    N/A      |\n",
      "|    0   N/A  N/A      3784    C+G   ...oft\\OneDrive\\OneDrive.exe    N/A      |\n",
      "|    0   N/A  N/A      4800    C+G   C:\\Windows\\explorer.exe         N/A      |\n",
      "|    0   N/A  N/A      6384    C+G   ...5n1h2txyewy\\SearchApp.exe    N/A      |\n",
      "|    0   N/A  N/A      6452    C+G   ...lPanel\\SystemSettings.exe    N/A      |\n",
      "|    0   N/A  N/A      6744    C+G   ...e\\PhoneExperienceHost.exe    N/A      |\n",
      "|    0   N/A  N/A      7776    C+G   ...5n1h2txyewy\\SearchApp.exe    N/A      |\n",
      "|    0   N/A  N/A      8828    C+G   ...ge\\Application\\msedge.exe    N/A      |\n",
      "|    0   N/A  N/A      9192    C+G   ...y\\ShellExperienceHost.exe    N/A      |\n",
      "|    0   N/A  N/A      9864    C+G   ...2txyewy\\TextInputHost.exe    N/A      |\n",
      "|    0   N/A  N/A     12220    C+G   ...er\\TeamViewer_Desktop.exe    N/A      |\n",
      "+-----------------------------------------------------------------------------+\n"
     ]
    }
   ],
   "source": [
    "gpu_info = !nvidia-smi\n",
    "gpu_info = '\\n'.join(gpu_info)\n",
    "if gpu_info.find('failed') >= 0:\n",
    "  print('Not connected to a GPU')\n",
    "else:\n",
    "  print(gpu_info)"
   ]
  },
  {
   "cell_type": "markdown",
   "metadata": {
    "id": "e335hPmdtASZ"
   },
   "source": [
    "Before we start, let's install both `datasets` and `transformers` from master. Also, we need the `librosa` package to load audio files and the `jiwer` to evaluate our fine-tuned model using the [word error rate (WER)](https://huggingface.co/metrics/wer) metric ${}^1$."
   ]
  },
  {
   "cell_type": "code",
   "execution_count": 2,
   "metadata": {
    "ExecuteTime": {
     "end_time": "2023-05-01T20:01:21.356931Z",
     "start_time": "2023-05-01T20:01:12.678311Z"
    },
    "id": "c8eh87Hoee5d"
   },
   "outputs": [],
   "source": [
    "%%capture\n",
    "!pip install datasets==1.18.3\n",
    "!pip install transformers==4.17.0\n",
    "!pip install jiwer"
   ]
  },
  {
   "cell_type": "markdown",
   "metadata": {
    "id": "8_6kYmDMH9lR"
   },
   "source": [
    "Next we strongly suggest to upload your training checkpoints directly to the [🤗 Hub](https://huggingface.co/) while training. The [🤗 Hub](https://huggingface.co/) has integrated version control so you can be sure that no model checkpoint is getting lost during training. \n",
    "\n",
    "To do so you have to store your authentication token from the Hugging Face website (sign up [here](https://huggingface.co/join) if you haven't already!)"
   ]
  },
  {
   "cell_type": "code",
   "execution_count": 3,
   "metadata": {
    "ExecuteTime": {
     "end_time": "2023-05-01T20:01:21.547974Z",
     "start_time": "2023-05-01T20:01:21.357931Z"
    },
    "colab": {
     "base_uri": "https://localhost:8080/",
     "height": 331,
     "referenced_widgets": [
      "c66b1962550b49f081293e33c6810aa6",
      "d6ddac7accab4e6daa6b4b3feb1bd3c9",
      "009ff972692448a7aa4c9649767d57f8",
      "cb2b5f6824f649e0a03b5d0bf5647657",
      "c3e4da7cc67c4332936f3b83eb0f1d6d",
      "8a622b09d8aa4665bd749d23e7e37ce1",
      "1c4de4731eef4f7ca214c492bcd917c2",
      "371231a0ba6e4ed4b4182009c95adaab",
      "c3f5cf5f7d7c43458c7eae55cca984ec",
      "9ccb319b72b4470d91a892c47277c790",
      "388899abaa7841c58f4efc9247e30650",
      "28712653a9274339b39ea186e7a0c2b2",
      "8403ed265c75447cbf855f96d6e6e7f2",
      "4246cb15e90c451c9c5804ac10ac8190",
      "d54be46c53f84015b8aae323c84fe97c",
      "45a5cc7160b6483eb91686f138a82c1e",
      "8c51f3f01dca44a4bf440c17d6f2d2ea"
     ]
    },
    "id": "zFLBDyzQIA3R",
    "outputId": "6d881e57-04c7-4da3-a671-2b2f9dfa667b"
   },
   "outputs": [
    {
     "data": {
      "application/vnd.jupyter.widget-view+json": {
       "model_id": "4eaf2729fb324137abec9af66f82cb6a",
       "version_major": 2,
       "version_minor": 0
      },
      "text/plain": [
       "VBox(children=(HTML(value='<center> <img\\nsrc=https://huggingface.co/front/assets/huggingface_logo-noborder.sv…"
      ]
     },
     "metadata": {},
     "output_type": "display_data"
    }
   ],
   "source": [
    "from huggingface_hub import notebook_login\n",
    "\n",
    "notebook_login()"
   ]
  },
  {
   "cell_type": "markdown",
   "metadata": {
    "id": "zCyw5D23IQ1F"
   },
   "source": [
    "\n",
    "Then you need to install Git-LFS to upload your model checkpoints:"
   ]
  },
  {
   "cell_type": "code",
   "execution_count": 4,
   "metadata": {
    "ExecuteTime": {
     "end_time": "2023-05-01T20:01:21.595985Z",
     "start_time": "2023-05-01T20:01:21.549974Z"
    },
    "id": "Q9BnQDhOITBC"
   },
   "outputs": [],
   "source": [
    "%%capture\n",
    "!apt install git-lfs"
   ]
  },
  {
   "cell_type": "markdown",
   "metadata": {
    "id": "Mn9swf6EQ9Vd"
   },
   "source": [
    "\n",
    "\n",
    "\n",
    "---\n",
    "\n",
    "${}^1$ Timit is usually evaluated using the phoneme error rate (PER), but by far the most common metric in ASR is the word error rate (WER). To keep this notebook as general as possible we decided to evaluate the model using WER."
   ]
  },
  {
   "cell_type": "markdown",
   "metadata": {
    "id": "0mW-C1Nt-j7k"
   },
   "source": [
    "## Prepare Data, Tokenizer, Feature Extractor"
   ]
  },
  {
   "cell_type": "markdown",
   "metadata": {
    "id": "BeBosnY9BH3e"
   },
   "source": [
    "ASR models transcribe speech to text, which means that we both need a feature extractor that processes the speech signal to the model's input format, *e.g.* a feature vector, and a tokenizer that processes the model's output format to text. \n",
    "\n",
    "In 🤗 Transformers, the Wav2Vec2 model is thus accompanied by both a tokenizer, called [Wav2Vec2CTCTokenizer](https://huggingface.co/transformers/master/model_doc/wav2vec2.html#wav2vec2ctctokenizer), and a feature extractor, called [Wav2Vec2FeatureExtractor](https://huggingface.co/transformers/master/model_doc/wav2vec2.html#wav2vec2featureextractor).\n",
    "\n",
    "Let's start by creating the tokenizer responsible for decoding the model's predictions."
   ]
  },
  {
   "cell_type": "markdown",
   "metadata": {
    "id": "sEXEWEJGQPqD"
   },
   "source": [
    "### Create Wav2Vec2CTCTokenizer"
   ]
  },
  {
   "cell_type": "markdown",
   "metadata": {
    "id": "tWmMikuNEKl_"
   },
   "source": [
    "The [pretrained Wav2Vec2 checkpoint]( ) maps the speech signal to a sequence of context representations as illustrated in the figure above. A fine-tuned Wav2Vec2 checkpoint needs to map this sequence of context representations to its corresponding transcription so that a linear layer has to be added on top of the transformer block (shown in yellow). This linear layer is used to classifies each context representation to a token class analogous how, *e.g.*, after pretraining a linear layer is added on top of BERT's embeddings for further classification - *cf.* with *\"BERT\"* section of this [blog post](https://huggingface.co/blog/warm-starting-encoder-decoder).\n",
    "\n",
    "The output size of this layer corresponds to the number of tokens in the vocabulary, which does **not** depend on Wav2Vec2's pretraining task, but only on the labeled dataset used for fine-tuning. So in the first step, we will take a look at Timit and define a vocabulary based on the dataset's transcriptions."
   ]
  },
  {
   "cell_type": "markdown",
   "metadata": {
    "id": "bee4g9rpLxll"
   },
   "source": [
    "Let's start by loading the dataset and taking a look at its structure."
   ]
  },
  {
   "cell_type": "code",
   "execution_count": 5,
   "metadata": {
    "ExecuteTime": {
     "end_time": "2023-05-01T20:01:23.173387Z",
     "start_time": "2023-05-01T20:01:21.596985Z"
    },
    "colab": {
     "base_uri": "https://localhost:8080/",
     "height": 200,
     "referenced_widgets": [
      "844a6e69f92249bcaf5443f816ea6424",
      "315ec181cf8b469390c4c0067f1abfbe",
      "a80be53ed0184627b69dfabbd3b72dd0",
      "6edeccbe943149ff969e60ee5bf4a8f7",
      "4edc929ca2e742eba597301d6b5e9c10",
      "38cb6d43168c45d69fdb9efaa353e8fd",
      "57d47d3c40d247feb00a29ff0938492d",
      "7c7a5e160a6247bb83f2098b25440981",
      "cefb3ec13b2944d585d999087910f1a0",
      "a0818d3082004fdf914160aa169febf1",
      "2f91b0bc7e4143a987cad4169743d6ff",
      "ad448b6709f54106a9c263c0142e6a89",
      "fde4ddb4596d4722b219ed99dca6d76b",
      "7396afe547a34812b0cc070f6e4c94a2",
      "043acda41e904eeca9fb1b51728b94a3",
      "28d8685762a5464aa8d41defa911ca55",
      "638c91d67ca9466995f70a407b0b8b4d",
      "d9dd3186650944089fe82104ea748121",
      "924071ae6fca40cd85fa7c4b0f275ba8",
      "629e93c3e9624ddc8742a655f3edf4b6",
      "b7e31b58bd6a4c089045c8697c746ae7",
      "2e4e3ea872b84728b4e8439177c2bdca",
      "d2e06c630c9147e296d2b3e490fad1ea",
      "8968d84823544ba88b75bf26c4c89bc6",
      "b280a81c137447e997b1afd4201fa76b",
      "0ff1302607b242d49dffdf850396b644",
      "713e2a1e09b24c1ba0692b0432f954c3",
      "204bc71be71240938db25e68e8f60798",
      "1c0f57ec16bb4225884c63c7997cfa77",
      "9bd5653088f14e36affe0ca157a18103",
      "c886b19fc4604d52823ccec84d91690d",
      "53741de4c5634c1d83472966e43888a3",
      "5a9f966f31fe441981f43daef45329b8",
      "6e71df2ad81042198778bd530451607d",
      "068c21f096294e7f882a8b1f785e25e1",
      "02382696d96f42f68402da01248633b2",
      "ab56be9b3b164e11a558dd7fe1901ea4",
      "78e7c3827c6c414f97d5bdb7ccea790b",
      "67dd7dc28e7d47ab8c50c70e48b68f3d",
      "586b37ddcef64e76a01e7ee6e5f81307",
      "b82f952712a24fc7a0e592a4e1583f63",
      "c4ebbceb0da54ea7bb340e0504c53efe",
      "2caf93fcf6a54342a3a8415a46b2d2a0",
      "88c2a6ec21a841cca8155fdaf3c4da28",
      "3be67d509b1c4e819c19101469ee927a",
      "30468621db7a47489a6e6e6c4ef8b752",
      "e428cba63225447ab0ade9fbf5748e30",
      "7a4e16be01db411d81b2ab60bf641f34",
      "d7292162448a4450a72aaeaafd564e1a",
      "93f90349e4fe4cf68c5928130722f8c9",
      "98c5a711df7344798337c3bd94dcb7f1",
      "8e7fd1e3048a4543978cfa7461194433",
      "8f43661ab91e4101a933696f2c59e650",
      "48cc51ece41545c08bc3c6d69ab9c25b",
      "54a4204d69344802a2ff951792003c52",
      "4def413403fd43ec8a02e910e398ec27",
      "dd67784133af4b019f744e6275dc5eda",
      "90c2824fcfea49809b8eb6c055b498cb",
      "67de1d1b96c04774a3fa1832e10a341b",
      "0c4cae68248f47e0beb8e9da650432ea",
      "22101e234b5247159a1dc2cbe55c5ba7",
      "f6a322f066c6446a90487d5c47bf51a9",
      "9181ef801fa14dea956cd416dc1da1c7",
      "03e14fce8a8c4451adac854356e0e000",
      "55cef7d0209e4afa83df3fe1c8acd4dc",
      "312812abe3664699ad03372f0a06d70e"
     ]
    },
    "id": "2MMXcWFFgCXU",
    "outputId": "7e078878-ced9-4c40-8ff2-ba0431b4e86f"
   },
   "outputs": [
    {
     "name": "stderr",
     "output_type": "stream",
     "text": [
      "Reusing dataset timit_asr (C:\\Users\\dhc40\\.cache\\huggingface\\datasets\\timit_asr\\clean\\2.0.1\\b11b576ddcccbcefa7c9f0c4e6c2a43756f3033adffe0fb686aa61043d0450ad)\n"
     ]
    },
    {
     "data": {
      "application/vnd.jupyter.widget-view+json": {
       "model_id": "ba3b9f135aef4eed9a0d452e1a1c3872",
       "version_major": 2,
       "version_minor": 0
      },
      "text/plain": [
       "  0%|          | 0/2 [00:00<?, ?it/s]"
      ]
     },
     "metadata": {},
     "output_type": "display_data"
    }
   ],
   "source": [
    "from datasets import load_dataset, load_metric\n",
    "\n",
    "timit = load_dataset(\"timit_asr\")"
   ]
  },
  {
   "cell_type": "code",
   "execution_count": 6,
   "metadata": {
    "ExecuteTime": {
     "end_time": "2023-05-01T20:01:23.189391Z",
     "start_time": "2023-05-01T20:01:23.174387Z"
    },
    "colab": {
     "base_uri": "https://localhost:8080/"
    },
    "id": "QbIM-L0xdvf4",
    "outputId": "defca3ad-f3bc-4b48-9124-b4b83cb9f042"
   },
   "outputs": [
    {
     "data": {
      "text/plain": [
       "DatasetDict({\n",
       "    train: Dataset({\n",
       "        features: ['file', 'audio', 'text', 'phonetic_detail', 'word_detail', 'dialect_region', 'sentence_type', 'speaker_id', 'id'],\n",
       "        num_rows: 4620\n",
       "    })\n",
       "    test: Dataset({\n",
       "        features: ['file', 'audio', 'text', 'phonetic_detail', 'word_detail', 'dialect_region', 'sentence_type', 'speaker_id', 'id'],\n",
       "        num_rows: 1680\n",
       "    })\n",
       "})"
      ]
     },
     "execution_count": 6,
     "metadata": {},
     "output_type": "execute_result"
    }
   ],
   "source": [
    "timit"
   ]
  },
  {
   "cell_type": "markdown",
   "metadata": {
    "id": "ri5y5N_HMANq"
   },
   "source": [
    "Many ASR datasets only provide the target text, `'text'` for each audio `'audio'` and file `'file'`. Timit actually provides much more information about each audio file, such as the `'phonetic_detail'`, etc., which is why many researchers choose to evaluate their models on phoneme classification instead of speech recognition when working with Timit. However, we want to keep the notebook as general as possible, so that we will only consider the transcribed text for fine-tuning.\n",
    "\n"
   ]
  },
  {
   "cell_type": "code",
   "execution_count": 7,
   "metadata": {
    "ExecuteTime": {
     "end_time": "2023-05-01T20:01:23.237401Z",
     "start_time": "2023-05-01T20:01:23.190391Z"
    },
    "id": "kbyq6lDgQc2a"
   },
   "outputs": [],
   "source": [
    "timit = timit.remove_columns([\"phonetic_detail\", \"word_detail\", \"dialect_region\", \"id\", \"sentence_type\", \"speaker_id\"])"
   ]
  },
  {
   "cell_type": "markdown",
   "metadata": {
    "id": "Go9Hq4e4NDT9"
   },
   "source": [
    "Let's write a short function to display some random samples of the dataset and run it a couple of times to get a feeling for the transcriptions."
   ]
  },
  {
   "cell_type": "code",
   "execution_count": 8,
   "metadata": {
    "ExecuteTime": {
     "end_time": "2023-05-01T20:01:23.269409Z",
     "start_time": "2023-05-01T20:01:23.238402Z"
    },
    "id": "72737oog2F6U"
   },
   "outputs": [],
   "source": [
    "from datasets import ClassLabel\n",
    "import random\n",
    "import pandas as pd\n",
    "from IPython.display import display, HTML\n",
    "\n",
    "def show_random_elements(dataset, num_examples=10):\n",
    "    assert num_examples <= len(dataset), \"Can't pick more elements than there are in the dataset.\"\n",
    "    picks = []\n",
    "    for _ in range(num_examples):\n",
    "        pick = random.randint(0, len(dataset)-1)\n",
    "        while pick in picks:\n",
    "            pick = random.randint(0, len(dataset)-1)\n",
    "        picks.append(pick)\n",
    "    \n",
    "    df = pd.DataFrame(dataset[picks])\n",
    "    display(HTML(df.to_html()))"
   ]
  },
  {
   "cell_type": "code",
   "execution_count": 9,
   "metadata": {
    "ExecuteTime": {
     "end_time": "2023-05-01T20:01:23.300743Z",
     "start_time": "2023-05-01T20:01:23.270409Z"
    },
    "colab": {
     "base_uri": "https://localhost:8080/",
     "height": 363
    },
    "id": "K_JUmf3G3b9S",
    "outputId": "7bc3cca2-c265-4c71-c34f-6424fba9d493"
   },
   "outputs": [
    {
     "data": {
      "text/html": [
       "<table border=\"1\" class=\"dataframe\">\n",
       "  <thead>\n",
       "    <tr style=\"text-align: right;\">\n",
       "      <th></th>\n",
       "      <th>text</th>\n",
       "    </tr>\n",
       "  </thead>\n",
       "  <tbody>\n",
       "    <tr>\n",
       "      <th>0</th>\n",
       "      <td>A pool is no place for a shut trap.</td>\n",
       "    </tr>\n",
       "    <tr>\n",
       "      <th>1</th>\n",
       "      <td>This is going to be a language lesson, and you can master it in a few minutes.</td>\n",
       "    </tr>\n",
       "    <tr>\n",
       "      <th>2</th>\n",
       "      <td>She had your dark suit in greasy wash water all year.</td>\n",
       "    </tr>\n",
       "    <tr>\n",
       "      <th>3</th>\n",
       "      <td>The crisis later on when debts seemed about to overwhelm me.</td>\n",
       "    </tr>\n",
       "    <tr>\n",
       "      <th>4</th>\n",
       "      <td>Shipbuilding is a most fascinating process.</td>\n",
       "    </tr>\n",
       "    <tr>\n",
       "      <th>5</th>\n",
       "      <td>We apply auditory modeling to computer speech recognition.</td>\n",
       "    </tr>\n",
       "    <tr>\n",
       "      <th>6</th>\n",
       "      <td>The cigarettes in the clay ashtray overflowed onto the oak table.</td>\n",
       "    </tr>\n",
       "    <tr>\n",
       "      <th>7</th>\n",
       "      <td>Below is a specific guide, keyed to the calendar.</td>\n",
       "    </tr>\n",
       "    <tr>\n",
       "      <th>8</th>\n",
       "      <td>A slug had torn half of his stirrup-guard away.</td>\n",
       "    </tr>\n",
       "    <tr>\n",
       "      <th>9</th>\n",
       "      <td>Don't ask me to carry an oily rag like that.</td>\n",
       "    </tr>\n",
       "  </tbody>\n",
       "</table>"
      ],
      "text/plain": [
       "<IPython.core.display.HTML object>"
      ]
     },
     "metadata": {},
     "output_type": "display_data"
    }
   ],
   "source": [
    "show_random_elements(timit[\"train\"].remove_columns([\"audio\", \"file\"]), num_examples=10)"
   ]
  },
  {
   "cell_type": "markdown",
   "metadata": {
    "id": "fowcOllGNNju"
   },
   "source": [
    "Alright! The transcriptions look very clean and the language seems to correspond more to written text than dialogue. This makes sense taking into account that [Timit](https://huggingface.co/datasets/timit_asr) is a read speech corpus."
   ]
  },
  {
   "cell_type": "markdown",
   "metadata": {
    "id": "vq7OR50LN49m"
   },
   "source": [
    "We can see that the transcriptions contain some special characters, such as `,.?!;:`. Without a language model, it is much harder to classify speech chunks to such special characters because they don't really correspond to a characteristic sound unit. *E.g.*, the letter `\"s\"` has a more or less clear sound, whereas the special character `\".\"` does not.\n",
    "Also in order to understand the meaning of a speech signal, it is usually not necessary to include special characters in the transcription.\n",
    "\n",
    "In addition, we normalize the text to only have lower case letters and append a word separator token at the end."
   ]
  },
  {
   "cell_type": "code",
   "execution_count": 10,
   "metadata": {
    "ExecuteTime": {
     "end_time": "2023-05-01T20:01:23.332752Z",
     "start_time": "2023-05-01T20:01:23.303018Z"
    },
    "id": "svKzVJ_hQGK6"
   },
   "outputs": [],
   "source": [
    "import re\n",
    "chars_to_ignore_regex = '[\\,\\?\\.\\!\\-\\;\\:\\\"]'\n",
    "\n",
    "def remove_special_characters(batch):\n",
    "    batch[\"text\"] = re.sub(chars_to_ignore_regex, '', batch[\"text\"]).lower() + \" \"\n",
    "    return batch"
   ]
  },
  {
   "cell_type": "code",
   "execution_count": 11,
   "metadata": {
    "ExecuteTime": {
     "end_time": "2023-05-01T20:01:23.679054Z",
     "start_time": "2023-05-01T20:01:23.333752Z"
    },
    "colab": {
     "base_uri": "https://localhost:8080/",
     "height": 118,
     "referenced_widgets": [
      "eb9d5bd61b814ff4b50cacb32c990f9c",
      "38d534265df041689c5be6202dcd87cd",
      "770d4802c0b34c999937a61f85de7760",
      "dcb87e1561394560bf8e8b6abf8b14b6",
      "1b97a6f0ecad46c9b5107278895fc4f6",
      "85c183d42bc949e8848c9cf364926b8d",
      "2b13b0be57dc4a3fadf346f765ad2522",
      "b8cf032713ec410cb566623a308a3972",
      "a3b0da3acf814e0e9eca6eb08238995e",
      "56e15db7711c4f3d81f4706a93057a9d",
      "ab508721571948c58adf2877bc2cf9cb",
      "e79fb1e8ee3245fba30e140ae2cfb2f1",
      "41bb4e9b828d4ac2b9b8ddd740e917fe",
      "bb57e3ec8c79442f8afe5137248cb510",
      "8b226820799b4dbc843687369c9a512a",
      "4b5c0df4da174b85958f2656241bdbcf",
      "3e592460b06c421fbfa9dac434454587",
      "0aae7e5bf6e64e68b3f5f3d57fe5a798",
      "14cc5a0b87c843bfb2c10419e00ba058",
      "9e17241932514e67930cf1c08f3e7fb2",
      "3ce52aa810ea402b8ddafa86b5a0028f",
      "6e710476548140209be424aefea55f37"
     ]
    },
    "id": "XIHocAuTQbBR",
    "outputId": "baea8a4b-2006-41bb-d224-b32da4a57002"
   },
   "outputs": [
    {
     "name": "stderr",
     "output_type": "stream",
     "text": [
      "Parameter 'function'=<function remove_special_characters at 0x0000014E2096CCA0> of the transform datasets.arrow_dataset.Dataset._map_single couldn't be hashed properly, a random hash was used instead. Make sure your transforms and parameters are serializable with pickle or dill for the dataset fingerprinting and caching to work. If you reuse this transform, the caching mechanism will consider it to be different from the previous calls and recompute everything. This warning is only showed once. Subsequent hashing failures won't be showed.\n"
     ]
    },
    {
     "data": {
      "application/vnd.jupyter.widget-view+json": {
       "model_id": "14a7d6d8108a4e42b42baa057d8764e6",
       "version_major": 2,
       "version_minor": 0
      },
      "text/plain": [
       "0ex [00:00, ?ex/s]"
      ]
     },
     "metadata": {},
     "output_type": "display_data"
    },
    {
     "data": {
      "application/vnd.jupyter.widget-view+json": {
       "model_id": "2f879edc0856464e878c9a480b4d6080",
       "version_major": 2,
       "version_minor": 0
      },
      "text/plain": [
       "0ex [00:00, ?ex/s]"
      ]
     },
     "metadata": {},
     "output_type": "display_data"
    }
   ],
   "source": [
    "timit = timit.map(remove_special_characters)"
   ]
  },
  {
   "cell_type": "code",
   "execution_count": 12,
   "metadata": {
    "ExecuteTime": {
     "end_time": "2023-05-01T20:01:23.695058Z",
     "start_time": "2023-05-01T20:01:23.680055Z"
    },
    "colab": {
     "base_uri": "https://localhost:8080/",
     "height": 363
    },
    "id": "RBDRAAYxRE6n",
    "outputId": "060b889c-510d-4f94-feb3-cecd8fa35ad5"
   },
   "outputs": [
    {
     "data": {
      "text/html": [
       "<table border=\"1\" class=\"dataframe\">\n",
       "  <thead>\n",
       "    <tr style=\"text-align: right;\">\n",
       "      <th></th>\n",
       "      <th>text</th>\n",
       "    </tr>\n",
       "  </thead>\n",
       "  <tbody>\n",
       "    <tr>\n",
       "      <th>0</th>\n",
       "      <td>primitive tribes have an upbeat attitude</td>\n",
       "    </tr>\n",
       "    <tr>\n",
       "      <th>1</th>\n",
       "      <td>scholastic aptitude is judged by standardized tests</td>\n",
       "    </tr>\n",
       "    <tr>\n",
       "      <th>2</th>\n",
       "      <td>don't ask me to carry an oily rag like that</td>\n",
       "    </tr>\n",
       "    <tr>\n",
       "      <th>3</th>\n",
       "      <td>the car door crashed shut</td>\n",
       "    </tr>\n",
       "    <tr>\n",
       "      <th>4</th>\n",
       "      <td>the barracuda recoiled from the serpent's poisonous fangs</td>\n",
       "    </tr>\n",
       "    <tr>\n",
       "      <th>5</th>\n",
       "      <td>as a precaution the outlaws bought gunpowder for their stronghold</td>\n",
       "    </tr>\n",
       "    <tr>\n",
       "      <th>6</th>\n",
       "      <td>the annoying raccoons slipped into phil's garden every night</td>\n",
       "    </tr>\n",
       "    <tr>\n",
       "      <th>7</th>\n",
       "      <td>she had your dark suit in greasy wash water all year</td>\n",
       "    </tr>\n",
       "    <tr>\n",
       "      <th>8</th>\n",
       "      <td>he talked about unauthentic storylines too</td>\n",
       "    </tr>\n",
       "    <tr>\n",
       "      <th>9</th>\n",
       "      <td>don't ask me to carry an oily rag like that</td>\n",
       "    </tr>\n",
       "  </tbody>\n",
       "</table>"
      ],
      "text/plain": [
       "<IPython.core.display.HTML object>"
      ]
     },
     "metadata": {},
     "output_type": "display_data"
    }
   ],
   "source": [
    "show_random_elements(timit[\"train\"].remove_columns([\"audio\", \"file\"]))"
   ]
  },
  {
   "cell_type": "markdown",
   "metadata": {
    "id": "jwfaptH5RJwA"
   },
   "source": [
    "Good! This looks better. We have removed most special characters from transcriptions and normalized them to lower-case only.\n",
    "\n",
    "In CTC, it is common to classify speech chunks into letters, so we will do the same here. \n",
    "Let's extract all distinct letters of the training and test data and build our vocabulary from this set of letters.\n",
    "\n",
    "We write a mapping function that concatenates all transcriptions into one long transcription and then transforms the string into a set of chars. \n",
    "It is important to pass the argument `batched=True` to the `map(...)` function so that the mapping function has access to all transcriptions at once."
   ]
  },
  {
   "cell_type": "code",
   "execution_count": 31,
   "metadata": {
    "ExecuteTime": {
     "end_time": "2023-05-01T20:09:56.769909Z",
     "start_time": "2023-05-01T20:09:56.762908Z"
    },
    "id": "LwCshNbbeRZR"
   },
   "outputs": [],
   "source": [
    "def extract_all_chars(batch):\n",
    "  all_text = \" \".join(batch[\"text\"])\n",
    "  vocab = list(set(all_text))\n",
    "  return {\"vocab\": [vocab], \"all_text\": [all_text]}"
   ]
  },
  {
   "cell_type": "code",
   "execution_count": 34,
   "metadata": {
    "ExecuteTime": {
     "end_time": "2023-05-01T20:10:27.310307Z",
     "start_time": "2023-05-01T20:10:27.255295Z"
    },
    "colab": {
     "base_uri": "https://localhost:8080/",
     "height": 81,
     "referenced_widgets": [
      "b0c92d1e67cf4bef8c9daefd8b84323c",
      "e70ccebc02a54e8f9504e228ba1af05a",
      "11069673d1eb4d8183ad45f38e85a449",
      "cb5bb3554d24444aac24ba8d83147b1a",
      "672cc40f853b46b5be717ef3454ab540",
      "44e2ae38d685424ba05645c93efea468",
      "c0af642f5ebf4eeaa392c8a005f11dfa",
      "02c73fd7649341f7bb9c3a0ca94fe993",
      "223c348eed304f22b6a53b255a2e7051",
      "2e2d8b1a44f949149580995fee52747a",
      "7596ddf522e84fb0b4a62ecbe1234986",
      "ffb933c54b5045139b34c261e23e28d3",
      "7e954c0027d542bdafb1a4bb0cf7e0fa",
      "a6fa5cb83ec54a14b1d4fb24e7e81d87",
      "3b18750c4c2c4f92a8df56de8b04f3b8",
      "7851046f5de5478fa219f92fa1a4237a",
      "b6d3427dcf4a43feb625ab5c046a9187",
      "cbf697c411c54f72b659e39eaa916874",
      "b3829f975afd4c26a59fb2fb1b272921",
      "958772f386e647ce8f00e8114db8532f",
      "f9af4bdf38da428aab44a5c049526f75",
      "210a60069349413ab599b27c640781ad"
     ]
    },
    "id": "_m6uUjjcfbjH",
    "outputId": "85e1fe8d-781b-45b8-94e4-a89136639517"
   },
   "outputs": [
    {
     "data": {
      "application/vnd.jupyter.widget-view+json": {
       "model_id": "ae6f385c73d54af190c9c942922bb661",
       "version_major": 2,
       "version_minor": 0
      },
      "text/plain": [
       "  0%|          | 0/1 [00:00<?, ?ba/s]"
      ]
     },
     "metadata": {},
     "output_type": "display_data"
    },
    {
     "data": {
      "application/vnd.jupyter.widget-view+json": {
       "model_id": "f2439361e6194c25927092fe78531a19",
       "version_major": 2,
       "version_minor": 0
      },
      "text/plain": [
       "  0%|          | 0/1 [00:00<?, ?ba/s]"
      ]
     },
     "metadata": {},
     "output_type": "display_data"
    }
   ],
   "source": [
    "vocabs = timit.map(extract_all_chars, batched=True, batch_size=-1, keep_in_memory=True, remove_columns=timit.column_names[\"train\"])"
   ]
  },
  {
   "cell_type": "markdown",
   "metadata": {
    "id": "7oVgE8RZSJNP"
   },
   "source": [
    "Now, we create the union of all distinct letters in the training dataset and test dataset and convert the resulting list into an enumerated dictionary."
   ]
  },
  {
   "cell_type": "code",
   "execution_count": 35,
   "metadata": {
    "ExecuteTime": {
     "end_time": "2023-05-01T20:10:27.326311Z",
     "start_time": "2023-05-01T20:10:27.311307Z"
    },
    "id": "aQfneNsmlJI0"
   },
   "outputs": [],
   "source": [
    "vocab_list = list(set(vocabs[\"train\"][\"vocab\"][0]) | set(vocabs[\"test\"][\"vocab\"][0]))"
   ]
  },
  {
   "cell_type": "code",
   "execution_count": 36,
   "metadata": {
    "ExecuteTime": {
     "end_time": "2023-05-01T20:10:27.342313Z",
     "start_time": "2023-05-01T20:10:27.327311Z"
    },
    "colab": {
     "base_uri": "https://localhost:8080/"
    },
    "id": "_0kRndSvqaKk",
    "outputId": "1a46d603-29a2-43c3-d9a6-516f4090d2e0"
   },
   "outputs": [
    {
     "data": {
      "text/plain": [
       "{'w': 0,\n",
       " 'g': 1,\n",
       " 'u': 2,\n",
       " 'd': 3,\n",
       " 'a': 4,\n",
       " 'n': 5,\n",
       " \"'\": 6,\n",
       " 'q': 7,\n",
       " 'h': 8,\n",
       " 's': 9,\n",
       " ' ': 10,\n",
       " 'f': 11,\n",
       " 'o': 12,\n",
       " 'l': 13,\n",
       " 'b': 14,\n",
       " 'x': 15,\n",
       " 'c': 16,\n",
       " 'k': 17,\n",
       " 'v': 18,\n",
       " 'm': 19,\n",
       " 'r': 20,\n",
       " 'j': 21,\n",
       " 't': 22,\n",
       " 'p': 23,\n",
       " 'e': 24,\n",
       " 'z': 25,\n",
       " 'y': 26,\n",
       " 'i': 27}"
      ]
     },
     "execution_count": 36,
     "metadata": {},
     "output_type": "execute_result"
    }
   ],
   "source": [
    "vocab_dict = {v: k for k, v in enumerate(vocab_list)}\n",
    "vocab_dict"
   ]
  },
  {
   "cell_type": "markdown",
   "metadata": {
    "id": "JOSzbvs9SXT1"
   },
   "source": [
    "Cool, we see that all letters of the alphabet occur in the dataset (which is not really surprising) and we also extracted the special characters `\" \"` and `'`. Note that we did not exclude those special characters because: \n",
    "\n",
    "- The model has to learn to predict when a word finished or else the model prediction would always be a sequence of chars which would make it impossible to separate words from each other.\n",
    "- In English, we need to keep the `'` character to differentiate between words, *e.g.*, `\"it's\"` and `\"its\"` which have very different meanings."
   ]
  },
  {
   "cell_type": "markdown",
   "metadata": {
    "id": "b1fBRCn-TRaO"
   },
   "source": [
    "To make it clearer that `\" \"` has its own token class, we give it a more visible character `|`. In addition, we also add an \"unknown\" token so that the model can later deal with characters not encountered in Timit's training set. \n",
    "\n",
    "Finally, we also add a padding token that corresponds to CTC's \"*blank token*\". The \"blank token\" is a core component of the CTC algorithm. For more information, please take a look at the \"Alignment\" section [here](https://distill.pub/2017/ctc/)."
   ]
  },
  {
   "cell_type": "code",
   "execution_count": 37,
   "metadata": {
    "ExecuteTime": {
     "end_time": "2023-05-01T20:10:27.388819Z",
     "start_time": "2023-05-01T20:10:27.343314Z"
    },
    "id": "npbIbBoLgaFX"
   },
   "outputs": [],
   "source": [
    "vocab_dict[\"|\"] = vocab_dict[\" \"]\n",
    "del vocab_dict[\" \"]"
   ]
  },
  {
   "cell_type": "code",
   "execution_count": 38,
   "metadata": {
    "ExecuteTime": {
     "end_time": "2023-05-01T20:10:27.420826Z",
     "start_time": "2023-05-01T20:10:27.389819Z"
    },
    "colab": {
     "base_uri": "https://localhost:8080/"
    },
    "id": "znF0bNunsjbl",
    "outputId": "95f17f96-1a02-47f1-8ddf-f5322b5dc663"
   },
   "outputs": [
    {
     "data": {
      "text/plain": [
       "30"
      ]
     },
     "execution_count": 38,
     "metadata": {},
     "output_type": "execute_result"
    }
   ],
   "source": [
    "vocab_dict[\"[UNK]\"] = len(vocab_dict)\n",
    "vocab_dict[\"[PAD]\"] = len(vocab_dict)\n",
    "len(vocab_dict)"
   ]
  },
  {
   "cell_type": "markdown",
   "metadata": {
    "id": "SFPGfet8U5sL"
   },
   "source": [
    "Cool, now our vocabulary is complete and consists of 30 tokens, which means that the linear layer that we will add on top of the pretrained Wav2Vec2 checkpoint will have an output dimension of 30."
   ]
  },
  {
   "cell_type": "markdown",
   "metadata": {
    "id": "1CujRgBNVRaD"
   },
   "source": [
    "Let's now save the vocabulary as a json file."
   ]
  },
  {
   "cell_type": "code",
   "execution_count": 39,
   "metadata": {
    "ExecuteTime": {
     "end_time": "2023-05-01T20:10:27.452833Z",
     "start_time": "2023-05-01T20:10:27.421826Z"
    },
    "id": "ehyUoh9vk191"
   },
   "outputs": [],
   "source": [
    "import json\n",
    "with open('vocab.json', 'w') as vocab_file:\n",
    "    json.dump(vocab_dict, vocab_file)"
   ]
  },
  {
   "cell_type": "markdown",
   "metadata": {
    "id": "SHJDaKlIVVim"
   },
   "source": [
    "In a final step, we use the json file to instantiate an object of the `Wav2Vec2CTCTokenizer` class."
   ]
  },
  {
   "cell_type": "code",
   "execution_count": 40,
   "metadata": {
    "ExecuteTime": {
     "end_time": "2023-05-01T20:10:27.484840Z",
     "start_time": "2023-05-01T20:10:27.453834Z"
    },
    "id": "xriFGEWQkO4M"
   },
   "outputs": [],
   "source": [
    "from transformers import Wav2Vec2CTCTokenizer\n",
    "\n",
    "tokenizer = Wav2Vec2CTCTokenizer(\"./vocab.json\", unk_token=\"[UNK]\", pad_token=\"[PAD]\", word_delimiter_token=\"|\")"
   ]
  },
  {
   "cell_type": "markdown",
   "metadata": {
    "id": "P6L2EVWwIazG"
   },
   "source": [
    "If one wants to re-use the just created tokenizer with the fine-tuned model of this notebook, it is strongly advised to upload the `tokenizer` to the [🤗 Hub](https://huggingface.co/). Let's call the repo to which we will upload the files\n",
    "`\"wav2vec2-base-timit-demo-colab\"`:"
   ]
  },
  {
   "cell_type": "code",
   "execution_count": 41,
   "metadata": {
    "ExecuteTime": {
     "end_time": "2023-05-01T20:10:27.516847Z",
     "start_time": "2023-05-01T20:10:27.485840Z"
    },
    "id": "1mbffBdxIl0M"
   },
   "outputs": [],
   "source": [
    "repo_name = \"wav2vec2-base-timit-demo-google-colab\""
   ]
  },
  {
   "cell_type": "markdown",
   "metadata": {
    "id": "pmpG2ftFIu3B"
   },
   "source": [
    "and upload the tokenizer to the [🤗 Hub](https://huggingface.co/)."
   ]
  },
  {
   "cell_type": "code",
   "execution_count": null,
   "metadata": {
    "ExecuteTime": {
     "start_time": "2023-05-01T20:10:27.262Z"
    },
    "id": "ScBMUz8jIxJi"
   },
   "outputs": [],
   "source": [
    "# tokenizer.push_to_hub(repo_name)"
   ]
  },
  {
   "cell_type": "markdown",
   "metadata": {
    "id": "KvL12DrNV4cx"
   },
   "source": [
    "Great, you can see the just created repository under `https://huggingface.co/<your-username>/wav2vec2-base-timit-demo-colab`"
   ]
  },
  {
   "cell_type": "markdown",
   "metadata": {
    "id": "mYcIiR2FQ96i"
   },
   "source": [
    "### Create Wav2Vec2 Feature Extractor"
   ]
  },
  {
   "cell_type": "markdown",
   "metadata": {
    "id": "Y6mDEyW719rx"
   },
   "source": [
    "Speech is a continuous signal and to be treated by computers, it first has to be discretized, which is usually called **sampling**. The sampling rate hereby plays an important role in that it defines how many data points of the speech signal are measured per second. Therefore, sampling with a higher sampling rate results in a better approximation of the *real* speech signal but also necessitates more values per second.\n",
    "\n",
    "A pretrained checkpoint expects its input data to have been sampled more or less from the same distribution as the data it was trained on. The same speech signals sampled at two different rates have a very different distribution, *e.g.*, doubling the sampling rate results in data points being twice as long. Thus, \n",
    "before fine-tuning a pretrained checkpoint of an ASR model, it is crucial to verify that the sampling rate of the data that was used to pretrain the model matches the sampling rate of the dataset used to fine-tune the model.\n",
    "\n",
    "Wav2Vec2 was pretrained on the audio data of [LibriSpeech](https://huggingface.co/datasets/librispeech_asr) and LibriVox which both were sampling with 16kHz. Our fine-tuning dataset, [Timit](hhtps://huggingface.co/datasets/timit_asr), was luckily also sampled with 16kHz. If the fine-tuning dataset would have been sampled with a rate lower or higher than 16kHz, we first would have had to up or downsample the speech signal to match the sampling rate of the data used for pretraining. \n",
    "\n"
   ]
  },
  {
   "cell_type": "markdown",
   "metadata": {
    "id": "KuUbPW7oV-B5"
   },
   "source": [
    "A Wav2Vec2 feature extractor object requires the following parameters to be instantiated:\n",
    "\n",
    "- `feature_size`: Speech models take a sequence of feature vectors as an input. While the length of this sequence obviously varies, the feature size should not. In the case of Wav2Vec2, the feature size is 1 because the model was trained on the raw speech signal ${}^2$.\n",
    "- `sampling_rate`: The sampling rate at which the model is trained on.\n",
    "- `padding_value`: For batched inference, shorter inputs need to be padded with a specific value\n",
    "- `do_normalize`: Whether the input should be *zero-mean-unit-variance* normalized or not. Usually, speech models perform better when normalizing the input\n",
    "- `return_attention_mask`: Whether the model should make use of an `attention_mask` for batched inference. In general, models should **always** make use of the `attention_mask` to mask padded tokens. However, due to a very specific design choice of `Wav2Vec2`'s \"base\" checkpoint, better results are achieved when using no `attention_mask`. This is **not** recommended for other speech models. For more information, one can take a look at [this](https://github.com/pytorch/fairseq/issues/3227) issue. **Important** If you want to use this notebook to fine-tune [large-lv60](https://huggingface.co/facebook/wav2vec2-large-lv60), this parameter should be set to `True`."
   ]
  },
  {
   "cell_type": "code",
   "execution_count": 42,
   "metadata": {
    "ExecuteTime": {
     "end_time": "2023-05-01T20:11:36.297975Z",
     "start_time": "2023-05-01T20:11:36.285972Z"
    },
    "id": "kAR0-2KLkopp"
   },
   "outputs": [],
   "source": [
    "from transformers import Wav2Vec2FeatureExtractor\n",
    "\n",
    "feature_extractor = Wav2Vec2FeatureExtractor(feature_size=1, sampling_rate=16000, padding_value=0.0, do_normalize=True, return_attention_mask=False)"
   ]
  },
  {
   "cell_type": "markdown",
   "metadata": {
    "id": "qUETetgqYC3W"
   },
   "source": [
    "Great, Wav2Vec2's feature extraction pipeline is thereby fully defined!\n",
    "\n",
    "To make the usage of Wav2Vec2 as user-friendly as possible, the feature extractor and tokenizer are *wrapped* into a single `Wav2Vec2Processor` class so that one only needs a `model` and `processor` object."
   ]
  },
  {
   "cell_type": "code",
   "execution_count": 43,
   "metadata": {
    "ExecuteTime": {
     "end_time": "2023-05-01T20:11:36.329982Z",
     "start_time": "2023-05-01T20:11:36.298975Z"
    },
    "id": "KYZtoW-tlZgl"
   },
   "outputs": [],
   "source": [
    "from transformers import Wav2Vec2Processor\n",
    "\n",
    "processor = Wav2Vec2Processor(feature_extractor=feature_extractor, tokenizer=tokenizer)"
   ]
  },
  {
   "cell_type": "markdown",
   "metadata": {
    "id": "DrKnYuvDIoOO"
   },
   "source": [
    "Next, we can prepare the dataset."
   ]
  },
  {
   "cell_type": "markdown",
   "metadata": {
    "id": "YFmShnl7RE35"
   },
   "source": [
    "### Preprocess Data\n",
    "\n",
    "So far, we have not looked at the actual values of the speech signal but just the transcription. In addition to `'text'`, our datasets include two more column names `'file'` and `'audio'`. `'file'` states the absolute path of the audio file. Let's take a look."
   ]
  },
  {
   "cell_type": "code",
   "execution_count": 44,
   "metadata": {
    "ExecuteTime": {
     "end_time": "2023-05-01T20:11:36.376998Z",
     "start_time": "2023-05-01T20:11:36.330982Z"
    },
    "colab": {
     "base_uri": "https://localhost:8080/",
     "height": 35
    },
    "id": "TTCS7W6XJ9BG",
    "outputId": "d509cd83-036d-41be-f5e4-e4e4c85cfca2"
   },
   "outputs": [
    {
     "data": {
      "text/plain": [
       "'C:\\\\Users\\\\dhc40\\\\.cache\\\\huggingface\\\\datasets\\\\downloads\\\\extracted\\\\efdd28cc02a72565604f0c2844f26268ad7f238ad5ea29a5720e31e594fcc2df\\\\data\\\\TRAIN\\\\DR4\\\\MMDM0\\\\SI681.WAV'"
      ]
     },
     "execution_count": 44,
     "metadata": {},
     "output_type": "execute_result"
    }
   ],
   "source": [
    "timit[\"train\"][0][\"file\"]"
   ]
  },
  {
   "cell_type": "markdown",
   "metadata": {
    "id": "BwxprOw4Nzrl"
   },
   "source": [
    "`Wav2Vec2` expects the input in the format of a 1-dimensional array of 16 kHz. This means that the audio file has to be loaded and resampled.\n",
    "\n",
    " Thankfully, `datasets` does this automatically when calling the column `audio`. Let try it out. "
   ]
  },
  {
   "cell_type": "code",
   "execution_count": 45,
   "metadata": {
    "ExecuteTime": {
     "end_time": "2023-05-01T20:11:36.408981Z",
     "start_time": "2023-05-01T20:11:36.378973Z"
    },
    "colab": {
     "base_uri": "https://localhost:8080/"
    },
    "id": "mk9QHuSsN7lf",
    "outputId": "d661abfb-3e36-41ef-8df8-943c2e704e8e"
   },
   "outputs": [
    {
     "data": {
      "text/plain": [
       "{'path': 'C:\\\\Users\\\\dhc40\\\\.cache\\\\huggingface\\\\datasets\\\\downloads\\\\extracted\\\\efdd28cc02a72565604f0c2844f26268ad7f238ad5ea29a5720e31e594fcc2df\\\\data\\\\TRAIN\\\\DR4\\\\MMDM0\\\\SI681.WAV',\n",
       " 'array': array([-2.1362305e-04,  6.1035156e-05,  3.0517578e-05, ...,\n",
       "        -3.0517578e-05, -9.1552734e-05, -6.1035156e-05], dtype=float32),\n",
       " 'sampling_rate': 16000}"
      ]
     },
     "execution_count": 45,
     "metadata": {},
     "output_type": "execute_result"
    }
   ],
   "source": [
    "timit[\"train\"][0][\"audio\"]"
   ]
  },
  {
   "cell_type": "markdown",
   "metadata": {
    "id": "wSBIGEiaKHMn"
   },
   "source": [
    "We can see that the audio file has automatically been loaded. This is thanks to the new [`\"Audio\"` feature](https://huggingface.co/docs/datasets/package_reference/main_classes.html?highlight=audio#datasets.Audio) introduced in `datasets == 4.13.3`, which loads and resamples audio files on-the-fly upon calling.\n",
    "\n",
    "The sampling rate is set to 16kHz which is what `Wav2Vec2` expects as an input."
   ]
  },
  {
   "cell_type": "markdown",
   "metadata": {
    "id": "SOckzFd4Mbzq"
   },
   "source": [
    "Great, let's listen to a couple of audio files to better understand the dataset and verify that the audio was correctly loaded. \n",
    "\n",
    "**Note**: *You can click the following cell a couple of times to listen to different speech samples.*"
   ]
  },
  {
   "cell_type": "code",
   "execution_count": 46,
   "metadata": {
    "ExecuteTime": {
     "end_time": "2023-05-01T20:11:36.441472Z",
     "start_time": "2023-05-01T20:11:36.410019Z"
    },
    "colab": {
     "base_uri": "https://localhost:8080/",
     "height": 93
    },
    "id": "dueM6U7Ev0OA",
    "outputId": "349270d5-4123-4689-b907-fff047a23124"
   },
   "outputs": [
    {
     "name": "stdout",
     "output_type": "stream",
     "text": [
      "rich looked for spotted hyenas and jaguars on the safari \n"
     ]
    },
    {
     "data": {
      "text/html": [
       "\n",
       "                <audio  controls=\"controls\" autoplay=\"autoplay\">\n",
       "                    <source src=\"data:audio/wav;base64,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\" type=\"audio/wav\" />\n",
       "                    Your browser does not support the audio element.\n",
       "                </audio>\n",
       "              "
      ],
      "text/plain": [
       "<IPython.lib.display.Audio object>"
      ]
     },
     "execution_count": 46,
     "metadata": {},
     "output_type": "execute_result"
    }
   ],
   "source": [
    "import IPython.display as ipd\n",
    "import numpy as np\n",
    "import random\n",
    "\n",
    "rand_int = random.randint(0, len(timit[\"train\"]))\n",
    "\n",
    "print(timit[\"train\"][rand_int][\"text\"])\n",
    "ipd.Audio(data=np.asarray(timit[\"train\"][rand_int][\"audio\"][\"array\"]), autoplay=True, rate=16000)"
   ]
  },
  {
   "cell_type": "markdown",
   "metadata": {
    "id": "1MaL9J2dNVtG"
   },
   "source": [
    "It can be heard, that the speakers change along with their speaking rate, accent, etc. Overall, the recordings sound relatively clear though, which is to be expected from a read speech corpus.\n",
    "\n",
    "Let's do a final check that the data is correctly prepared, by printing the shape of the speech input, its transcription, and the corresponding sampling rate.\n",
    "\n",
    "**Note**: *You can click the following cell a couple of times to verify multiple samples.*"
   ]
  },
  {
   "cell_type": "code",
   "execution_count": 47,
   "metadata": {
    "ExecuteTime": {
     "end_time": "2023-05-01T20:11:36.472464Z",
     "start_time": "2023-05-01T20:11:36.442457Z"
    },
    "colab": {
     "base_uri": "https://localhost:8080/"
    },
    "id": "1Po2g7YPuRTx",
    "outputId": "719a9ee1-1c33-4955-9a43-0ac7fbde1454"
   },
   "outputs": [
    {
     "name": "stdout",
     "output_type": "stream",
     "text": [
      "Target text: make it come off all right \n",
      "Input array shape: (25088,)\n",
      "Sampling rate: 16000\n"
     ]
    }
   ],
   "source": [
    "rand_int = random.randint(0, len(timit[\"train\"]))\n",
    "\n",
    "print(\"Target text:\", timit[\"train\"][rand_int][\"text\"])\n",
    "print(\"Input array shape:\", np.asarray(timit[\"train\"][rand_int][\"audio\"][\"array\"]).shape)\n",
    "print(\"Sampling rate:\", timit[\"train\"][rand_int][\"audio\"][\"sampling_rate\"])"
   ]
  },
  {
   "cell_type": "markdown",
   "metadata": {
    "id": "M9teZcSwOBJ4"
   },
   "source": [
    "Good! Everything looks fine - the data is a 1-dimensional array, the sampling rate always corresponds to 16kHz, and the target text is normalized."
   ]
  },
  {
   "cell_type": "markdown",
   "metadata": {
    "id": "k3Pbn5WvOYZF"
   },
   "source": [
    "Finally, we can process the dataset to the format expected by the model for training. We will make use of the `map(...)` function.\n",
    "\n",
    "First, we load and resample the audio data, simply by calling `batch[\"audio\"]`.\n",
    "Second, we extract the `input_values` from the loaded audio file. In our case, the `Wav2Vec2Processor` only normalizes the data. For other speech models, however, this step can include more complex feature extraction, such as [Log-Mel feature extraction](https://en.wikipedia.org/wiki/Mel-frequency_cepstrum).\n",
    "Third, we encode the transcriptions to label ids.\n",
    "\n",
    "**Note**: This mapping function is a good example of how the `Wav2Vec2Processor` class should be used. In \"normal\" context, calling `processor(...)` is redirected to `Wav2Vec2FeatureExtractor`'s call method. When wrapping the processor into the `as_target_processor` context, however, the same method is redirected to `Wav2Vec2CTCTokenizer`'s call method.\n",
    "For more information please check the [docs](https://huggingface.co/transformers/master/model_doc/wav2vec2.html#transformers.Wav2Vec2Processor.__call__)."
   ]
  },
  {
   "cell_type": "code",
   "execution_count": 48,
   "metadata": {
    "ExecuteTime": {
     "end_time": "2023-05-01T20:11:36.504472Z",
     "start_time": "2023-05-01T20:11:36.473610Z"
    },
    "id": "eJY7I0XAwe9p"
   },
   "outputs": [],
   "source": [
    "def prepare_dataset(batch):\n",
    "    audio = batch[\"audio\"]\n",
    "\n",
    "    # batched output is \"un-batched\" to ensure mapping is correct\n",
    "    batch[\"input_values\"] = processor(audio[\"array\"], sampling_rate=audio[\"sampling_rate\"]).input_values[0]\n",
    "    batch[\"input_length\"] = len(batch[\"input_values\"])\n",
    "    \n",
    "    with processor.as_target_processor():\n",
    "        batch[\"labels\"] = processor(batch[\"text\"]).input_ids\n",
    "    return batch"
   ]
  },
  {
   "cell_type": "markdown",
   "metadata": {
    "id": "hVMZhH4-nP8-"
   },
   "source": [
    "Let's apply the data preparation function to all examples."
   ]
  },
  {
   "cell_type": "code",
   "execution_count": 50,
   "metadata": {
    "ExecuteTime": {
     "end_time": "2023-05-01T20:13:51.954658Z",
     "start_time": "2023-05-01T20:13:34.787451Z"
    },
    "id": "-np9xYK-wl8q"
   },
   "outputs": [
    {
     "data": {
      "application/vnd.jupyter.widget-view+json": {
       "model_id": "317755037b344343a3bf117c00178113",
       "version_major": 2,
       "version_minor": 0
      },
      "text/plain": [
       "0ex [00:00, ?ex/s]"
      ]
     },
     "metadata": {},
     "output_type": "display_data"
    },
    {
     "data": {
      "application/vnd.jupyter.widget-view+json": {
       "model_id": "5109f58b3b2e40a9a690d4677447aa59",
       "version_major": 2,
       "version_minor": 0
      },
      "text/plain": [
       "0ex [00:00, ?ex/s]"
      ]
     },
     "metadata": {},
     "output_type": "display_data"
    }
   ],
   "source": [
    "timit = timit.map(prepare_dataset, remove_columns=timit.column_names[\"train\"])"
   ]
  },
  {
   "cell_type": "code",
   "execution_count": null,
   "metadata": {
    "ExecuteTime": {
     "end_time": "2023-05-01T20:11:39.267352Z",
     "start_time": "2023-05-01T20:11:39.267352Z"
    },
    "colab": {
     "base_uri": "https://localhost:8080/"
    },
    "id": "lGXE6UwOxFGr",
    "outputId": "57d2afce-0f6a-4217-cbfd-59ed00483430"
   },
   "outputs": [],
   "source": [
    "timit['train']['input_values']"
   ]
  },
  {
   "cell_type": "markdown",
   "metadata": {
    "id": "p_MuJSH8nTuQ"
   },
   "source": [
    "**Note**: Currently `datasets` make use of [`torchaudio`](https://pytorch.org/audio/stable/index.html) and [`librosa`](https://librosa.org/doc/latest/index.html) for audio loading and resampling. If you wish to implement your own costumized data loading/sampling, feel free to just make use of the `\"path\"` column instead and disregard the `\"audio\"` column."
   ]
  },
  {
   "cell_type": "markdown",
   "metadata": {
    "id": "M4J0bU1WsvAg"
   },
   "source": [
    "Long input sequences require a lot of memory. Since `Wav2Vec2` is based on `self-attention` the memory requirement scales quadratically with the input length for long input sequences (*cf.* with [this](https://www.reddit.com/r/MachineLearning/comments/genjvb/d_why_is_the_maximum_input_sequence_length_of/) reddit post). For this demo, let's filter all sequences that are longer than 4 seconds out of the training dataset."
   ]
  },
  {
   "cell_type": "code",
   "execution_count": null,
   "metadata": {
    "ExecuteTime": {
     "end_time": "2023-05-01T20:11:39.268352Z",
     "start_time": "2023-05-01T20:11:39.268352Z"
    },
    "colab": {
     "base_uri": "https://localhost:8080/"
    },
    "id": "nqGobEPUvG3v",
    "outputId": "0cae58f9-2cd9-405a-ad60-7bb31e649911"
   },
   "outputs": [],
   "source": [
    "max_input_length_in_sec = 4.0\n",
    "timit[\"train\"] = timit[\"train\"].filter(lambda x: x < max_input_length_in_sec * processor.feature_extractor.sampling_rate, input_columns=[\"input_length\"])"
   ]
  },
  {
   "cell_type": "markdown",
   "metadata": {
    "id": "25Genil2v_Br"
   },
   "source": [
    "Awesome, now we are ready to start training!"
   ]
  },
  {
   "cell_type": "markdown",
   "metadata": {
    "id": "gYlQkKVoRUos"
   },
   "source": [
    "## Training & Evaluation\n",
    "\n",
    "The data is processed so that we are ready to start setting up the training pipeline. We will make use of 🤗's [Trainer](https://huggingface.co/transformers/master/main_classes/trainer.html?highlight=trainer) for which we essentially need to do the following:\n",
    "\n",
    "- Define a data collator. In contrast to most NLP models, Wav2Vec2 has a much larger input length than output length. *E.g.*, a sample of input length 50000 has an output length of no more than 100. Given the large input sizes, it is much more efficient to pad the training batches dynamically meaning that all training samples should only be padded to the longest sample in their batch and not the overall longest sample. Therefore, fine-tuning Wav2Vec2 requires a special padding data collator, which we will define below\n",
    "\n",
    "- Evaluation metric. During training, the model should be evaluated on the word error rate. We should define a `compute_metrics` function accordingly\n",
    "\n",
    "- Load a pretrained checkpoint. We need to load a pretrained checkpoint and configure it correctly for training.\n",
    "\n",
    "- Define the training configuration.\n",
    "\n",
    "After having fine-tuned the model, we will correctly evaluate it on the test data and verify that it has indeed learned to correctly transcribe speech."
   ]
  },
  {
   "cell_type": "markdown",
   "metadata": {
    "id": "Slk403unUS91"
   },
   "source": [
    "### Set-up Trainer\n",
    "\n",
    "Let's start by defining the data collator. The code for the data collator was copied from [this example](https://github.com/huggingface/transformers/blob/9a06b6b11bdfc42eea08fa91d0c737d1863c99e3/examples/research_projects/wav2vec2/run_asr.py#L81).\n",
    "\n",
    "Without going into too many details, in contrast to the common data collators, this data collator treats the `input_values` and `labels` differently and thus applies to separate padding functions on them (again making use of Wav2Vec2's context manager). This is necessary because in speech input and output are of different modalities meaning that they should not be treated by the same padding function.\n",
    "Analogous to the common data collators, the padding tokens in the labels with `-100` so that those tokens are **not** taken into account when computing the loss."
   ]
  },
  {
   "cell_type": "code",
   "execution_count": null,
   "metadata": {
    "ExecuteTime": {
     "end_time": "2023-05-01T20:11:39.269352Z",
     "start_time": "2023-05-01T20:11:39.269352Z"
    },
    "id": "tborvC9hx88e"
   },
   "outputs": [],
   "source": [
    "import torch\n",
    "\n",
    "from dataclasses import dataclass, field\n",
    "from typing import Any, Dict, List, Optional, Union\n",
    "\n",
    "@dataclass\n",
    "class DataCollatorCTCWithPadding:\n",
    "    \"\"\"\n",
    "    Data collator that will dynamically pad the inputs received.\n",
    "    Args:\n",
    "        processor (:class:`~transformers.Wav2Vec2Processor`)\n",
    "            The processor used for proccessing the data.\n",
    "        padding (:obj:`bool`, :obj:`str` or :class:`~transformers.tokenization_utils_base.PaddingStrategy`, `optional`, defaults to :obj:`True`):\n",
    "            Select a strategy to pad the returned sequences (according to the model's padding side and padding index)\n",
    "            among:\n",
    "            * :obj:`True` or :obj:`'longest'`: Pad to the longest sequence in the batch (or no padding if only a single\n",
    "              sequence if provided).\n",
    "            * :obj:`'max_length'`: Pad to a maximum length specified with the argument :obj:`max_length` or to the\n",
    "              maximum acceptable input length for the model if that argument is not provided.\n",
    "            * :obj:`False` or :obj:`'do_not_pad'` (default): No padding (i.e., can output a batch with sequences of\n",
    "              different lengths).\n",
    "    \"\"\"\n",
    "\n",
    "    processor: Wav2Vec2Processor\n",
    "    padding: Union[bool, str] = True\n",
    "\n",
    "    def __call__(self, features: List[Dict[str, Union[List[int], torch.Tensor]]]) -> Dict[str, torch.Tensor]:\n",
    "        # split inputs and labels since they have to be of different lenghts and need\n",
    "        # different padding methods\n",
    "        input_features = [{\"input_values\": feature[\"input_values\"]} for feature in features]\n",
    "        label_features = [{\"input_ids\": feature[\"labels\"]} for feature in features]\n",
    "\n",
    "        batch = self.processor.pad(\n",
    "            input_features,\n",
    "            padding=self.padding,\n",
    "            return_tensors=\"pt\",\n",
    "        )\n",
    "        with self.processor.as_target_processor():\n",
    "            labels_batch = self.processor.pad(\n",
    "                label_features,\n",
    "                padding=self.padding,\n",
    "                return_tensors=\"pt\",\n",
    "            )\n",
    "\n",
    "        # replace padding with -100 to ignore loss correctly\n",
    "        labels = labels_batch[\"input_ids\"].masked_fill(labels_batch.attention_mask.ne(1), -100)\n",
    "\n",
    "        batch[\"labels\"] = labels\n",
    "\n",
    "        return batch"
   ]
  },
  {
   "cell_type": "code",
   "execution_count": null,
   "metadata": {
    "ExecuteTime": {
     "end_time": "2023-05-01T20:11:39.270352Z",
     "start_time": "2023-05-01T20:11:39.270352Z"
    },
    "id": "lbQf5GuZyQ4_"
   },
   "outputs": [],
   "source": [
    "data_collator = DataCollatorCTCWithPadding(processor=processor, padding=True)"
   ]
  },
  {
   "cell_type": "markdown",
   "metadata": {
    "id": "xO-Zdj-5cxXp"
   },
   "source": [
    "Next, the evaluation metric is defined. As mentioned earlier, the \n",
    "predominant metric in ASR is the word error rate (WER), hence we will use it in this notebook as well."
   ]
  },
  {
   "cell_type": "code",
   "execution_count": null,
   "metadata": {
    "ExecuteTime": {
     "end_time": "2023-05-01T20:11:39.270352Z",
     "start_time": "2023-05-01T20:11:39.270352Z"
    },
    "id": "9Xsux2gmyXso"
   },
   "outputs": [],
   "source": [
    "wer_metric = load_metric(\"wer\")"
   ]
  },
  {
   "cell_type": "markdown",
   "metadata": {
    "id": "E1qZU5p-deqB"
   },
   "source": [
    "The model will return a sequence of logit vectors:\n",
    "$\\mathbf{y}_1, \\ldots, \\mathbf{y}_m$ with $\\mathbf{y}_1 = f_{\\theta}(x_1, \\ldots, x_n)[0]$ and $n >> m$.\n",
    "\n",
    "A logit vector $\\mathbf{y}_1$ contains the log-odds for each word in the vocabulary we defined earlier, thus $\\text{len}(\\mathbf{y}_i) =$ `config.vocab_size`. We are interested in the most likely prediction of the model and thus take the `argmax(...)` of the logits. Also, we transform the encoded labels back to the original string by replacing `-100` with the `pad_token_id` and decoding the ids while making sure that consecutive tokens are **not** grouped to the same token in CTC style ${}^1$."
   ]
  },
  {
   "cell_type": "code",
   "execution_count": null,
   "metadata": {
    "ExecuteTime": {
     "end_time": "2023-05-01T20:11:39.271352Z",
     "start_time": "2023-05-01T20:11:39.271352Z"
    },
    "id": "1XZ-kjweyTy_"
   },
   "outputs": [],
   "source": [
    "def compute_metrics(pred):\n",
    "    pred_logits = pred.predictions\n",
    "    pred_ids = np.argmax(pred_logits, axis=-1)\n",
    "\n",
    "    pred.label_ids[pred.label_ids == -100] = processor.tokenizer.pad_token_id\n",
    "\n",
    "    pred_str = processor.batch_decode(pred_ids)\n",
    "    # we do not want to group tokens when computing the metrics\n",
    "    label_str = processor.batch_decode(pred.label_ids, group_tokens=False)\n",
    "\n",
    "    wer = wer_metric.compute(predictions=pred_str, references=label_str)\n",
    "\n",
    "    return {\"wer\": wer}"
   ]
  },
  {
   "cell_type": "markdown",
   "metadata": {
    "id": "Xmgrx4bRwLIH"
   },
   "source": [
    "Now, we can load the pretrained `Wav2Vec2` checkpoint. The tokenizer's `pad_token_id` must be to define the model's `pad_token_id` or in the case of `Wav2Vec2ForCTC` also CTC's *blank token* ${}^2$. To save GPU memory, we enable PyTorch's [gradient checkpointing](https://pytorch.org/docs/stable/checkpoint.html) and also set the loss reduction to \"*mean*\"."
   ]
  },
  {
   "cell_type": "code",
   "execution_count": null,
   "metadata": {
    "ExecuteTime": {
     "end_time": "2023-05-01T20:11:39.273353Z",
     "start_time": "2023-05-01T20:11:39.273353Z"
    },
    "colab": {
     "base_uri": "https://localhost:8080/"
    },
    "id": "e7cqAWIayn6w",
    "outputId": "0b87744a-98a0-4198-c9f6-2a0f46365058"
   },
   "outputs": [],
   "source": [
    "from transformers import Wav2Vec2ForCTC\n",
    "\n",
    "model = Wav2Vec2ForCTC.from_pretrained(\n",
    "    \"facebook/wav2vec2-base\",\n",
    "    ctc_loss_reduction=\"mean\", \n",
    "    pad_token_id=processor.tokenizer.pad_token_id,\n",
    ")"
   ]
  },
  {
   "cell_type": "markdown",
   "metadata": {
    "id": "1DwR3XLSzGDD"
   },
   "source": [
    "The first component of Wav2Vec2 consists of a stack of CNN layers that are used to extract acoustically meaningful - but contextually independent - features from the raw speech signal. This part of the model has already been sufficiently trained during pretrainind and as stated in the [paper](https://arxiv.org/abs/2006.11477) does not need to be fine-tuned anymore. \n",
    "Thus, we can set the `requires_grad` to `False` for all parameters of the *feature extraction* part."
   ]
  },
  {
   "cell_type": "code",
   "execution_count": null,
   "metadata": {
    "ExecuteTime": {
     "end_time": "2023-05-01T20:11:39.273353Z",
     "start_time": "2023-05-01T20:11:39.273353Z"
    },
    "id": "Et_NUAZjWppc"
   },
   "outputs": [],
   "source": [
    "model.freeze_feature_encoder()"
   ]
  },
  {
   "cell_type": "markdown",
   "metadata": {
    "id": "lD4aGhQM0K-D"
   },
   "source": [
    "In a final step, we define all parameters related to training. \n",
    "To give more explanation on some of the parameters:\n",
    "- `group_by_length` makes training more efficient by grouping training samples of similar input length into one batch. This can significantly speed up training time by heavily reducing the overall number of useless padding tokens that are passed through the model\n",
    "- `learning_rate` and `weight_decay` were heuristically tuned until fine-tuning has become stable. Note that those parameters strongly depend on the Timit dataset and might be suboptimal for other speech datasets.\n",
    "\n",
    "For more explanations on other parameters, one can take a look at the [docs](https://huggingface.co/transformers/master/main_classes/trainer.html?highlight=trainer#trainingarguments).\n",
    "\n",
    "During training, a checkpoint will be uploaded asynchronously to the hub every 400 training steps. It allows you to also play around with the demo widget even while your model is still training.\n",
    "\n",
    "**Note**: If one does not want to upload the model checkpoints to the hub, simply set `push_to_hub=False`."
   ]
  },
  {
   "cell_type": "code",
   "execution_count": null,
   "metadata": {
    "ExecuteTime": {
     "end_time": "2023-05-01T20:11:39.274353Z",
     "start_time": "2023-05-01T20:11:39.274353Z"
    },
    "colab": {
     "base_uri": "https://localhost:8080/"
    },
    "id": "KbeKSV7uzGPP",
    "outputId": "502e0963-4b94-40c9-915a-531b35ef7e8a"
   },
   "outputs": [],
   "source": [
    "from transformers import TrainingArguments\n",
    "\n",
    "training_args = TrainingArguments(\n",
    "  output_dir=repo_name,\n",
    "  group_by_length=True,\n",
    "  per_device_train_batch_size=8,\n",
    "  evaluation_strategy=\"steps\",\n",
    "  num_train_epochs=30,\n",
    "  fp16=True,\n",
    "  gradient_checkpointing=True,\n",
    "  save_steps=500,\n",
    "  eval_steps=500,\n",
    "  logging_steps=500,\n",
    "  learning_rate=1e-4,\n",
    "  weight_decay=0.005,\n",
    "  warmup_steps=1000,\n",
    "  save_total_limit=2,\n",
    ")"
   ]
  },
  {
   "cell_type": "markdown",
   "metadata": {
    "id": "OsW-WZcL1ZtN"
   },
   "source": [
    "Now, all instances can be passed to Trainer and we are ready to start training!"
   ]
  },
  {
   "cell_type": "code",
   "execution_count": null,
   "metadata": {
    "ExecuteTime": {
     "end_time": "2023-05-01T20:11:39.275354Z",
     "start_time": "2023-05-01T20:11:39.275354Z"
    },
    "colab": {
     "base_uri": "https://localhost:8080/"
    },
    "id": "rY7vBmFCPFgC",
    "outputId": "7d004e64-8aa4-49d1-8635-f6dd920470b1"
   },
   "outputs": [],
   "source": [
    "from transformers import Trainer\n",
    "\n",
    "trainer = Trainer(\n",
    "    model=model,\n",
    "    data_collator=data_collator,\n",
    "    args=training_args,\n",
    "    compute_metrics=compute_metrics,\n",
    "    train_dataset=timit[\"train\"],\n",
    "    eval_dataset=timit[\"test\"],\n",
    "    tokenizer=processor.feature_extractor,\n",
    ")"
   ]
  },
  {
   "cell_type": "markdown",
   "metadata": {
    "id": "UoXBx1JAA0DX"
   },
   "source": [
    "\n",
    "\n",
    "---\n",
    "\n",
    "${}^1$ To allow models to become independent of the speaker rate, in CTC, consecutive tokens that are identical are simply grouped as a single token. However, the encoded labels should not be grouped when decoding since they don't correspond to the predicted tokens of the model, which is why the `group_tokens=False` parameter has to be passed. If we wouldn't pass this parameter a word like `\"hello\"` would incorrectly be encoded, and decoded as `\"helo\"`.\n",
    "\n",
    "${}^2$ The blank token allows the model to predict a word, such as `\"hello\"` by forcing it to insert the blank token between the two l's. A CTC-conform prediction of `\"hello\"` of our model would be `[PAD] [PAD] \"h\" \"e\" \"e\" \"l\" \"l\" [PAD] \"l\" \"o\" \"o\" [PAD]`."
   ]
  },
  {
   "cell_type": "markdown",
   "metadata": {
    "id": "rpvZHM1xReIW"
   },
   "source": [
    "### Training"
   ]
  },
  {
   "cell_type": "markdown",
   "metadata": {
    "id": "j-3oKSzZ1hGq"
   },
   "source": [
    "Training will take between 90 and 270 minutes depending on the GPU allocated to this notebook. While the trained model yields satisfying results on *Timit*'s test data, it is by no means an optimally fine-tuned model. The purpose of this notebook is to demonstrate how Wav2Vec2's [base](https://huggingface.co/facebook/wav2vec2-base), [large](https://huggingface.co/facebook/wav2vec2-large), and [large-lv60](https://huggingface.co/facebook/wav2vec2-large-lv60) checkpoints can be fine-tuned on any English dataset.\n",
    "\n",
    "In case you want to use this google colab to fine-tune your model, you should make sure that your training doesn't stop due to inactivity. A simple hack to prevent this is to paste the following code into the console of this tab (*right mouse click -> inspect -> Console tab and insert code*)."
   ]
  },
  {
   "cell_type": "markdown",
   "metadata": {
    "id": "VYYAvgkW4P0m"
   },
   "source": [
    "```javascript\n",
    "function ConnectButton(){\n",
    "    console.log(\"Connect pushed\"); \n",
    "    document.querySelector(\"#top-toolbar > colab-connect-button\").shadowRoot.querySelector(\"#connect\").click() \n",
    "}\n",
    "setInterval(ConnectButton,60000);\n",
    "```"
   ]
  },
  {
   "cell_type": "markdown",
   "metadata": {
    "id": "PmY6yqd1zvzU"
   },
   "source": [
    "Depending on what GPU was allocated to your google colab it might be possible that you are seeing an `\"out-of-memory\"` error here. In this case, it's probably best to reduce `per_device_train_batch_size` to 16 or even less and eventually make use of [`gradient_accumulation`](https://huggingface.co/transformers/master/main_classes/trainer.html#trainingarguments)."
   ]
  },
  {
   "cell_type": "code",
   "execution_count": null,
   "metadata": {
    "ExecuteTime": {
     "end_time": "2023-05-01T20:11:39.276353Z",
     "start_time": "2023-05-01T20:11:39.276353Z"
    },
    "colab": {
     "base_uri": "https://localhost:8080/",
     "height": 1000
    },
    "id": "_UEjJqGsQw24",
    "outputId": "ef86cb55-632e-44fd-b9b2-6b804e7808df"
   },
   "outputs": [],
   "source": [
    "trainer.train()"
   ]
  },
  {
   "cell_type": "markdown",
   "metadata": {
    "id": "UCyp-v3n4Zlt"
   },
   "source": [
    "The final WER should be around 0.3 which is reasonable given that state-of-the-art phoneme error rates (PER) are just below 0.1 (see [leaderboard](https://paperswithcode.com/sota/speech-recognition-on-timit)) and that WER is usually worse than PER.\n",
    "\n",
    "You can now upload the result of the training to the Hub, just execute this instruction:"
   ]
  },
  {
   "cell_type": "code",
   "execution_count": null,
   "metadata": {
    "ExecuteTime": {
     "end_time": "2023-05-01T20:11:39.277354Z",
     "start_time": "2023-05-01T20:11:39.277354Z"
    },
    "colab": {
     "base_uri": "https://localhost:8080/",
     "height": 497,
     "referenced_widgets": [
      "a7725ad7a1774178bba1b39b48bee36b",
      "acc6c975316f4fc9af3f449ccaf71646",
      "2b48e3c58b284b32ae51a3c3afb13d85",
      "7748d6bd4e224b3f836a06b321e72de0",
      "b29aab47d701449181b8d8c715b09657",
      "5cb2c62e3d6f426f8c17eec2fe6e23ae",
      "f44a8453ba314ddbb153e1278eb59eec",
      "6ba56300bd3240629256a72060f36fde",
      "d8f4c2ce266a4a9284572af28ad9ad1c",
      "4cdbe067372b4c32bc782f966aea7f42",
      "afe17562ac7948edab0233eb3804d9cb",
      "00a02ff8b284413f853da9d7c41afedd",
      "73b586087e9447e688c97318bf6eba11",
      "6ba8f8fde3fc4050a304df11cc1d2c7c",
      "0ceb294ca03a4bf2ae5586ffbbb6f0fc",
      "ffa2bd3495f54f1c81f15ebf50fd4fee",
      "e53ec4e8ee3d44bb8b3bdcf323335c8a",
      "ceef78fab0024c578976ad6c589c0d7f",
      "35a9027e670146f3a25db0d06035fd1b",
      "0cd65792216b4decaf24961bb33802d0",
      "968f456d45ab4f25aeaf57b0c0ddc190",
      "92ae2ab85efc40fa89da650ccbe85e21",
      "e1a34af59be04546808279b6e673c498",
      "91a9bd637428473192d5ec47ba137268",
      "f11e33bc060746758ad638204b71955c",
      "ef69985b8f7c4662912a11a377e99b59",
      "9721f00cdfc942e8ab8a4faf8080ef2d",
      "196c66080f944a61a537a0ddd9905248",
      "e7d54319900548208c3852623ebc3dcf",
      "adbd04cd03624b66a8c725f9a89647b6",
      "200b5fada23d45ff947953003d052605",
      "8c89f99cd7b9408eafbfbf8e0c56d39c",
      "a40561b6f013481ba77fa137ab43b1c2",
      "63ee5e2413434249bd47a8d662ec0da6",
      "d10215d60b9f471ab681a948ad143159",
      "bcb33e49c5ab412eb5b8cd823cf06706",
      "f23b78d30ff040f481b5584a83083b39",
      "fe39df4b5e9d41f6a0233bafb4522dd4",
      "6cac8e9fcefd4353a76244f89ff459e1",
      "4f70c2c356074adf9aa7c1fb6b20f8e3",
      "4cc884973b734098a135619736b5f599",
      "fd72ea27c82843ceb5fdb74886fc5b44",
      "28b1ff0d507e40fb84e4083537207de4",
      "bf2896c4b25147f0a303c748fa2b0cd9"
     ]
    },
    "id": "JYGQYBhHNsvj",
    "outputId": "c60381d7-a4ec-4cfe-ec0b-0b16af963c3d"
   },
   "outputs": [],
   "source": [
    "trainer.push_to_hub()"
   ]
  },
  {
   "cell_type": "markdown",
   "metadata": {
    "id": "djzwS5WeNu16"
   },
   "source": [
    "You can now share this model with all your friends, family, favorite pets: they can all load it with the identifier \"your-username/the-name-you-picked\" so for instance:"
   ]
  },
  {
   "cell_type": "markdown",
   "metadata": {
    "id": "Adm0LngNNxq7"
   },
   "source": [
    "```python\n",
    "from transformers import AutoModelForCTC, Wav2Vec2Processor\n",
    "\n",
    "model = AutoModelForCTC.from_pretrained(\"patrickvonplaten/wav2vec2-base-timit-demo-google-colab\")\n",
    "processor = Wav2Vec2Processor.from_pretrained(\"patrickvonplaten/wav2vec2-base-timit-demo-google-colab\")\n",
    "```"
   ]
  },
  {
   "cell_type": "markdown",
   "metadata": {
    "id": "nD4XP5IHncsY"
   },
   "source": [
    "### Evaluate\n",
    "\n",
    "In the final part, we run our model on some of the validation data to get a feeling for how well it works.\n",
    "\n",
    "Let's load the `processor` and `model`."
   ]
  },
  {
   "cell_type": "code",
   "execution_count": null,
   "metadata": {
    "ExecuteTime": {
     "end_time": "2023-05-01T20:11:39.278354Z",
     "start_time": "2023-05-01T20:11:39.278354Z"
    },
    "colab": {
     "base_uri": "https://localhost:8080/",
     "height": 718,
     "referenced_widgets": [
      "524b5795780746f5966c06b878cc0fbc",
      "8eb41fee8e1c452a9d69a07a266d871a",
      "f22febfc3bbe48058be84b2a20e906f5",
      "ab51fefefa1b464a9a780b80c6f0c020",
      "88fd1cb973f8485b97caa19b7801c3d3",
      "3234edc4a75e4658acd19feef174e88f",
      "6bfe6219ad934146a4d680e38ed19879",
      "63e9fc689ea54fbfa7226cc9918977cb",
      "dc034b4bf9e34963ab79f391c55d44ac",
      "6b3288ffeef34c2a925d2554c7c4f521",
      "116e45bbe2d640d18d6a47309692dc20",
      "66d5a397b26e4d66a97bc3b3159e96bd",
      "041870fd5bac43b394956252364a16c4",
      "26f6574d99724fb29159071dda6039b5",
      "55d0bfd5c746402f89e6b86a7ca37b3a",
      "b69bad861f014c20b4cb470c73b1fe37",
      "940e030ce7ae40d68136ddf1a1a67736",
      "c80bdd3bae794c08b81c950a33ff9ba0",
      "7b0c8bc5bb66433384aeb47bf99001ae",
      "6b03d462bd0f4fbeab0df76bbb881621",
      "be78bdab8638431e80c087a0fe9a7a8f",
      "d44a1f0b3216469fb1ac597951f9471a",
      "a0e897961bb049438847879cf082adf3",
      "820ac3ce474346728b80a609d47848ee",
      "045273b88fa04afba97bf7ba6027f164",
      "4847949da7b64782895b4fca8b432ec8",
      "427b99cf8b964a59bbbf0b4d04504906",
      "f652ea3e007c42669e445a7247bb0430",
      "527bf8b3612b4da89479424c5b66681e",
      "708ff309676040119bccd6f21d1684f6",
      "6a8694b9181f4828ba3ef4ff828fd1c3",
      "90dbfe5bab604315b329a6a8fcf131b1",
      "b1a51bfb07774b7bac783d1c4d5a680c",
      "6ca0c9b3d250425b9597de9baa6bd77b",
      "b7d46c7f5da646eba0ed9e38fed6b4ee",
      "7291673613bb43848bec1abee7447078",
      "5c49d625a7f742f1a64820bc6f749f3a",
      "a6a5bcb980df41d1b3e7b581701eae16",
      "6412d390b2ce416fae910d689c3f6e70",
      "255c276a050446ed9df81f8eeb7c1178",
      "ddd975596c234b0eacc40ef18ef40778",
      "a5fd824b8eb64bb7b8d83354961927e6",
      "17e3d063396848548af91c55c8f8e282",
      "a3b48bc669674ff2a0bcce75a50e81eb"
     ]
    },
    "id": "-rg0USDCnbo6",
    "outputId": "ddfac637-7c6d-4df1-a07a-4f1278fff182"
   },
   "outputs": [],
   "source": [
    "processor = Wav2Vec2Processor.from_pretrained(\"patrickvonplaten/wav2vec2-base-timit-demo-google-colab\")"
   ]
  },
  {
   "cell_type": "code",
   "execution_count": null,
   "metadata": {
    "ExecuteTime": {
     "end_time": "2023-05-01T20:11:39.278354Z",
     "start_time": "2023-05-01T20:11:39.278354Z"
    },
    "colab": {
     "base_uri": "https://localhost:8080/"
    },
    "id": "sSpFW3pDn23P",
    "outputId": "dd9ac831-3620-4b87-98b6-c85a57150a15"
   },
   "outputs": [],
   "source": [
    "model = Wav2Vec2ForCTC.from_pretrained(\"patrickvonplaten/wav2vec2-base-timit-demo-google-colab\").cuda()"
   ]
  },
  {
   "cell_type": "markdown",
   "metadata": {
    "id": "TUuZpB0v5jn_"
   },
   "source": [
    "Now, we will make use of the `map(...)` function to predict the transcription of every test sample and to save the prediction in the dataset itself. We will call the resulting dictionary `\"results\"`. \n",
    "\n",
    "**Note**: we evaluate the test data set with `batch_size=1` on purpose due to this [issue](https://github.com/pytorch/fairseq/issues/3227). Since padded inputs don't yield the exact same output as non-padded inputs, a better WER can be achieved by not padding the input at all."
   ]
  },
  {
   "cell_type": "code",
   "execution_count": null,
   "metadata": {
    "ExecuteTime": {
     "end_time": "2023-05-01T20:11:39.279354Z",
     "start_time": "2023-05-01T20:11:39.279354Z"
    },
    "id": "40naJl53n7jT"
   },
   "outputs": [],
   "source": [
    "def map_to_result(batch):\n",
    "  with torch.no_grad():\n",
    "    input_values = torch.tensor(batch[\"input_values\"], device=\"cuda\").unsqueeze(0)\n",
    "    logits = model(input_values).logits\n",
    "\n",
    "  pred_ids = torch.argmax(logits, dim=-1)\n",
    "  batch[\"pred_str\"] = processor.batch_decode(pred_ids)[0]\n",
    "  batch[\"text\"] = processor.decode(batch[\"labels\"], group_tokens=False)\n",
    "  \n",
    "  return batch"
   ]
  },
  {
   "cell_type": "code",
   "execution_count": null,
   "metadata": {
    "ExecuteTime": {
     "end_time": "2023-05-01T20:11:39.280354Z",
     "start_time": "2023-05-01T20:11:39.280354Z"
    },
    "colab": {
     "base_uri": "https://localhost:8080/",
     "height": 48,
     "referenced_widgets": [
      "8fbdb230253a4152be95bf6229049f09",
      "857f0c099d8549e98991a93c791db4c1",
      "16561789e2b9417a80ddcb6ef9d8676a",
      "050c9d6bfd1e4b6ebe67401183a8d397",
      "5874591082f944ff9b32202a1edbfd60",
      "8c968b160d3d4fbb998840734f9f07e4",
      "d2fd7c9e56b1419f9d23a10c260a7c7d",
      "4a03fb6d945f4102bc4f7192195d810d",
      "8ab2466b187047fbbe4d8b72455b1108",
      "89472d79793e4db9afa6845fb016c8ad",
      "f5e79b8c3a634eae8a555f18b9dc9bd6"
     ]
    },
    "id": "uPqH7gZqrGPi",
    "outputId": "1eb633f5-c487-4cd1-8be6-aac4af385a2e"
   },
   "outputs": [],
   "source": [
    "results = timit[\"test\"].map(map_to_result, remove_columns=timit[\"test\"].column_names)"
   ]
  },
  {
   "cell_type": "markdown",
   "metadata": {
    "id": "-mqpdB8R6rty"
   },
   "source": [
    "Let's compute the overall WER now."
   ]
  },
  {
   "cell_type": "code",
   "execution_count": null,
   "metadata": {
    "ExecuteTime": {
     "end_time": "2023-05-01T20:11:39.281354Z",
     "start_time": "2023-05-01T20:11:39.281354Z"
    },
    "colab": {
     "base_uri": "https://localhost:8080/"
    },
    "id": "PmqAb4Isx8OK",
    "outputId": "d70180e0-77e4-458b-daff-61df307f500c"
   },
   "outputs": [],
   "source": [
    "print(\"Test WER: {:.3f}\".format(wer_metric.compute(predictions=results[\"pred_str\"], references=results[\"text\"])))"
   ]
  },
  {
   "cell_type": "markdown",
   "metadata": {
    "id": "6Va94d8Y7Q98"
   },
   "source": [
    "21.8% WER - not bad! Our demo model would have probably made it on the official [leaderboard](https://paperswithcode.com/sota/speech-recognition-on-timit).\n",
    "\n",
    "Let's take a look at some predictions to see what errors are made by the model."
   ]
  },
  {
   "cell_type": "code",
   "execution_count": null,
   "metadata": {
    "ExecuteTime": {
     "end_time": "2023-05-01T20:11:39.282355Z",
     "start_time": "2023-05-01T20:11:39.282355Z"
    },
    "colab": {
     "base_uri": "https://localhost:8080/",
     "height": 363
    },
    "id": "odNDiFVRy53w",
    "outputId": "cb787bc7-5346-449e-e314-202df442185a"
   },
   "outputs": [],
   "source": [
    "show_random_elements(results)"
   ]
  },
  {
   "cell_type": "markdown",
   "metadata": {
    "id": "5HFCujhd9n4N"
   },
   "source": [
    "It becomes clear that the predicted transcriptions are acoustically very similar to the target transcriptions, but often contain spelling or grammatical errors. This shouldn't be very surprising though given that we purely rely on Wav2Vec2 without making use of a language model."
   ]
  },
  {
   "cell_type": "markdown",
   "metadata": {
    "id": "a3ydKvUl9FTK"
   },
   "source": [
    "Finally, to better understand how CTC works, it is worth taking a deeper look at the exact output of the model. Let's run the first test sample through the model, take the predicted ids and convert them to their corresponding tokens."
   ]
  },
  {
   "cell_type": "code",
   "execution_count": null,
   "metadata": {
    "ExecuteTime": {
     "end_time": "2023-05-01T20:11:39.282355Z",
     "start_time": "2023-05-01T20:11:39.282355Z"
    },
    "colab": {
     "base_uri": "https://localhost:8080/",
     "height": 73
    },
    "id": "AqaM45t87uM4",
    "outputId": "2d181121-2184-48dc-a337-bb33194fd68b"
   },
   "outputs": [],
   "source": [
    "model.to(\"cuda\")\n",
    "\n",
    "with torch.no_grad():\n",
    "  logits = model(torch.tensor(timit[\"test\"][:1][\"input_values\"], device=\"cuda\")).logits\n",
    "\n",
    "pred_ids = torch.argmax(logits, dim=-1)\n",
    "\n",
    "# convert ids to tokens\n",
    "\" \".join(processor.tokenizer.convert_ids_to_tokens(pred_ids[0].tolist()))"
   ]
  },
  {
   "cell_type": "markdown",
   "metadata": {
    "id": "tdO8E28g-n5C"
   },
   "source": [
    "The output should make it a bit clearer how CTC works in practice. The model is to some extent invariant to speaking rate since it has learned to either just repeat the same token in case the speech chunk to be classified still corresponds to the same token. This makes CTC a very powerful algorithm for speech recognition since the speech file's transcription is often very much independent of its length.\n",
    "\n",
    "I again advise the reader to take a look at [this](https://distill.pub/2017/ctc) very nice blog post to better understand CTC."
   ]
  }
 ],
 "metadata": {
  "accelerator": "GPU",
  "colab": {
   "machine_shape": "hm",
   "name": "Fine-tuning Wav2Vec2 for English ASR",
   "provenance": []
  },
  "kernelspec": {
   "display_name": "Python 3 (ipykernel)",
   "language": "python",
   "name": "python3"
  },
  "language_info": {
   "codemirror_mode": {
    "name": "ipython",
    "version": 3
   },
   "file_extension": ".py",
   "mimetype": "text/x-python",
   "name": "python",
   "nbconvert_exporter": "python",
   "pygments_lexer": "ipython3",
   "version": "3.9.16"
  },
  "toc": {
   "base_numbering": 1,
   "nav_menu": {},
   "number_sections": true,
   "sideBar": true,
   "skip_h1_title": false,
   "title_cell": "Table of Contents",
   "title_sidebar": "Contents",
   "toc_cell": false,
   "toc_position": {},
   "toc_section_display": true,
   "toc_window_display": false
  },
  "widgets": {
   "application/vnd.jupyter.widget-state+json": {
    "009ff972692448a7aa4c9649767d57f8": {
     "model_module": "@jupyter-widgets/controls",
     "model_module_version": "1.5.0",
     "model_name": "PasswordModel",
     "state": {
      "_dom_classes": [],
      "_model_module": "@jupyter-widgets/controls",
      "_model_module_version": "1.5.0",
      "_model_name": "PasswordModel",
      "_view_count": null,
      "_view_module": "@jupyter-widgets/controls",
      "_view_module_version": "1.5.0",
      "_view_name": "PasswordView",
      "continuous_update": true,
      "description": "Token:",
      "description_tooltip": null,
      "disabled": false,
      "layout": "IPY_MODEL_9ccb319b72b4470d91a892c47277c790",
      "placeholder": "​",
      "style": "IPY_MODEL_388899abaa7841c58f4efc9247e30650",
      "value": ""
     }
    },
    "00a02ff8b284413f853da9d7c41afedd": {
     "model_module": "@jupyter-widgets/controls",
     "model_module_version": "1.5.0",
     "model_name": "HBoxModel",
     "state": {
      "_dom_classes": [],
      "_model_module": "@jupyter-widgets/controls",
      "_model_module_version": "1.5.0",
      "_model_name": "HBoxModel",
      "_view_count": null,
      "_view_module": "@jupyter-widgets/controls",
      "_view_module_version": "1.5.0",
      "_view_name": "HBoxView",
      "box_style": "",
      "children": [
       "IPY_MODEL_73b586087e9447e688c97318bf6eba11",
       "IPY_MODEL_6ba8f8fde3fc4050a304df11cc1d2c7c",
       "IPY_MODEL_0ceb294ca03a4bf2ae5586ffbbb6f0fc"
      ],
      "layout": "IPY_MODEL_ffa2bd3495f54f1c81f15ebf50fd4fee"
     }
    },
    "02382696d96f42f68402da01248633b2": {
     "model_module": "@jupyter-widgets/controls",
     "model_module_version": "1.5.0",
     "model_name": "FloatProgressModel",
     "state": {
      "_dom_classes": [],
      "_model_module": "@jupyter-widgets/controls",
      "_model_module_version": "1.5.0",
      "_model_name": "FloatProgressModel",
      "_view_count": null,
      "_view_module": "@jupyter-widgets/controls",
      "_view_module_version": "1.5.0",
      "_view_name": "ProgressView",
      "bar_style": "info",
      "description": "",
      "description_tooltip": null,
      "layout": "IPY_MODEL_b82f952712a24fc7a0e592a4e1583f63",
      "max": 1,
      "min": 0,
      "orientation": "horizontal",
      "style": "IPY_MODEL_c4ebbceb0da54ea7bb340e0504c53efe",
      "value": 1
     }
    },
    "02c73fd7649341f7bb9c3a0ca94fe993": {
     "model_module": "@jupyter-widgets/base",
     "model_module_version": "1.2.0",
     "model_name": "LayoutModel",
     "state": {
      "_model_module": "@jupyter-widgets/base",
      "_model_module_version": "1.2.0",
      "_model_name": "LayoutModel",
      "_view_count": null,
      "_view_module": "@jupyter-widgets/base",
      "_view_module_version": "1.2.0",
      "_view_name": "LayoutView",
      "align_content": null,
      "align_items": null,
      "align_self": null,
      "border": null,
      "bottom": null,
      "display": null,
      "flex": null,
      "flex_flow": null,
      "grid_area": null,
      "grid_auto_columns": null,
      "grid_auto_flow": null,
      "grid_auto_rows": null,
      "grid_column": null,
      "grid_gap": null,
      "grid_row": null,
      "grid_template_areas": null,
      "grid_template_columns": null,
      "grid_template_rows": null,
      "height": null,
      "justify_content": null,
      "justify_items": null,
      "left": null,
      "margin": null,
      "max_height": null,
      "max_width": null,
      "min_height": null,
      "min_width": null,
      "object_fit": null,
      "object_position": null,
      "order": null,
      "overflow": null,
      "overflow_x": null,
      "overflow_y": null,
      "padding": null,
      "right": null,
      "top": null,
      "visibility": null,
      "width": null
     }
    },
    "03e14fce8a8c4451adac854356e0e000": {
     "model_module": "@jupyter-widgets/controls",
     "model_module_version": "1.5.0",
     "model_name": "ProgressStyleModel",
     "state": {
      "_model_module": "@jupyter-widgets/controls",
      "_model_module_version": "1.5.0",
      "_model_name": "ProgressStyleModel",
      "_view_count": null,
      "_view_module": "@jupyter-widgets/base",
      "_view_module_version": "1.2.0",
      "_view_name": "StyleView",
      "bar_color": null,
      "description_width": ""
     }
    },
    "041870fd5bac43b394956252364a16c4": {
     "model_module": "@jupyter-widgets/controls",
     "model_module_version": "1.5.0",
     "model_name": "HTMLModel",
     "state": {
      "_dom_classes": [],
      "_model_module": "@jupyter-widgets/controls",
      "_model_module_version": "1.5.0",
      "_model_name": "HTMLModel",
      "_view_count": null,
      "_view_module": "@jupyter-widgets/controls",
      "_view_module_version": "1.5.0",
      "_view_name": "HTMLView",
      "description": "",
      "description_tooltip": null,
      "layout": "IPY_MODEL_940e030ce7ae40d68136ddf1a1a67736",
      "placeholder": "​",
      "style": "IPY_MODEL_c80bdd3bae794c08b81c950a33ff9ba0",
      "value": "Downloading: 100%"
     }
    },
    "043acda41e904eeca9fb1b51728b94a3": {
     "model_module": "@jupyter-widgets/controls",
     "model_module_version": "1.5.0",
     "model_name": "HTMLModel",
     "state": {
      "_dom_classes": [],
      "_model_module": "@jupyter-widgets/controls",
      "_model_module_version": "1.5.0",
      "_model_name": "HTMLModel",
      "_view_count": null,
      "_view_module": "@jupyter-widgets/controls",
      "_view_module_version": "1.5.0",
      "_view_name": "HTMLView",
      "description": "",
      "description_tooltip": null,
      "layout": "IPY_MODEL_b7e31b58bd6a4c089045c8697c746ae7",
      "placeholder": "​",
      "style": "IPY_MODEL_2e4e3ea872b84728b4e8439177c2bdca",
      "value": " 2.64k/? [00:00&lt;00:00, 90.5kB/s]"
     }
    },
    "045273b88fa04afba97bf7ba6027f164": {
     "model_module": "@jupyter-widgets/controls",
     "model_module_version": "1.5.0",
     "model_name": "FloatProgressModel",
     "state": {
      "_dom_classes": [],
      "_model_module": "@jupyter-widgets/controls",
      "_model_module_version": "1.5.0",
      "_model_name": "FloatProgressModel",
      "_view_count": null,
      "_view_module": "@jupyter-widgets/controls",
      "_view_module_version": "1.5.0",
      "_view_name": "ProgressView",
      "bar_style": "success",
      "description": "",
      "description_tooltip": null,
      "layout": "IPY_MODEL_708ff309676040119bccd6f21d1684f6",
      "max": 268,
      "min": 0,
      "orientation": "horizontal",
      "style": "IPY_MODEL_6a8694b9181f4828ba3ef4ff828fd1c3",
      "value": 268
     }
    },
    "050c9d6bfd1e4b6ebe67401183a8d397": {
     "model_module": "@jupyter-widgets/controls",
     "model_module_version": "1.5.0",
     "model_name": "HTMLModel",
     "state": {
      "_dom_classes": [],
      "_model_module": "@jupyter-widgets/controls",
      "_model_module_version": "1.5.0",
      "_model_name": "HTMLModel",
      "_view_count": null,
      "_view_module": "@jupyter-widgets/controls",
      "_view_module_version": "1.5.0",
      "_view_name": "HTMLView",
      "description": "",
      "description_tooltip": null,
      "layout": "IPY_MODEL_89472d79793e4db9afa6845fb016c8ad",
      "placeholder": "​",
      "style": "IPY_MODEL_f5e79b8c3a634eae8a555f18b9dc9bd6",
      "value": " 1680/? [00:55&lt;00:00, 30.41ex/s]"
     }
    },
    "068c21f096294e7f882a8b1f785e25e1": {
     "model_module": "@jupyter-widgets/controls",
     "model_module_version": "1.5.0",
     "model_name": "HTMLModel",
     "state": {
      "_dom_classes": [],
      "_model_module": "@jupyter-widgets/controls",
      "_model_module_version": "1.5.0",
      "_model_name": "HTMLModel",
      "_view_count": null,
      "_view_module": "@jupyter-widgets/controls",
      "_view_module_version": "1.5.0",
      "_view_name": "HTMLView",
      "description": "",
      "description_tooltip": null,
      "layout": "IPY_MODEL_67dd7dc28e7d47ab8c50c70e48b68f3d",
      "placeholder": "​",
      "style": "IPY_MODEL_586b37ddcef64e76a01e7ee6e5f81307",
      "value": ""
     }
    },
    "0aae7e5bf6e64e68b3f5f3d57fe5a798": {
     "model_module": "@jupyter-widgets/controls",
     "model_module_version": "1.5.0",
     "model_name": "DescriptionStyleModel",
     "state": {
      "_model_module": "@jupyter-widgets/controls",
      "_model_module_version": "1.5.0",
      "_model_name": "DescriptionStyleModel",
      "_view_count": null,
      "_view_module": "@jupyter-widgets/base",
      "_view_module_version": "1.2.0",
      "_view_name": "StyleView",
      "description_width": ""
     }
    },
    "0c4cae68248f47e0beb8e9da650432ea": {
     "model_module": "@jupyter-widgets/base",
     "model_module_version": "1.2.0",
     "model_name": "LayoutModel",
     "state": {
      "_model_module": "@jupyter-widgets/base",
      "_model_module_version": "1.2.0",
      "_model_name": "LayoutModel",
      "_view_count": null,
      "_view_module": "@jupyter-widgets/base",
      "_view_module_version": "1.2.0",
      "_view_name": "LayoutView",
      "align_content": null,
      "align_items": null,
      "align_self": null,
      "border": null,
      "bottom": null,
      "display": null,
      "flex": null,
      "flex_flow": null,
      "grid_area": null,
      "grid_auto_columns": null,
      "grid_auto_flow": null,
      "grid_auto_rows": null,
      "grid_column": null,
      "grid_gap": null,
      "grid_row": null,
      "grid_template_areas": null,
      "grid_template_columns": null,
      "grid_template_rows": null,
      "height": null,
      "justify_content": null,
      "justify_items": null,
      "left": null,
      "margin": null,
      "max_height": null,
      "max_width": null,
      "min_height": null,
      "min_width": null,
      "object_fit": null,
      "object_position": null,
      "order": null,
      "overflow": null,
      "overflow_x": null,
      "overflow_y": null,
      "padding": null,
      "right": null,
      "top": null,
      "visibility": null,
      "width": null
     }
    },
    "0cd65792216b4decaf24961bb33802d0": {
     "model_module": "@jupyter-widgets/controls",
     "model_module_version": "1.5.0",
     "model_name": "ProgressStyleModel",
     "state": {
      "_model_module": "@jupyter-widgets/controls",
      "_model_module_version": "1.5.0",
      "_model_name": "ProgressStyleModel",
      "_view_count": null,
      "_view_module": "@jupyter-widgets/base",
      "_view_module_version": "1.2.0",
      "_view_name": "StyleView",
      "bar_color": null,
      "description_width": ""
     }
    },
    "0ceb294ca03a4bf2ae5586ffbbb6f0fc": {
     "model_module": "@jupyter-widgets/controls",
     "model_module_version": "1.5.0",
     "model_name": "HTMLModel",
     "state": {
      "_dom_classes": [],
      "_model_module": "@jupyter-widgets/controls",
      "_model_module_version": "1.5.0",
      "_model_name": "HTMLModel",
      "_view_count": null,
      "_view_module": "@jupyter-widgets/controls",
      "_view_module_version": "1.5.0",
      "_view_name": "HTMLView",
      "description": "",
      "description_tooltip": null,
      "layout": "IPY_MODEL_968f456d45ab4f25aeaf57b0c0ddc190",
      "placeholder": "​",
      "style": "IPY_MODEL_92ae2ab85efc40fa89da650ccbe85e21",
      "value": " 4.71k/4.71k [05:26&lt;00:00, 13.9kB/s]"
     }
    },
    "0ff1302607b242d49dffdf850396b644": {
     "model_module": "@jupyter-widgets/controls",
     "model_module_version": "1.5.0",
     "model_name": "HTMLModel",
     "state": {
      "_dom_classes": [],
      "_model_module": "@jupyter-widgets/controls",
      "_model_module_version": "1.5.0",
      "_model_name": "HTMLModel",
      "_view_count": null,
      "_view_module": "@jupyter-widgets/controls",
      "_view_module_version": "1.5.0",
      "_view_name": "HTMLView",
      "description": "",
      "description_tooltip": null,
      "layout": "IPY_MODEL_53741de4c5634c1d83472966e43888a3",
      "placeholder": "​",
      "style": "IPY_MODEL_5a9f966f31fe441981f43daef45329b8",
      "value": " 869M/869M [00:46&lt;00:00, 21.0MB/s]"
     }
    },
    "11069673d1eb4d8183ad45f38e85a449": {
     "model_module": "@jupyter-widgets/controls",
     "model_module_version": "1.5.0",
     "model_name": "FloatProgressModel",
     "state": {
      "_dom_classes": [],
      "_model_module": "@jupyter-widgets/controls",
      "_model_module_version": "1.5.0",
      "_model_name": "FloatProgressModel",
      "_view_count": null,
      "_view_module": "@jupyter-widgets/controls",
      "_view_module_version": "1.5.0",
      "_view_name": "ProgressView",
      "bar_style": "success",
      "description": "",
      "description_tooltip": null,
      "layout": "IPY_MODEL_02c73fd7649341f7bb9c3a0ca94fe993",
      "max": 1,
      "min": 0,
      "orientation": "horizontal",
      "style": "IPY_MODEL_223c348eed304f22b6a53b255a2e7051",
      "value": 1
     }
    },
    "116e45bbe2d640d18d6a47309692dc20": {
     "model_module": "@jupyter-widgets/controls",
     "model_module_version": "1.5.0",
     "model_name": "DescriptionStyleModel",
     "state": {
      "_model_module": "@jupyter-widgets/controls",
      "_model_module_version": "1.5.0",
      "_model_name": "DescriptionStyleModel",
      "_view_count": null,
      "_view_module": "@jupyter-widgets/base",
      "_view_module_version": "1.2.0",
      "_view_name": "StyleView",
      "description_width": ""
     }
    },
    "14cc5a0b87c843bfb2c10419e00ba058": {
     "model_module": "@jupyter-widgets/base",
     "model_module_version": "1.2.0",
     "model_name": "LayoutModel",
     "state": {
      "_model_module": "@jupyter-widgets/base",
      "_model_module_version": "1.2.0",
      "_model_name": "LayoutModel",
      "_view_count": null,
      "_view_module": "@jupyter-widgets/base",
      "_view_module_version": "1.2.0",
      "_view_name": "LayoutView",
      "align_content": null,
      "align_items": null,
      "align_self": null,
      "border": null,
      "bottom": null,
      "display": null,
      "flex": null,
      "flex_flow": null,
      "grid_area": null,
      "grid_auto_columns": null,
      "grid_auto_flow": null,
      "grid_auto_rows": null,
      "grid_column": null,
      "grid_gap": null,
      "grid_row": null,
      "grid_template_areas": null,
      "grid_template_columns": null,
      "grid_template_rows": null,
      "height": null,
      "justify_content": null,
      "justify_items": null,
      "left": null,
      "margin": null,
      "max_height": null,
      "max_width": null,
      "min_height": null,
      "min_width": null,
      "object_fit": null,
      "object_position": null,
      "order": null,
      "overflow": null,
      "overflow_x": null,
      "overflow_y": null,
      "padding": null,
      "right": null,
      "top": null,
      "visibility": null,
      "width": "20px"
     }
    },
    "16561789e2b9417a80ddcb6ef9d8676a": {
     "model_module": "@jupyter-widgets/controls",
     "model_module_version": "1.5.0",
     "model_name": "FloatProgressModel",
     "state": {
      "_dom_classes": [],
      "_model_module": "@jupyter-widgets/controls",
      "_model_module_version": "1.5.0",
      "_model_name": "FloatProgressModel",
      "_view_count": null,
      "_view_module": "@jupyter-widgets/controls",
      "_view_module_version": "1.5.0",
      "_view_name": "ProgressView",
      "bar_style": "success",
      "description": "",
      "description_tooltip": null,
      "layout": "IPY_MODEL_4a03fb6d945f4102bc4f7192195d810d",
      "max": 1,
      "min": 0,
      "orientation": "horizontal",
      "style": "IPY_MODEL_8ab2466b187047fbbe4d8b72455b1108",
      "value": 1
     }
    },
    "17e3d063396848548af91c55c8f8e282": {
     "model_module": "@jupyter-widgets/base",
     "model_module_version": "1.2.0",
     "model_name": "LayoutModel",
     "state": {
      "_model_module": "@jupyter-widgets/base",
      "_model_module_version": "1.2.0",
      "_model_name": "LayoutModel",
      "_view_count": null,
      "_view_module": "@jupyter-widgets/base",
      "_view_module_version": "1.2.0",
      "_view_name": "LayoutView",
      "align_content": null,
      "align_items": null,
      "align_self": null,
      "border": null,
      "bottom": null,
      "display": null,
      "flex": null,
      "flex_flow": null,
      "grid_area": null,
      "grid_auto_columns": null,
      "grid_auto_flow": null,
      "grid_auto_rows": null,
      "grid_column": null,
      "grid_gap": null,
      "grid_row": null,
      "grid_template_areas": null,
      "grid_template_columns": null,
      "grid_template_rows": null,
      "height": null,
      "justify_content": null,
      "justify_items": null,
      "left": null,
      "margin": null,
      "max_height": null,
      "max_width": null,
      "min_height": null,
      "min_width": null,
      "object_fit": null,
      "object_position": null,
      "order": null,
      "overflow": null,
      "overflow_x": null,
      "overflow_y": null,
      "padding": null,
      "right": null,
      "top": null,
      "visibility": null,
      "width": null
     }
    },
    "196c66080f944a61a537a0ddd9905248": {
     "model_module": "@jupyter-widgets/base",
     "model_module_version": "1.2.0",
     "model_name": "LayoutModel",
     "state": {
      "_model_module": "@jupyter-widgets/base",
      "_model_module_version": "1.2.0",
      "_model_name": "LayoutModel",
      "_view_count": null,
      "_view_module": "@jupyter-widgets/base",
      "_view_module_version": "1.2.0",
      "_view_name": "LayoutView",
      "align_content": null,
      "align_items": null,
      "align_self": null,
      "border": null,
      "bottom": null,
      "display": null,
      "flex": null,
      "flex_flow": null,
      "grid_area": null,
      "grid_auto_columns": null,
      "grid_auto_flow": null,
      "grid_auto_rows": null,
      "grid_column": null,
      "grid_gap": null,
      "grid_row": null,
      "grid_template_areas": null,
      "grid_template_columns": null,
      "grid_template_rows": null,
      "height": null,
      "justify_content": null,
      "justify_items": null,
      "left": null,
      "margin": null,
      "max_height": null,
      "max_width": null,
      "min_height": null,
      "min_width": null,
      "object_fit": null,
      "object_position": null,
      "order": null,
      "overflow": null,
      "overflow_x": null,
      "overflow_y": null,
      "padding": null,
      "right": null,
      "top": null,
      "visibility": null,
      "width": null
     }
    },
    "1b97a6f0ecad46c9b5107278895fc4f6": {
     "model_module": "@jupyter-widgets/base",
     "model_module_version": "1.2.0",
     "model_name": "LayoutModel",
     "state": {
      "_model_module": "@jupyter-widgets/base",
      "_model_module_version": "1.2.0",
      "_model_name": "LayoutModel",
      "_view_count": null,
      "_view_module": "@jupyter-widgets/base",
      "_view_module_version": "1.2.0",
      "_view_name": "LayoutView",
      "align_content": null,
      "align_items": null,
      "align_self": null,
      "border": null,
      "bottom": null,
      "display": null,
      "flex": null,
      "flex_flow": null,
      "grid_area": null,
      "grid_auto_columns": null,
      "grid_auto_flow": null,
      "grid_auto_rows": null,
      "grid_column": null,
      "grid_gap": null,
      "grid_row": null,
      "grid_template_areas": null,
      "grid_template_columns": null,
      "grid_template_rows": null,
      "height": null,
      "justify_content": null,
      "justify_items": null,
      "left": null,
      "margin": null,
      "max_height": null,
      "max_width": null,
      "min_height": null,
      "min_width": null,
      "object_fit": null,
      "object_position": null,
      "order": null,
      "overflow": null,
      "overflow_x": null,
      "overflow_y": null,
      "padding": null,
      "right": null,
      "top": null,
      "visibility": null,
      "width": null
     }
    },
    "1c0f57ec16bb4225884c63c7997cfa77": {
     "model_module": "@jupyter-widgets/controls",
     "model_module_version": "1.5.0",
     "model_name": "DescriptionStyleModel",
     "state": {
      "_model_module": "@jupyter-widgets/controls",
      "_model_module_version": "1.5.0",
      "_model_name": "DescriptionStyleModel",
      "_view_count": null,
      "_view_module": "@jupyter-widgets/base",
      "_view_module_version": "1.2.0",
      "_view_name": "StyleView",
      "description_width": ""
     }
    },
    "1c4de4731eef4f7ca214c492bcd917c2": {
     "model_module": "@jupyter-widgets/base",
     "model_module_version": "1.2.0",
     "model_name": "LayoutModel",
     "state": {
      "_model_module": "@jupyter-widgets/base",
      "_model_module_version": "1.2.0",
      "_model_name": "LayoutModel",
      "_view_count": null,
      "_view_module": "@jupyter-widgets/base",
      "_view_module_version": "1.2.0",
      "_view_name": "LayoutView",
      "align_content": null,
      "align_items": "center",
      "align_self": null,
      "border": null,
      "bottom": null,
      "display": "flex",
      "flex": null,
      "flex_flow": "column",
      "grid_area": null,
      "grid_auto_columns": null,
      "grid_auto_flow": null,
      "grid_auto_rows": null,
      "grid_column": null,
      "grid_gap": null,
      "grid_row": null,
      "grid_template_areas": null,
      "grid_template_columns": null,
      "grid_template_rows": null,
      "height": null,
      "justify_content": null,
      "justify_items": null,
      "left": null,
      "margin": null,
      "max_height": null,
      "max_width": null,
      "min_height": null,
      "min_width": null,
      "object_fit": null,
      "object_position": null,
      "order": null,
      "overflow": null,
      "overflow_x": null,
      "overflow_y": null,
      "padding": null,
      "right": null,
      "top": null,
      "visibility": null,
      "width": "50%"
     }
    },
    "200b5fada23d45ff947953003d052605": {
     "model_module": "@jupyter-widgets/controls",
     "model_module_version": "1.5.0",
     "model_name": "ProgressStyleModel",
     "state": {
      "_model_module": "@jupyter-widgets/controls",
      "_model_module_version": "1.5.0",
      "_model_name": "ProgressStyleModel",
      "_view_count": null,
      "_view_module": "@jupyter-widgets/base",
      "_view_module_version": "1.2.0",
      "_view_name": "StyleView",
      "bar_color": null,
      "description_width": ""
     }
    },
    "204bc71be71240938db25e68e8f60798": {
     "model_module": "@jupyter-widgets/base",
     "model_module_version": "1.2.0",
     "model_name": "LayoutModel",
     "state": {
      "_model_module": "@jupyter-widgets/base",
      "_model_module_version": "1.2.0",
      "_model_name": "LayoutModel",
      "_view_count": null,
      "_view_module": "@jupyter-widgets/base",
      "_view_module_version": "1.2.0",
      "_view_name": "LayoutView",
      "align_content": null,
      "align_items": null,
      "align_self": null,
      "border": null,
      "bottom": null,
      "display": null,
      "flex": null,
      "flex_flow": null,
      "grid_area": null,
      "grid_auto_columns": null,
      "grid_auto_flow": null,
      "grid_auto_rows": null,
      "grid_column": null,
      "grid_gap": null,
      "grid_row": null,
      "grid_template_areas": null,
      "grid_template_columns": null,
      "grid_template_rows": null,
      "height": null,
      "justify_content": null,
      "justify_items": null,
      "left": null,
      "margin": null,
      "max_height": null,
      "max_width": null,
      "min_height": null,
      "min_width": null,
      "object_fit": null,
      "object_position": null,
      "order": null,
      "overflow": null,
      "overflow_x": null,
      "overflow_y": null,
      "padding": null,
      "right": null,
      "top": null,
      "visibility": null,
      "width": null
     }
    },
    "210a60069349413ab599b27c640781ad": {
     "model_module": "@jupyter-widgets/controls",
     "model_module_version": "1.5.0",
     "model_name": "DescriptionStyleModel",
     "state": {
      "_model_module": "@jupyter-widgets/controls",
      "_model_module_version": "1.5.0",
      "_model_name": "DescriptionStyleModel",
      "_view_count": null,
      "_view_module": "@jupyter-widgets/base",
      "_view_module_version": "1.2.0",
      "_view_name": "StyleView",
      "description_width": ""
     }
    },
    "22101e234b5247159a1dc2cbe55c5ba7": {
     "model_module": "@jupyter-widgets/base",
     "model_module_version": "1.2.0",
     "model_name": "LayoutModel",
     "state": {
      "_model_module": "@jupyter-widgets/base",
      "_model_module_version": "1.2.0",
      "_model_name": "LayoutModel",
      "_view_count": null,
      "_view_module": "@jupyter-widgets/base",
      "_view_module_version": "1.2.0",
      "_view_name": "LayoutView",
      "align_content": null,
      "align_items": null,
      "align_self": null,
      "border": null,
      "bottom": null,
      "display": null,
      "flex": null,
      "flex_flow": null,
      "grid_area": null,
      "grid_auto_columns": null,
      "grid_auto_flow": null,
      "grid_auto_rows": null,
      "grid_column": null,
      "grid_gap": null,
      "grid_row": null,
      "grid_template_areas": null,
      "grid_template_columns": null,
      "grid_template_rows": null,
      "height": null,
      "justify_content": null,
      "justify_items": null,
      "left": null,
      "margin": null,
      "max_height": null,
      "max_width": null,
      "min_height": null,
      "min_width": null,
      "object_fit": null,
      "object_position": null,
      "order": null,
      "overflow": null,
      "overflow_x": null,
      "overflow_y": null,
      "padding": null,
      "right": null,
      "top": null,
      "visibility": null,
      "width": null
     }
    },
    "223c348eed304f22b6a53b255a2e7051": {
     "model_module": "@jupyter-widgets/controls",
     "model_module_version": "1.5.0",
     "model_name": "ProgressStyleModel",
     "state": {
      "_model_module": "@jupyter-widgets/controls",
      "_model_module_version": "1.5.0",
      "_model_name": "ProgressStyleModel",
      "_view_count": null,
      "_view_module": "@jupyter-widgets/base",
      "_view_module_version": "1.2.0",
      "_view_name": "StyleView",
      "bar_color": null,
      "description_width": ""
     }
    },
    "255c276a050446ed9df81f8eeb7c1178": {
     "model_module": "@jupyter-widgets/controls",
     "model_module_version": "1.5.0",
     "model_name": "DescriptionStyleModel",
     "state": {
      "_model_module": "@jupyter-widgets/controls",
      "_model_module_version": "1.5.0",
      "_model_name": "DescriptionStyleModel",
      "_view_count": null,
      "_view_module": "@jupyter-widgets/base",
      "_view_module_version": "1.2.0",
      "_view_name": "StyleView",
      "description_width": ""
     }
    },
    "26f6574d99724fb29159071dda6039b5": {
     "model_module": "@jupyter-widgets/controls",
     "model_module_version": "1.5.0",
     "model_name": "FloatProgressModel",
     "state": {
      "_dom_classes": [],
      "_model_module": "@jupyter-widgets/controls",
      "_model_module_version": "1.5.0",
      "_model_name": "FloatProgressModel",
      "_view_count": null,
      "_view_module": "@jupyter-widgets/controls",
      "_view_module_version": "1.5.0",
      "_view_name": "ProgressView",
      "bar_style": "success",
      "description": "",
      "description_tooltip": null,
      "layout": "IPY_MODEL_7b0c8bc5bb66433384aeb47bf99001ae",
      "max": 217,
      "min": 0,
      "orientation": "horizontal",
      "style": "IPY_MODEL_6b03d462bd0f4fbeab0df76bbb881621",
      "value": 217
     }
    },
    "28712653a9274339b39ea186e7a0c2b2": {
     "model_module": "@jupyter-widgets/base",
     "model_module_version": "1.2.0",
     "model_name": "LayoutModel",
     "state": {
      "_model_module": "@jupyter-widgets/base",
      "_model_module_version": "1.2.0",
      "_model_name": "LayoutModel",
      "_view_count": null,
      "_view_module": "@jupyter-widgets/base",
      "_view_module_version": "1.2.0",
      "_view_name": "LayoutView",
      "align_content": null,
      "align_items": null,
      "align_self": null,
      "border": null,
      "bottom": null,
      "display": null,
      "flex": null,
      "flex_flow": null,
      "grid_area": null,
      "grid_auto_columns": null,
      "grid_auto_flow": null,
      "grid_auto_rows": null,
      "grid_column": null,
      "grid_gap": null,
      "grid_row": null,
      "grid_template_areas": null,
      "grid_template_columns": null,
      "grid_template_rows": null,
      "height": null,
      "justify_content": null,
      "justify_items": null,
      "left": null,
      "margin": null,
      "max_height": null,
      "max_width": null,
      "min_height": null,
      "min_width": null,
      "object_fit": null,
      "object_position": null,
      "order": null,
      "overflow": null,
      "overflow_x": null,
      "overflow_y": null,
      "padding": null,
      "right": null,
      "top": null,
      "visibility": null,
      "width": null
     }
    },
    "28b1ff0d507e40fb84e4083537207de4": {
     "model_module": "@jupyter-widgets/base",
     "model_module_version": "1.2.0",
     "model_name": "LayoutModel",
     "state": {
      "_model_module": "@jupyter-widgets/base",
      "_model_module_version": "1.2.0",
      "_model_name": "LayoutModel",
      "_view_count": null,
      "_view_module": "@jupyter-widgets/base",
      "_view_module_version": "1.2.0",
      "_view_name": "LayoutView",
      "align_content": null,
      "align_items": null,
      "align_self": null,
      "border": null,
      "bottom": null,
      "display": null,
      "flex": null,
      "flex_flow": null,
      "grid_area": null,
      "grid_auto_columns": null,
      "grid_auto_flow": null,
      "grid_auto_rows": null,
      "grid_column": null,
      "grid_gap": null,
      "grid_row": null,
      "grid_template_areas": null,
      "grid_template_columns": null,
      "grid_template_rows": null,
      "height": null,
      "justify_content": null,
      "justify_items": null,
      "left": null,
      "margin": null,
      "max_height": null,
      "max_width": null,
      "min_height": null,
      "min_width": null,
      "object_fit": null,
      "object_position": null,
      "order": null,
      "overflow": null,
      "overflow_x": null,
      "overflow_y": null,
      "padding": null,
      "right": null,
      "top": null,
      "visibility": null,
      "width": null
     }
    },
    "28d8685762a5464aa8d41defa911ca55": {
     "model_module": "@jupyter-widgets/base",
     "model_module_version": "1.2.0",
     "model_name": "LayoutModel",
     "state": {
      "_model_module": "@jupyter-widgets/base",
      "_model_module_version": "1.2.0",
      "_model_name": "LayoutModel",
      "_view_count": null,
      "_view_module": "@jupyter-widgets/base",
      "_view_module_version": "1.2.0",
      "_view_name": "LayoutView",
      "align_content": null,
      "align_items": null,
      "align_self": null,
      "border": null,
      "bottom": null,
      "display": null,
      "flex": null,
      "flex_flow": null,
      "grid_area": null,
      "grid_auto_columns": null,
      "grid_auto_flow": null,
      "grid_auto_rows": null,
      "grid_column": null,
      "grid_gap": null,
      "grid_row": null,
      "grid_template_areas": null,
      "grid_template_columns": null,
      "grid_template_rows": null,
      "height": null,
      "justify_content": null,
      "justify_items": null,
      "left": null,
      "margin": null,
      "max_height": null,
      "max_width": null,
      "min_height": null,
      "min_width": null,
      "object_fit": null,
      "object_position": null,
      "order": null,
      "overflow": null,
      "overflow_x": null,
      "overflow_y": null,
      "padding": null,
      "right": null,
      "top": null,
      "visibility": null,
      "width": null
     }
    },
    "2b13b0be57dc4a3fadf346f765ad2522": {
     "model_module": "@jupyter-widgets/controls",
     "model_module_version": "1.5.0",
     "model_name": "DescriptionStyleModel",
     "state": {
      "_model_module": "@jupyter-widgets/controls",
      "_model_module_version": "1.5.0",
      "_model_name": "DescriptionStyleModel",
      "_view_count": null,
      "_view_module": "@jupyter-widgets/base",
      "_view_module_version": "1.2.0",
      "_view_name": "StyleView",
      "description_width": ""
     }
    },
    "2b48e3c58b284b32ae51a3c3afb13d85": {
     "model_module": "@jupyter-widgets/controls",
     "model_module_version": "1.5.0",
     "model_name": "FloatProgressModel",
     "state": {
      "_dom_classes": [],
      "_model_module": "@jupyter-widgets/controls",
      "_model_module_version": "1.5.0",
      "_model_name": "FloatProgressModel",
      "_view_count": null,
      "_view_module": "@jupyter-widgets/controls",
      "_view_module_version": "1.5.0",
      "_view_name": "ProgressView",
      "bar_style": "success",
      "description": "",
      "description_tooltip": null,
      "layout": "IPY_MODEL_6ba56300bd3240629256a72060f36fde",
      "max": 377671575,
      "min": 0,
      "orientation": "horizontal",
      "style": "IPY_MODEL_d8f4c2ce266a4a9284572af28ad9ad1c",
      "value": 377671575
     }
    },
    "2caf93fcf6a54342a3a8415a46b2d2a0": {
     "model_module": "@jupyter-widgets/base",
     "model_module_version": "1.2.0",
     "model_name": "LayoutModel",
     "state": {
      "_model_module": "@jupyter-widgets/base",
      "_model_module_version": "1.2.0",
      "_model_name": "LayoutModel",
      "_view_count": null,
      "_view_module": "@jupyter-widgets/base",
      "_view_module_version": "1.2.0",
      "_view_name": "LayoutView",
      "align_content": null,
      "align_items": null,
      "align_self": null,
      "border": null,
      "bottom": null,
      "display": null,
      "flex": null,
      "flex_flow": null,
      "grid_area": null,
      "grid_auto_columns": null,
      "grid_auto_flow": null,
      "grid_auto_rows": null,
      "grid_column": null,
      "grid_gap": null,
      "grid_row": null,
      "grid_template_areas": null,
      "grid_template_columns": null,
      "grid_template_rows": null,
      "height": null,
      "justify_content": null,
      "justify_items": null,
      "left": null,
      "margin": null,
      "max_height": null,
      "max_width": null,
      "min_height": null,
      "min_width": null,
      "object_fit": null,
      "object_position": null,
      "order": null,
      "overflow": null,
      "overflow_x": null,
      "overflow_y": null,
      "padding": null,
      "right": null,
      "top": null,
      "visibility": null,
      "width": null
     }
    },
    "2e2d8b1a44f949149580995fee52747a": {
     "model_module": "@jupyter-widgets/base",
     "model_module_version": "1.2.0",
     "model_name": "LayoutModel",
     "state": {
      "_model_module": "@jupyter-widgets/base",
      "_model_module_version": "1.2.0",
      "_model_name": "LayoutModel",
      "_view_count": null,
      "_view_module": "@jupyter-widgets/base",
      "_view_module_version": "1.2.0",
      "_view_name": "LayoutView",
      "align_content": null,
      "align_items": null,
      "align_self": null,
      "border": null,
      "bottom": null,
      "display": null,
      "flex": null,
      "flex_flow": null,
      "grid_area": null,
      "grid_auto_columns": null,
      "grid_auto_flow": null,
      "grid_auto_rows": null,
      "grid_column": null,
      "grid_gap": null,
      "grid_row": null,
      "grid_template_areas": null,
      "grid_template_columns": null,
      "grid_template_rows": null,
      "height": null,
      "justify_content": null,
      "justify_items": null,
      "left": null,
      "margin": null,
      "max_height": null,
      "max_width": null,
      "min_height": null,
      "min_width": null,
      "object_fit": null,
      "object_position": null,
      "order": null,
      "overflow": null,
      "overflow_x": null,
      "overflow_y": null,
      "padding": null,
      "right": null,
      "top": null,
      "visibility": null,
      "width": null
     }
    },
    "2e4e3ea872b84728b4e8439177c2bdca": {
     "model_module": "@jupyter-widgets/controls",
     "model_module_version": "1.5.0",
     "model_name": "DescriptionStyleModel",
     "state": {
      "_model_module": "@jupyter-widgets/controls",
      "_model_module_version": "1.5.0",
      "_model_name": "DescriptionStyleModel",
      "_view_count": null,
      "_view_module": "@jupyter-widgets/base",
      "_view_module_version": "1.2.0",
      "_view_name": "StyleView",
      "description_width": ""
     }
    },
    "2f91b0bc7e4143a987cad4169743d6ff": {
     "model_module": "@jupyter-widgets/controls",
     "model_module_version": "1.5.0",
     "model_name": "DescriptionStyleModel",
     "state": {
      "_model_module": "@jupyter-widgets/controls",
      "_model_module_version": "1.5.0",
      "_model_name": "DescriptionStyleModel",
      "_view_count": null,
      "_view_module": "@jupyter-widgets/base",
      "_view_module_version": "1.2.0",
      "_view_name": "StyleView",
      "description_width": ""
     }
    },
    "30468621db7a47489a6e6e6c4ef8b752": {
     "model_module": "@jupyter-widgets/controls",
     "model_module_version": "1.5.0",
     "model_name": "HTMLModel",
     "state": {
      "_dom_classes": [],
      "_model_module": "@jupyter-widgets/controls",
      "_model_module_version": "1.5.0",
      "_model_name": "HTMLModel",
      "_view_count": null,
      "_view_module": "@jupyter-widgets/controls",
      "_view_module_version": "1.5.0",
      "_view_name": "HTMLView",
      "description": "",
      "description_tooltip": null,
      "layout": "IPY_MODEL_93f90349e4fe4cf68c5928130722f8c9",
      "placeholder": "​",
      "style": "IPY_MODEL_98c5a711df7344798337c3bd94dcb7f1",
      "value": ""
     }
    },
    "312812abe3664699ad03372f0a06d70e": {
     "model_module": "@jupyter-widgets/controls",
     "model_module_version": "1.5.0",
     "model_name": "DescriptionStyleModel",
     "state": {
      "_model_module": "@jupyter-widgets/controls",
      "_model_module_version": "1.5.0",
      "_model_name": "DescriptionStyleModel",
      "_view_count": null,
      "_view_module": "@jupyter-widgets/base",
      "_view_module_version": "1.2.0",
      "_view_name": "StyleView",
      "description_width": ""
     }
    },
    "315ec181cf8b469390c4c0067f1abfbe": {
     "model_module": "@jupyter-widgets/controls",
     "model_module_version": "1.5.0",
     "model_name": "HTMLModel",
     "state": {
      "_dom_classes": [],
      "_model_module": "@jupyter-widgets/controls",
      "_model_module_version": "1.5.0",
      "_model_name": "HTMLModel",
      "_view_count": null,
      "_view_module": "@jupyter-widgets/controls",
      "_view_module_version": "1.5.0",
      "_view_name": "HTMLView",
      "description": "",
      "description_tooltip": null,
      "layout": "IPY_MODEL_38cb6d43168c45d69fdb9efaa353e8fd",
      "placeholder": "​",
      "style": "IPY_MODEL_57d47d3c40d247feb00a29ff0938492d",
      "value": "Downloading: "
     }
    },
    "3234edc4a75e4658acd19feef174e88f": {
     "model_module": "@jupyter-widgets/base",
     "model_module_version": "1.2.0",
     "model_name": "LayoutModel",
     "state": {
      "_model_module": "@jupyter-widgets/base",
      "_model_module_version": "1.2.0",
      "_model_name": "LayoutModel",
      "_view_count": null,
      "_view_module": "@jupyter-widgets/base",
      "_view_module_version": "1.2.0",
      "_view_name": "LayoutView",
      "align_content": null,
      "align_items": null,
      "align_self": null,
      "border": null,
      "bottom": null,
      "display": null,
      "flex": null,
      "flex_flow": null,
      "grid_area": null,
      "grid_auto_columns": null,
      "grid_auto_flow": null,
      "grid_auto_rows": null,
      "grid_column": null,
      "grid_gap": null,
      "grid_row": null,
      "grid_template_areas": null,
      "grid_template_columns": null,
      "grid_template_rows": null,
      "height": null,
      "justify_content": null,
      "justify_items": null,
      "left": null,
      "margin": null,
      "max_height": null,
      "max_width": null,
      "min_height": null,
      "min_width": null,
      "object_fit": null,
      "object_position": null,
      "order": null,
      "overflow": null,
      "overflow_x": null,
      "overflow_y": null,
      "padding": null,
      "right": null,
      "top": null,
      "visibility": null,
      "width": null
     }
    },
    "35a9027e670146f3a25db0d06035fd1b": {
     "model_module": "@jupyter-widgets/base",
     "model_module_version": "1.2.0",
     "model_name": "LayoutModel",
     "state": {
      "_model_module": "@jupyter-widgets/base",
      "_model_module_version": "1.2.0",
      "_model_name": "LayoutModel",
      "_view_count": null,
      "_view_module": "@jupyter-widgets/base",
      "_view_module_version": "1.2.0",
      "_view_name": "LayoutView",
      "align_content": null,
      "align_items": null,
      "align_self": null,
      "border": null,
      "bottom": null,
      "display": null,
      "flex": null,
      "flex_flow": null,
      "grid_area": null,
      "grid_auto_columns": null,
      "grid_auto_flow": null,
      "grid_auto_rows": null,
      "grid_column": null,
      "grid_gap": null,
      "grid_row": null,
      "grid_template_areas": null,
      "grid_template_columns": null,
      "grid_template_rows": null,
      "height": null,
      "justify_content": null,
      "justify_items": null,
      "left": null,
      "margin": null,
      "max_height": null,
      "max_width": null,
      "min_height": null,
      "min_width": null,
      "object_fit": null,
      "object_position": null,
      "order": null,
      "overflow": null,
      "overflow_x": null,
      "overflow_y": null,
      "padding": null,
      "right": null,
      "top": null,
      "visibility": null,
      "width": null
     }
    },
    "371231a0ba6e4ed4b4182009c95adaab": {
     "model_module": "@jupyter-widgets/base",
     "model_module_version": "1.2.0",
     "model_name": "LayoutModel",
     "state": {
      "_model_module": "@jupyter-widgets/base",
      "_model_module_version": "1.2.0",
      "_model_name": "LayoutModel",
      "_view_count": null,
      "_view_module": "@jupyter-widgets/base",
      "_view_module_version": "1.2.0",
      "_view_name": "LayoutView",
      "align_content": null,
      "align_items": null,
      "align_self": null,
      "border": null,
      "bottom": null,
      "display": null,
      "flex": null,
      "flex_flow": null,
      "grid_area": null,
      "grid_auto_columns": null,
      "grid_auto_flow": null,
      "grid_auto_rows": null,
      "grid_column": null,
      "grid_gap": null,
      "grid_row": null,
      "grid_template_areas": null,
      "grid_template_columns": null,
      "grid_template_rows": null,
      "height": null,
      "justify_content": null,
      "justify_items": null,
      "left": null,
      "margin": null,
      "max_height": null,
      "max_width": null,
      "min_height": null,
      "min_width": null,
      "object_fit": null,
      "object_position": null,
      "order": null,
      "overflow": null,
      "overflow_x": null,
      "overflow_y": null,
      "padding": null,
      "right": null,
      "top": null,
      "visibility": null,
      "width": null
     }
    },
    "388899abaa7841c58f4efc9247e30650": {
     "model_module": "@jupyter-widgets/controls",
     "model_module_version": "1.5.0",
     "model_name": "DescriptionStyleModel",
     "state": {
      "_model_module": "@jupyter-widgets/controls",
      "_model_module_version": "1.5.0",
      "_model_name": "DescriptionStyleModel",
      "_view_count": null,
      "_view_module": "@jupyter-widgets/base",
      "_view_module_version": "1.2.0",
      "_view_name": "StyleView",
      "description_width": ""
     }
    },
    "38cb6d43168c45d69fdb9efaa353e8fd": {
     "model_module": "@jupyter-widgets/base",
     "model_module_version": "1.2.0",
     "model_name": "LayoutModel",
     "state": {
      "_model_module": "@jupyter-widgets/base",
      "_model_module_version": "1.2.0",
      "_model_name": "LayoutModel",
      "_view_count": null,
      "_view_module": "@jupyter-widgets/base",
      "_view_module_version": "1.2.0",
      "_view_name": "LayoutView",
      "align_content": null,
      "align_items": null,
      "align_self": null,
      "border": null,
      "bottom": null,
      "display": null,
      "flex": null,
      "flex_flow": null,
      "grid_area": null,
      "grid_auto_columns": null,
      "grid_auto_flow": null,
      "grid_auto_rows": null,
      "grid_column": null,
      "grid_gap": null,
      "grid_row": null,
      "grid_template_areas": null,
      "grid_template_columns": null,
      "grid_template_rows": null,
      "height": null,
      "justify_content": null,
      "justify_items": null,
      "left": null,
      "margin": null,
      "max_height": null,
      "max_width": null,
      "min_height": null,
      "min_width": null,
      "object_fit": null,
      "object_position": null,
      "order": null,
      "overflow": null,
      "overflow_x": null,
      "overflow_y": null,
      "padding": null,
      "right": null,
      "top": null,
      "visibility": null,
      "width": null
     }
    },
    "38d534265df041689c5be6202dcd87cd": {
     "model_module": "@jupyter-widgets/controls",
     "model_module_version": "1.5.0",
     "model_name": "HTMLModel",
     "state": {
      "_dom_classes": [],
      "_model_module": "@jupyter-widgets/controls",
      "_model_module_version": "1.5.0",
      "_model_name": "HTMLModel",
      "_view_count": null,
      "_view_module": "@jupyter-widgets/controls",
      "_view_module_version": "1.5.0",
      "_view_name": "HTMLView",
      "description": "",
      "description_tooltip": null,
      "layout": "IPY_MODEL_85c183d42bc949e8848c9cf364926b8d",
      "placeholder": "​",
      "style": "IPY_MODEL_2b13b0be57dc4a3fadf346f765ad2522",
      "value": ""
     }
    },
    "3b18750c4c2c4f92a8df56de8b04f3b8": {
     "model_module": "@jupyter-widgets/controls",
     "model_module_version": "1.5.0",
     "model_name": "HTMLModel",
     "state": {
      "_dom_classes": [],
      "_model_module": "@jupyter-widgets/controls",
      "_model_module_version": "1.5.0",
      "_model_name": "HTMLModel",
      "_view_count": null,
      "_view_module": "@jupyter-widgets/controls",
      "_view_module_version": "1.5.0",
      "_view_name": "HTMLView",
      "description": "",
      "description_tooltip": null,
      "layout": "IPY_MODEL_f9af4bdf38da428aab44a5c049526f75",
      "placeholder": "​",
      "style": "IPY_MODEL_210a60069349413ab599b27c640781ad",
      "value": " 1/1 [00:00&lt;00:00, 25.28ba/s]"
     }
    },
    "3be67d509b1c4e819c19101469ee927a": {
     "model_module": "@jupyter-widgets/controls",
     "model_module_version": "1.5.0",
     "model_name": "HBoxModel",
     "state": {
      "_dom_classes": [],
      "_model_module": "@jupyter-widgets/controls",
      "_model_module_version": "1.5.0",
      "_model_name": "HBoxModel",
      "_view_count": null,
      "_view_module": "@jupyter-widgets/controls",
      "_view_module_version": "1.5.0",
      "_view_name": "HBoxView",
      "box_style": "",
      "children": [
       "IPY_MODEL_30468621db7a47489a6e6e6c4ef8b752",
       "IPY_MODEL_e428cba63225447ab0ade9fbf5748e30",
       "IPY_MODEL_7a4e16be01db411d81b2ab60bf641f34"
      ],
      "layout": "IPY_MODEL_d7292162448a4450a72aaeaafd564e1a"
     }
    },
    "3ce52aa810ea402b8ddafa86b5a0028f": {
     "model_module": "@jupyter-widgets/base",
     "model_module_version": "1.2.0",
     "model_name": "LayoutModel",
     "state": {
      "_model_module": "@jupyter-widgets/base",
      "_model_module_version": "1.2.0",
      "_model_name": "LayoutModel",
      "_view_count": null,
      "_view_module": "@jupyter-widgets/base",
      "_view_module_version": "1.2.0",
      "_view_name": "LayoutView",
      "align_content": null,
      "align_items": null,
      "align_self": null,
      "border": null,
      "bottom": null,
      "display": null,
      "flex": null,
      "flex_flow": null,
      "grid_area": null,
      "grid_auto_columns": null,
      "grid_auto_flow": null,
      "grid_auto_rows": null,
      "grid_column": null,
      "grid_gap": null,
      "grid_row": null,
      "grid_template_areas": null,
      "grid_template_columns": null,
      "grid_template_rows": null,
      "height": null,
      "justify_content": null,
      "justify_items": null,
      "left": null,
      "margin": null,
      "max_height": null,
      "max_width": null,
      "min_height": null,
      "min_width": null,
      "object_fit": null,
      "object_position": null,
      "order": null,
      "overflow": null,
      "overflow_x": null,
      "overflow_y": null,
      "padding": null,
      "right": null,
      "top": null,
      "visibility": null,
      "width": null
     }
    },
    "3e592460b06c421fbfa9dac434454587": {
     "model_module": "@jupyter-widgets/base",
     "model_module_version": "1.2.0",
     "model_name": "LayoutModel",
     "state": {
      "_model_module": "@jupyter-widgets/base",
      "_model_module_version": "1.2.0",
      "_model_name": "LayoutModel",
      "_view_count": null,
      "_view_module": "@jupyter-widgets/base",
      "_view_module_version": "1.2.0",
      "_view_name": "LayoutView",
      "align_content": null,
      "align_items": null,
      "align_self": null,
      "border": null,
      "bottom": null,
      "display": null,
      "flex": null,
      "flex_flow": null,
      "grid_area": null,
      "grid_auto_columns": null,
      "grid_auto_flow": null,
      "grid_auto_rows": null,
      "grid_column": null,
      "grid_gap": null,
      "grid_row": null,
      "grid_template_areas": null,
      "grid_template_columns": null,
      "grid_template_rows": null,
      "height": null,
      "justify_content": null,
      "justify_items": null,
      "left": null,
      "margin": null,
      "max_height": null,
      "max_width": null,
      "min_height": null,
      "min_width": null,
      "object_fit": null,
      "object_position": null,
      "order": null,
      "overflow": null,
      "overflow_x": null,
      "overflow_y": null,
      "padding": null,
      "right": null,
      "top": null,
      "visibility": null,
      "width": null
     }
    },
    "41bb4e9b828d4ac2b9b8ddd740e917fe": {
     "model_module": "@jupyter-widgets/controls",
     "model_module_version": "1.5.0",
     "model_name": "HTMLModel",
     "state": {
      "_dom_classes": [],
      "_model_module": "@jupyter-widgets/controls",
      "_model_module_version": "1.5.0",
      "_model_name": "HTMLModel",
      "_view_count": null,
      "_view_module": "@jupyter-widgets/controls",
      "_view_module_version": "1.5.0",
      "_view_name": "HTMLView",
      "description": "",
      "description_tooltip": null,
      "layout": "IPY_MODEL_3e592460b06c421fbfa9dac434454587",
      "placeholder": "​",
      "style": "IPY_MODEL_0aae7e5bf6e64e68b3f5f3d57fe5a798",
      "value": ""
     }
    },
    "4246cb15e90c451c9c5804ac10ac8190": {
     "model_module": "@jupyter-widgets/base",
     "model_module_version": "1.2.0",
     "model_name": "LayoutModel",
     "state": {
      "_model_module": "@jupyter-widgets/base",
      "_model_module_version": "1.2.0",
      "_model_name": "LayoutModel",
      "_view_count": null,
      "_view_module": "@jupyter-widgets/base",
      "_view_module_version": "1.2.0",
      "_view_name": "LayoutView",
      "align_content": null,
      "align_items": null,
      "align_self": null,
      "border": null,
      "bottom": null,
      "display": null,
      "flex": null,
      "flex_flow": null,
      "grid_area": null,
      "grid_auto_columns": null,
      "grid_auto_flow": null,
      "grid_auto_rows": null,
      "grid_column": null,
      "grid_gap": null,
      "grid_row": null,
      "grid_template_areas": null,
      "grid_template_columns": null,
      "grid_template_rows": null,
      "height": null,
      "justify_content": null,
      "justify_items": null,
      "left": null,
      "margin": null,
      "max_height": null,
      "max_width": null,
      "min_height": null,
      "min_width": null,
      "object_fit": null,
      "object_position": null,
      "order": null,
      "overflow": null,
      "overflow_x": null,
      "overflow_y": null,
      "padding": null,
      "right": null,
      "top": null,
      "visibility": null,
      "width": null
     }
    },
    "427b99cf8b964a59bbbf0b4d04504906": {
     "model_module": "@jupyter-widgets/base",
     "model_module_version": "1.2.0",
     "model_name": "LayoutModel",
     "state": {
      "_model_module": "@jupyter-widgets/base",
      "_model_module_version": "1.2.0",
      "_model_name": "LayoutModel",
      "_view_count": null,
      "_view_module": "@jupyter-widgets/base",
      "_view_module_version": "1.2.0",
      "_view_name": "LayoutView",
      "align_content": null,
      "align_items": null,
      "align_self": null,
      "border": null,
      "bottom": null,
      "display": null,
      "flex": null,
      "flex_flow": null,
      "grid_area": null,
      "grid_auto_columns": null,
      "grid_auto_flow": null,
      "grid_auto_rows": null,
      "grid_column": null,
      "grid_gap": null,
      "grid_row": null,
      "grid_template_areas": null,
      "grid_template_columns": null,
      "grid_template_rows": null,
      "height": null,
      "justify_content": null,
      "justify_items": null,
      "left": null,
      "margin": null,
      "max_height": null,
      "max_width": null,
      "min_height": null,
      "min_width": null,
      "object_fit": null,
      "object_position": null,
      "order": null,
      "overflow": null,
      "overflow_x": null,
      "overflow_y": null,
      "padding": null,
      "right": null,
      "top": null,
      "visibility": null,
      "width": null
     }
    },
    "44e2ae38d685424ba05645c93efea468": {
     "model_module": "@jupyter-widgets/base",
     "model_module_version": "1.2.0",
     "model_name": "LayoutModel",
     "state": {
      "_model_module": "@jupyter-widgets/base",
      "_model_module_version": "1.2.0",
      "_model_name": "LayoutModel",
      "_view_count": null,
      "_view_module": "@jupyter-widgets/base",
      "_view_module_version": "1.2.0",
      "_view_name": "LayoutView",
      "align_content": null,
      "align_items": null,
      "align_self": null,
      "border": null,
      "bottom": null,
      "display": null,
      "flex": null,
      "flex_flow": null,
      "grid_area": null,
      "grid_auto_columns": null,
      "grid_auto_flow": null,
      "grid_auto_rows": null,
      "grid_column": null,
      "grid_gap": null,
      "grid_row": null,
      "grid_template_areas": null,
      "grid_template_columns": null,
      "grid_template_rows": null,
      "height": null,
      "justify_content": null,
      "justify_items": null,
      "left": null,
      "margin": null,
      "max_height": null,
      "max_width": null,
      "min_height": null,
      "min_width": null,
      "object_fit": null,
      "object_position": null,
      "order": null,
      "overflow": null,
      "overflow_x": null,
      "overflow_y": null,
      "padding": null,
      "right": null,
      "top": null,
      "visibility": null,
      "width": null
     }
    },
    "45a5cc7160b6483eb91686f138a82c1e": {
     "model_module": "@jupyter-widgets/base",
     "model_module_version": "1.2.0",
     "model_name": "LayoutModel",
     "state": {
      "_model_module": "@jupyter-widgets/base",
      "_model_module_version": "1.2.0",
      "_model_name": "LayoutModel",
      "_view_count": null,
      "_view_module": "@jupyter-widgets/base",
      "_view_module_version": "1.2.0",
      "_view_name": "LayoutView",
      "align_content": null,
      "align_items": null,
      "align_self": null,
      "border": null,
      "bottom": null,
      "display": null,
      "flex": null,
      "flex_flow": null,
      "grid_area": null,
      "grid_auto_columns": null,
      "grid_auto_flow": null,
      "grid_auto_rows": null,
      "grid_column": null,
      "grid_gap": null,
      "grid_row": null,
      "grid_template_areas": null,
      "grid_template_columns": null,
      "grid_template_rows": null,
      "height": null,
      "justify_content": null,
      "justify_items": null,
      "left": null,
      "margin": null,
      "max_height": null,
      "max_width": null,
      "min_height": null,
      "min_width": null,
      "object_fit": null,
      "object_position": null,
      "order": null,
      "overflow": null,
      "overflow_x": null,
      "overflow_y": null,
      "padding": null,
      "right": null,
      "top": null,
      "visibility": null,
      "width": null
     }
    },
    "4847949da7b64782895b4fca8b432ec8": {
     "model_module": "@jupyter-widgets/controls",
     "model_module_version": "1.5.0",
     "model_name": "HTMLModel",
     "state": {
      "_dom_classes": [],
      "_model_module": "@jupyter-widgets/controls",
      "_model_module_version": "1.5.0",
      "_model_name": "HTMLModel",
      "_view_count": null,
      "_view_module": "@jupyter-widgets/controls",
      "_view_module_version": "1.5.0",
      "_view_name": "HTMLView",
      "description": "",
      "description_tooltip": null,
      "layout": "IPY_MODEL_90dbfe5bab604315b329a6a8fcf131b1",
      "placeholder": "​",
      "style": "IPY_MODEL_b1a51bfb07774b7bac783d1c4d5a680c",
      "value": " 268/268 [00:00&lt;00:00, 11.2kB/s]"
     }
    },
    "48cc51ece41545c08bc3c6d69ab9c25b": {
     "model_module": "@jupyter-widgets/base",
     "model_module_version": "1.2.0",
     "model_name": "LayoutModel",
     "state": {
      "_model_module": "@jupyter-widgets/base",
      "_model_module_version": "1.2.0",
      "_model_name": "LayoutModel",
      "_view_count": null,
      "_view_module": "@jupyter-widgets/base",
      "_view_module_version": "1.2.0",
      "_view_name": "LayoutView",
      "align_content": null,
      "align_items": null,
      "align_self": null,
      "border": null,
      "bottom": null,
      "display": null,
      "flex": null,
      "flex_flow": null,
      "grid_area": null,
      "grid_auto_columns": null,
      "grid_auto_flow": null,
      "grid_auto_rows": null,
      "grid_column": null,
      "grid_gap": null,
      "grid_row": null,
      "grid_template_areas": null,
      "grid_template_columns": null,
      "grid_template_rows": null,
      "height": null,
      "justify_content": null,
      "justify_items": null,
      "left": null,
      "margin": null,
      "max_height": null,
      "max_width": null,
      "min_height": null,
      "min_width": null,
      "object_fit": null,
      "object_position": null,
      "order": null,
      "overflow": null,
      "overflow_x": null,
      "overflow_y": null,
      "padding": null,
      "right": null,
      "top": null,
      "visibility": null,
      "width": null
     }
    },
    "4a03fb6d945f4102bc4f7192195d810d": {
     "model_module": "@jupyter-widgets/base",
     "model_module_version": "1.2.0",
     "model_name": "LayoutModel",
     "state": {
      "_model_module": "@jupyter-widgets/base",
      "_model_module_version": "1.2.0",
      "_model_name": "LayoutModel",
      "_view_count": null,
      "_view_module": "@jupyter-widgets/base",
      "_view_module_version": "1.2.0",
      "_view_name": "LayoutView",
      "align_content": null,
      "align_items": null,
      "align_self": null,
      "border": null,
      "bottom": null,
      "display": null,
      "flex": null,
      "flex_flow": null,
      "grid_area": null,
      "grid_auto_columns": null,
      "grid_auto_flow": null,
      "grid_auto_rows": null,
      "grid_column": null,
      "grid_gap": null,
      "grid_row": null,
      "grid_template_areas": null,
      "grid_template_columns": null,
      "grid_template_rows": null,
      "height": null,
      "justify_content": null,
      "justify_items": null,
      "left": null,
      "margin": null,
      "max_height": null,
      "max_width": null,
      "min_height": null,
      "min_width": null,
      "object_fit": null,
      "object_position": null,
      "order": null,
      "overflow": null,
      "overflow_x": null,
      "overflow_y": null,
      "padding": null,
      "right": null,
      "top": null,
      "visibility": null,
      "width": "20px"
     }
    },
    "4b5c0df4da174b85958f2656241bdbcf": {
     "model_module": "@jupyter-widgets/base",
     "model_module_version": "1.2.0",
     "model_name": "LayoutModel",
     "state": {
      "_model_module": "@jupyter-widgets/base",
      "_model_module_version": "1.2.0",
      "_model_name": "LayoutModel",
      "_view_count": null,
      "_view_module": "@jupyter-widgets/base",
      "_view_module_version": "1.2.0",
      "_view_name": "LayoutView",
      "align_content": null,
      "align_items": null,
      "align_self": null,
      "border": null,
      "bottom": null,
      "display": null,
      "flex": null,
      "flex_flow": null,
      "grid_area": null,
      "grid_auto_columns": null,
      "grid_auto_flow": null,
      "grid_auto_rows": null,
      "grid_column": null,
      "grid_gap": null,
      "grid_row": null,
      "grid_template_areas": null,
      "grid_template_columns": null,
      "grid_template_rows": null,
      "height": null,
      "justify_content": null,
      "justify_items": null,
      "left": null,
      "margin": null,
      "max_height": null,
      "max_width": null,
      "min_height": null,
      "min_width": null,
      "object_fit": null,
      "object_position": null,
      "order": null,
      "overflow": null,
      "overflow_x": null,
      "overflow_y": null,
      "padding": null,
      "right": null,
      "top": null,
      "visibility": null,
      "width": null
     }
    },
    "4cc884973b734098a135619736b5f599": {
     "model_module": "@jupyter-widgets/base",
     "model_module_version": "1.2.0",
     "model_name": "LayoutModel",
     "state": {
      "_model_module": "@jupyter-widgets/base",
      "_model_module_version": "1.2.0",
      "_model_name": "LayoutModel",
      "_view_count": null,
      "_view_module": "@jupyter-widgets/base",
      "_view_module_version": "1.2.0",
      "_view_name": "LayoutView",
      "align_content": null,
      "align_items": null,
      "align_self": null,
      "border": null,
      "bottom": null,
      "display": null,
      "flex": null,
      "flex_flow": null,
      "grid_area": null,
      "grid_auto_columns": null,
      "grid_auto_flow": null,
      "grid_auto_rows": null,
      "grid_column": null,
      "grid_gap": null,
      "grid_row": null,
      "grid_template_areas": null,
      "grid_template_columns": null,
      "grid_template_rows": null,
      "height": null,
      "justify_content": null,
      "justify_items": null,
      "left": null,
      "margin": null,
      "max_height": null,
      "max_width": null,
      "min_height": null,
      "min_width": null,
      "object_fit": null,
      "object_position": null,
      "order": null,
      "overflow": null,
      "overflow_x": null,
      "overflow_y": null,
      "padding": null,
      "right": null,
      "top": null,
      "visibility": null,
      "width": null
     }
    },
    "4cdbe067372b4c32bc782f966aea7f42": {
     "model_module": "@jupyter-widgets/base",
     "model_module_version": "1.2.0",
     "model_name": "LayoutModel",
     "state": {
      "_model_module": "@jupyter-widgets/base",
      "_model_module_version": "1.2.0",
      "_model_name": "LayoutModel",
      "_view_count": null,
      "_view_module": "@jupyter-widgets/base",
      "_view_module_version": "1.2.0",
      "_view_name": "LayoutView",
      "align_content": null,
      "align_items": null,
      "align_self": null,
      "border": null,
      "bottom": null,
      "display": null,
      "flex": null,
      "flex_flow": null,
      "grid_area": null,
      "grid_auto_columns": null,
      "grid_auto_flow": null,
      "grid_auto_rows": null,
      "grid_column": null,
      "grid_gap": null,
      "grid_row": null,
      "grid_template_areas": null,
      "grid_template_columns": null,
      "grid_template_rows": null,
      "height": null,
      "justify_content": null,
      "justify_items": null,
      "left": null,
      "margin": null,
      "max_height": null,
      "max_width": null,
      "min_height": null,
      "min_width": null,
      "object_fit": null,
      "object_position": null,
      "order": null,
      "overflow": null,
      "overflow_x": null,
      "overflow_y": null,
      "padding": null,
      "right": null,
      "top": null,
      "visibility": null,
      "width": null
     }
    },
    "4def413403fd43ec8a02e910e398ec27": {
     "model_module": "@jupyter-widgets/controls",
     "model_module_version": "1.5.0",
     "model_name": "HBoxModel",
     "state": {
      "_dom_classes": [],
      "_model_module": "@jupyter-widgets/controls",
      "_model_module_version": "1.5.0",
      "_model_name": "HBoxModel",
      "_view_count": null,
      "_view_module": "@jupyter-widgets/controls",
      "_view_module_version": "1.5.0",
      "_view_name": "HBoxView",
      "box_style": "",
      "children": [
       "IPY_MODEL_dd67784133af4b019f744e6275dc5eda",
       "IPY_MODEL_90c2824fcfea49809b8eb6c055b498cb",
       "IPY_MODEL_67de1d1b96c04774a3fa1832e10a341b"
      ],
      "layout": "IPY_MODEL_0c4cae68248f47e0beb8e9da650432ea"
     }
    },
    "4edc929ca2e742eba597301d6b5e9c10": {
     "model_module": "@jupyter-widgets/base",
     "model_module_version": "1.2.0",
     "model_name": "LayoutModel",
     "state": {
      "_model_module": "@jupyter-widgets/base",
      "_model_module_version": "1.2.0",
      "_model_name": "LayoutModel",
      "_view_count": null,
      "_view_module": "@jupyter-widgets/base",
      "_view_module_version": "1.2.0",
      "_view_name": "LayoutView",
      "align_content": null,
      "align_items": null,
      "align_self": null,
      "border": null,
      "bottom": null,
      "display": null,
      "flex": null,
      "flex_flow": null,
      "grid_area": null,
      "grid_auto_columns": null,
      "grid_auto_flow": null,
      "grid_auto_rows": null,
      "grid_column": null,
      "grid_gap": null,
      "grid_row": null,
      "grid_template_areas": null,
      "grid_template_columns": null,
      "grid_template_rows": null,
      "height": null,
      "justify_content": null,
      "justify_items": null,
      "left": null,
      "margin": null,
      "max_height": null,
      "max_width": null,
      "min_height": null,
      "min_width": null,
      "object_fit": null,
      "object_position": null,
      "order": null,
      "overflow": null,
      "overflow_x": null,
      "overflow_y": null,
      "padding": null,
      "right": null,
      "top": null,
      "visibility": null,
      "width": null
     }
    },
    "4f70c2c356074adf9aa7c1fb6b20f8e3": {
     "model_module": "@jupyter-widgets/controls",
     "model_module_version": "1.5.0",
     "model_name": "DescriptionStyleModel",
     "state": {
      "_model_module": "@jupyter-widgets/controls",
      "_model_module_version": "1.5.0",
      "_model_name": "DescriptionStyleModel",
      "_view_count": null,
      "_view_module": "@jupyter-widgets/base",
      "_view_module_version": "1.2.0",
      "_view_name": "StyleView",
      "description_width": ""
     }
    },
    "524b5795780746f5966c06b878cc0fbc": {
     "model_module": "@jupyter-widgets/controls",
     "model_module_version": "1.5.0",
     "model_name": "HBoxModel",
     "state": {
      "_dom_classes": [],
      "_model_module": "@jupyter-widgets/controls",
      "_model_module_version": "1.5.0",
      "_model_name": "HBoxModel",
      "_view_count": null,
      "_view_module": "@jupyter-widgets/controls",
      "_view_module_version": "1.5.0",
      "_view_name": "HBoxView",
      "box_style": "",
      "children": [
       "IPY_MODEL_8eb41fee8e1c452a9d69a07a266d871a",
       "IPY_MODEL_f22febfc3bbe48058be84b2a20e906f5",
       "IPY_MODEL_ab51fefefa1b464a9a780b80c6f0c020"
      ],
      "layout": "IPY_MODEL_88fd1cb973f8485b97caa19b7801c3d3"
     }
    },
    "527bf8b3612b4da89479424c5b66681e": {
     "model_module": "@jupyter-widgets/controls",
     "model_module_version": "1.5.0",
     "model_name": "DescriptionStyleModel",
     "state": {
      "_model_module": "@jupyter-widgets/controls",
      "_model_module_version": "1.5.0",
      "_model_name": "DescriptionStyleModel",
      "_view_count": null,
      "_view_module": "@jupyter-widgets/base",
      "_view_module_version": "1.2.0",
      "_view_name": "StyleView",
      "description_width": ""
     }
    },
    "53741de4c5634c1d83472966e43888a3": {
     "model_module": "@jupyter-widgets/base",
     "model_module_version": "1.2.0",
     "model_name": "LayoutModel",
     "state": {
      "_model_module": "@jupyter-widgets/base",
      "_model_module_version": "1.2.0",
      "_model_name": "LayoutModel",
      "_view_count": null,
      "_view_module": "@jupyter-widgets/base",
      "_view_module_version": "1.2.0",
      "_view_name": "LayoutView",
      "align_content": null,
      "align_items": null,
      "align_self": null,
      "border": null,
      "bottom": null,
      "display": null,
      "flex": null,
      "flex_flow": null,
      "grid_area": null,
      "grid_auto_columns": null,
      "grid_auto_flow": null,
      "grid_auto_rows": null,
      "grid_column": null,
      "grid_gap": null,
      "grid_row": null,
      "grid_template_areas": null,
      "grid_template_columns": null,
      "grid_template_rows": null,
      "height": null,
      "justify_content": null,
      "justify_items": null,
      "left": null,
      "margin": null,
      "max_height": null,
      "max_width": null,
      "min_height": null,
      "min_width": null,
      "object_fit": null,
      "object_position": null,
      "order": null,
      "overflow": null,
      "overflow_x": null,
      "overflow_y": null,
      "padding": null,
      "right": null,
      "top": null,
      "visibility": null,
      "width": null
     }
    },
    "54a4204d69344802a2ff951792003c52": {
     "model_module": "@jupyter-widgets/controls",
     "model_module_version": "1.5.0",
     "model_name": "DescriptionStyleModel",
     "state": {
      "_model_module": "@jupyter-widgets/controls",
      "_model_module_version": "1.5.0",
      "_model_name": "DescriptionStyleModel",
      "_view_count": null,
      "_view_module": "@jupyter-widgets/base",
      "_view_module_version": "1.2.0",
      "_view_name": "StyleView",
      "description_width": ""
     }
    },
    "55cef7d0209e4afa83df3fe1c8acd4dc": {
     "model_module": "@jupyter-widgets/base",
     "model_module_version": "1.2.0",
     "model_name": "LayoutModel",
     "state": {
      "_model_module": "@jupyter-widgets/base",
      "_model_module_version": "1.2.0",
      "_model_name": "LayoutModel",
      "_view_count": null,
      "_view_module": "@jupyter-widgets/base",
      "_view_module_version": "1.2.0",
      "_view_name": "LayoutView",
      "align_content": null,
      "align_items": null,
      "align_self": null,
      "border": null,
      "bottom": null,
      "display": null,
      "flex": null,
      "flex_flow": null,
      "grid_area": null,
      "grid_auto_columns": null,
      "grid_auto_flow": null,
      "grid_auto_rows": null,
      "grid_column": null,
      "grid_gap": null,
      "grid_row": null,
      "grid_template_areas": null,
      "grid_template_columns": null,
      "grid_template_rows": null,
      "height": null,
      "justify_content": null,
      "justify_items": null,
      "left": null,
      "margin": null,
      "max_height": null,
      "max_width": null,
      "min_height": null,
      "min_width": null,
      "object_fit": null,
      "object_position": null,
      "order": null,
      "overflow": null,
      "overflow_x": null,
      "overflow_y": null,
      "padding": null,
      "right": null,
      "top": null,
      "visibility": null,
      "width": null
     }
    },
    "55d0bfd5c746402f89e6b86a7ca37b3a": {
     "model_module": "@jupyter-widgets/controls",
     "model_module_version": "1.5.0",
     "model_name": "HTMLModel",
     "state": {
      "_dom_classes": [],
      "_model_module": "@jupyter-widgets/controls",
      "_model_module_version": "1.5.0",
      "_model_name": "HTMLModel",
      "_view_count": null,
      "_view_module": "@jupyter-widgets/controls",
      "_view_module_version": "1.5.0",
      "_view_name": "HTMLView",
      "description": "",
      "description_tooltip": null,
      "layout": "IPY_MODEL_be78bdab8638431e80c087a0fe9a7a8f",
      "placeholder": "​",
      "style": "IPY_MODEL_d44a1f0b3216469fb1ac597951f9471a",
      "value": " 217/217 [00:00&lt;00:00, 8.74kB/s]"
     }
    },
    "56e15db7711c4f3d81f4706a93057a9d": {
     "model_module": "@jupyter-widgets/base",
     "model_module_version": "1.2.0",
     "model_name": "LayoutModel",
     "state": {
      "_model_module": "@jupyter-widgets/base",
      "_model_module_version": "1.2.0",
      "_model_name": "LayoutModel",
      "_view_count": null,
      "_view_module": "@jupyter-widgets/base",
      "_view_module_version": "1.2.0",
      "_view_name": "LayoutView",
      "align_content": null,
      "align_items": null,
      "align_self": null,
      "border": null,
      "bottom": null,
      "display": null,
      "flex": null,
      "flex_flow": null,
      "grid_area": null,
      "grid_auto_columns": null,
      "grid_auto_flow": null,
      "grid_auto_rows": null,
      "grid_column": null,
      "grid_gap": null,
      "grid_row": null,
      "grid_template_areas": null,
      "grid_template_columns": null,
      "grid_template_rows": null,
      "height": null,
      "justify_content": null,
      "justify_items": null,
      "left": null,
      "margin": null,
      "max_height": null,
      "max_width": null,
      "min_height": null,
      "min_width": null,
      "object_fit": null,
      "object_position": null,
      "order": null,
      "overflow": null,
      "overflow_x": null,
      "overflow_y": null,
      "padding": null,
      "right": null,
      "top": null,
      "visibility": null,
      "width": null
     }
    },
    "57d47d3c40d247feb00a29ff0938492d": {
     "model_module": "@jupyter-widgets/controls",
     "model_module_version": "1.5.0",
     "model_name": "DescriptionStyleModel",
     "state": {
      "_model_module": "@jupyter-widgets/controls",
      "_model_module_version": "1.5.0",
      "_model_name": "DescriptionStyleModel",
      "_view_count": null,
      "_view_module": "@jupyter-widgets/base",
      "_view_module_version": "1.2.0",
      "_view_name": "StyleView",
      "description_width": ""
     }
    },
    "586b37ddcef64e76a01e7ee6e5f81307": {
     "model_module": "@jupyter-widgets/controls",
     "model_module_version": "1.5.0",
     "model_name": "DescriptionStyleModel",
     "state": {
      "_model_module": "@jupyter-widgets/controls",
      "_model_module_version": "1.5.0",
      "_model_name": "DescriptionStyleModel",
      "_view_count": null,
      "_view_module": "@jupyter-widgets/base",
      "_view_module_version": "1.2.0",
      "_view_name": "StyleView",
      "description_width": ""
     }
    },
    "5874591082f944ff9b32202a1edbfd60": {
     "model_module": "@jupyter-widgets/base",
     "model_module_version": "1.2.0",
     "model_name": "LayoutModel",
     "state": {
      "_model_module": "@jupyter-widgets/base",
      "_model_module_version": "1.2.0",
      "_model_name": "LayoutModel",
      "_view_count": null,
      "_view_module": "@jupyter-widgets/base",
      "_view_module_version": "1.2.0",
      "_view_name": "LayoutView",
      "align_content": null,
      "align_items": null,
      "align_self": null,
      "border": null,
      "bottom": null,
      "display": null,
      "flex": null,
      "flex_flow": null,
      "grid_area": null,
      "grid_auto_columns": null,
      "grid_auto_flow": null,
      "grid_auto_rows": null,
      "grid_column": null,
      "grid_gap": null,
      "grid_row": null,
      "grid_template_areas": null,
      "grid_template_columns": null,
      "grid_template_rows": null,
      "height": null,
      "justify_content": null,
      "justify_items": null,
      "left": null,
      "margin": null,
      "max_height": null,
      "max_width": null,
      "min_height": null,
      "min_width": null,
      "object_fit": null,
      "object_position": null,
      "order": null,
      "overflow": null,
      "overflow_x": null,
      "overflow_y": null,
      "padding": null,
      "right": null,
      "top": null,
      "visibility": null,
      "width": null
     }
    },
    "5a9f966f31fe441981f43daef45329b8": {
     "model_module": "@jupyter-widgets/controls",
     "model_module_version": "1.5.0",
     "model_name": "DescriptionStyleModel",
     "state": {
      "_model_module": "@jupyter-widgets/controls",
      "_model_module_version": "1.5.0",
      "_model_name": "DescriptionStyleModel",
      "_view_count": null,
      "_view_module": "@jupyter-widgets/base",
      "_view_module_version": "1.2.0",
      "_view_name": "StyleView",
      "description_width": ""
     }
    },
    "5c49d625a7f742f1a64820bc6f749f3a": {
     "model_module": "@jupyter-widgets/controls",
     "model_module_version": "1.5.0",
     "model_name": "HTMLModel",
     "state": {
      "_dom_classes": [],
      "_model_module": "@jupyter-widgets/controls",
      "_model_module_version": "1.5.0",
      "_model_name": "HTMLModel",
      "_view_count": null,
      "_view_module": "@jupyter-widgets/controls",
      "_view_module_version": "1.5.0",
      "_view_name": "HTMLView",
      "description": "",
      "description_tooltip": null,
      "layout": "IPY_MODEL_17e3d063396848548af91c55c8f8e282",
      "placeholder": "​",
      "style": "IPY_MODEL_a3b48bc669674ff2a0bcce75a50e81eb",
      "value": " 85.0/85.0 [00:00&lt;00:00, 3.59kB/s]"
     }
    },
    "5cb2c62e3d6f426f8c17eec2fe6e23ae": {
     "model_module": "@jupyter-widgets/base",
     "model_module_version": "1.2.0",
     "model_name": "LayoutModel",
     "state": {
      "_model_module": "@jupyter-widgets/base",
      "_model_module_version": "1.2.0",
      "_model_name": "LayoutModel",
      "_view_count": null,
      "_view_module": "@jupyter-widgets/base",
      "_view_module_version": "1.2.0",
      "_view_name": "LayoutView",
      "align_content": null,
      "align_items": null,
      "align_self": null,
      "border": null,
      "bottom": null,
      "display": null,
      "flex": null,
      "flex_flow": null,
      "grid_area": null,
      "grid_auto_columns": null,
      "grid_auto_flow": null,
      "grid_auto_rows": null,
      "grid_column": null,
      "grid_gap": null,
      "grid_row": null,
      "grid_template_areas": null,
      "grid_template_columns": null,
      "grid_template_rows": null,
      "height": null,
      "justify_content": null,
      "justify_items": null,
      "left": null,
      "margin": null,
      "max_height": null,
      "max_width": null,
      "min_height": null,
      "min_width": null,
      "object_fit": null,
      "object_position": null,
      "order": null,
      "overflow": null,
      "overflow_x": null,
      "overflow_y": null,
      "padding": null,
      "right": null,
      "top": null,
      "visibility": null,
      "width": null
     }
    },
    "629e93c3e9624ddc8742a655f3edf4b6": {
     "model_module": "@jupyter-widgets/controls",
     "model_module_version": "1.5.0",
     "model_name": "ProgressStyleModel",
     "state": {
      "_model_module": "@jupyter-widgets/controls",
      "_model_module_version": "1.5.0",
      "_model_name": "ProgressStyleModel",
      "_view_count": null,
      "_view_module": "@jupyter-widgets/base",
      "_view_module_version": "1.2.0",
      "_view_name": "StyleView",
      "bar_color": null,
      "description_width": ""
     }
    },
    "638c91d67ca9466995f70a407b0b8b4d": {
     "model_module": "@jupyter-widgets/base",
     "model_module_version": "1.2.0",
     "model_name": "LayoutModel",
     "state": {
      "_model_module": "@jupyter-widgets/base",
      "_model_module_version": "1.2.0",
      "_model_name": "LayoutModel",
      "_view_count": null,
      "_view_module": "@jupyter-widgets/base",
      "_view_module_version": "1.2.0",
      "_view_name": "LayoutView",
      "align_content": null,
      "align_items": null,
      "align_self": null,
      "border": null,
      "bottom": null,
      "display": null,
      "flex": null,
      "flex_flow": null,
      "grid_area": null,
      "grid_auto_columns": null,
      "grid_auto_flow": null,
      "grid_auto_rows": null,
      "grid_column": null,
      "grid_gap": null,
      "grid_row": null,
      "grid_template_areas": null,
      "grid_template_columns": null,
      "grid_template_rows": null,
      "height": null,
      "justify_content": null,
      "justify_items": null,
      "left": null,
      "margin": null,
      "max_height": null,
      "max_width": null,
      "min_height": null,
      "min_width": null,
      "object_fit": null,
      "object_position": null,
      "order": null,
      "overflow": null,
      "overflow_x": null,
      "overflow_y": null,
      "padding": null,
      "right": null,
      "top": null,
      "visibility": null,
      "width": null
     }
    },
    "63e9fc689ea54fbfa7226cc9918977cb": {
     "model_module": "@jupyter-widgets/base",
     "model_module_version": "1.2.0",
     "model_name": "LayoutModel",
     "state": {
      "_model_module": "@jupyter-widgets/base",
      "_model_module_version": "1.2.0",
      "_model_name": "LayoutModel",
      "_view_count": null,
      "_view_module": "@jupyter-widgets/base",
      "_view_module_version": "1.2.0",
      "_view_name": "LayoutView",
      "align_content": null,
      "align_items": null,
      "align_self": null,
      "border": null,
      "bottom": null,
      "display": null,
      "flex": null,
      "flex_flow": null,
      "grid_area": null,
      "grid_auto_columns": null,
      "grid_auto_flow": null,
      "grid_auto_rows": null,
      "grid_column": null,
      "grid_gap": null,
      "grid_row": null,
      "grid_template_areas": null,
      "grid_template_columns": null,
      "grid_template_rows": null,
      "height": null,
      "justify_content": null,
      "justify_items": null,
      "left": null,
      "margin": null,
      "max_height": null,
      "max_width": null,
      "min_height": null,
      "min_width": null,
      "object_fit": null,
      "object_position": null,
      "order": null,
      "overflow": null,
      "overflow_x": null,
      "overflow_y": null,
      "padding": null,
      "right": null,
      "top": null,
      "visibility": null,
      "width": null
     }
    },
    "63ee5e2413434249bd47a8d662ec0da6": {
     "model_module": "@jupyter-widgets/controls",
     "model_module_version": "1.5.0",
     "model_name": "HBoxModel",
     "state": {
      "_dom_classes": [],
      "_model_module": "@jupyter-widgets/controls",
      "_model_module_version": "1.5.0",
      "_model_name": "HBoxModel",
      "_view_count": null,
      "_view_module": "@jupyter-widgets/controls",
      "_view_module_version": "1.5.0",
      "_view_name": "HBoxView",
      "box_style": "",
      "children": [
       "IPY_MODEL_d10215d60b9f471ab681a948ad143159",
       "IPY_MODEL_bcb33e49c5ab412eb5b8cd823cf06706",
       "IPY_MODEL_f23b78d30ff040f481b5584a83083b39"
      ],
      "layout": "IPY_MODEL_fe39df4b5e9d41f6a0233bafb4522dd4"
     }
    },
    "6412d390b2ce416fae910d689c3f6e70": {
     "model_module": "@jupyter-widgets/base",
     "model_module_version": "1.2.0",
     "model_name": "LayoutModel",
     "state": {
      "_model_module": "@jupyter-widgets/base",
      "_model_module_version": "1.2.0",
      "_model_name": "LayoutModel",
      "_view_count": null,
      "_view_module": "@jupyter-widgets/base",
      "_view_module_version": "1.2.0",
      "_view_name": "LayoutView",
      "align_content": null,
      "align_items": null,
      "align_self": null,
      "border": null,
      "bottom": null,
      "display": null,
      "flex": null,
      "flex_flow": null,
      "grid_area": null,
      "grid_auto_columns": null,
      "grid_auto_flow": null,
      "grid_auto_rows": null,
      "grid_column": null,
      "grid_gap": null,
      "grid_row": null,
      "grid_template_areas": null,
      "grid_template_columns": null,
      "grid_template_rows": null,
      "height": null,
      "justify_content": null,
      "justify_items": null,
      "left": null,
      "margin": null,
      "max_height": null,
      "max_width": null,
      "min_height": null,
      "min_width": null,
      "object_fit": null,
      "object_position": null,
      "order": null,
      "overflow": null,
      "overflow_x": null,
      "overflow_y": null,
      "padding": null,
      "right": null,
      "top": null,
      "visibility": null,
      "width": null
     }
    },
    "66d5a397b26e4d66a97bc3b3159e96bd": {
     "model_module": "@jupyter-widgets/controls",
     "model_module_version": "1.5.0",
     "model_name": "HBoxModel",
     "state": {
      "_dom_classes": [],
      "_model_module": "@jupyter-widgets/controls",
      "_model_module_version": "1.5.0",
      "_model_name": "HBoxModel",
      "_view_count": null,
      "_view_module": "@jupyter-widgets/controls",
      "_view_module_version": "1.5.0",
      "_view_name": "HBoxView",
      "box_style": "",
      "children": [
       "IPY_MODEL_041870fd5bac43b394956252364a16c4",
       "IPY_MODEL_26f6574d99724fb29159071dda6039b5",
       "IPY_MODEL_55d0bfd5c746402f89e6b86a7ca37b3a"
      ],
      "layout": "IPY_MODEL_b69bad861f014c20b4cb470c73b1fe37"
     }
    },
    "672cc40f853b46b5be717ef3454ab540": {
     "model_module": "@jupyter-widgets/base",
     "model_module_version": "1.2.0",
     "model_name": "LayoutModel",
     "state": {
      "_model_module": "@jupyter-widgets/base",
      "_model_module_version": "1.2.0",
      "_model_name": "LayoutModel",
      "_view_count": null,
      "_view_module": "@jupyter-widgets/base",
      "_view_module_version": "1.2.0",
      "_view_name": "LayoutView",
      "align_content": null,
      "align_items": null,
      "align_self": null,
      "border": null,
      "bottom": null,
      "display": null,
      "flex": null,
      "flex_flow": null,
      "grid_area": null,
      "grid_auto_columns": null,
      "grid_auto_flow": null,
      "grid_auto_rows": null,
      "grid_column": null,
      "grid_gap": null,
      "grid_row": null,
      "grid_template_areas": null,
      "grid_template_columns": null,
      "grid_template_rows": null,
      "height": null,
      "justify_content": null,
      "justify_items": null,
      "left": null,
      "margin": null,
      "max_height": null,
      "max_width": null,
      "min_height": null,
      "min_width": null,
      "object_fit": null,
      "object_position": null,
      "order": null,
      "overflow": null,
      "overflow_x": null,
      "overflow_y": null,
      "padding": null,
      "right": null,
      "top": null,
      "visibility": null,
      "width": null
     }
    },
    "67dd7dc28e7d47ab8c50c70e48b68f3d": {
     "model_module": "@jupyter-widgets/base",
     "model_module_version": "1.2.0",
     "model_name": "LayoutModel",
     "state": {
      "_model_module": "@jupyter-widgets/base",
      "_model_module_version": "1.2.0",
      "_model_name": "LayoutModel",
      "_view_count": null,
      "_view_module": "@jupyter-widgets/base",
      "_view_module_version": "1.2.0",
      "_view_name": "LayoutView",
      "align_content": null,
      "align_items": null,
      "align_self": null,
      "border": null,
      "bottom": null,
      "display": null,
      "flex": null,
      "flex_flow": null,
      "grid_area": null,
      "grid_auto_columns": null,
      "grid_auto_flow": null,
      "grid_auto_rows": null,
      "grid_column": null,
      "grid_gap": null,
      "grid_row": null,
      "grid_template_areas": null,
      "grid_template_columns": null,
      "grid_template_rows": null,
      "height": null,
      "justify_content": null,
      "justify_items": null,
      "left": null,
      "margin": null,
      "max_height": null,
      "max_width": null,
      "min_height": null,
      "min_width": null,
      "object_fit": null,
      "object_position": null,
      "order": null,
      "overflow": null,
      "overflow_x": null,
      "overflow_y": null,
      "padding": null,
      "right": null,
      "top": null,
      "visibility": null,
      "width": null
     }
    },
    "67de1d1b96c04774a3fa1832e10a341b": {
     "model_module": "@jupyter-widgets/controls",
     "model_module_version": "1.5.0",
     "model_name": "HTMLModel",
     "state": {
      "_dom_classes": [],
      "_model_module": "@jupyter-widgets/controls",
      "_model_module_version": "1.5.0",
      "_model_name": "HTMLModel",
      "_view_count": null,
      "_view_module": "@jupyter-widgets/controls",
      "_view_module_version": "1.5.0",
      "_view_name": "HTMLView",
      "description": "",
      "description_tooltip": null,
      "layout": "IPY_MODEL_55cef7d0209e4afa83df3fe1c8acd4dc",
      "placeholder": "​",
      "style": "IPY_MODEL_312812abe3664699ad03372f0a06d70e",
      "value": " 2/2 [00:00&lt;00:00, 96.40it/s]"
     }
    },
    "6a8694b9181f4828ba3ef4ff828fd1c3": {
     "model_module": "@jupyter-widgets/controls",
     "model_module_version": "1.5.0",
     "model_name": "ProgressStyleModel",
     "state": {
      "_model_module": "@jupyter-widgets/controls",
      "_model_module_version": "1.5.0",
      "_model_name": "ProgressStyleModel",
      "_view_count": null,
      "_view_module": "@jupyter-widgets/base",
      "_view_module_version": "1.2.0",
      "_view_name": "StyleView",
      "bar_color": null,
      "description_width": ""
     }
    },
    "6b03d462bd0f4fbeab0df76bbb881621": {
     "model_module": "@jupyter-widgets/controls",
     "model_module_version": "1.5.0",
     "model_name": "ProgressStyleModel",
     "state": {
      "_model_module": "@jupyter-widgets/controls",
      "_model_module_version": "1.5.0",
      "_model_name": "ProgressStyleModel",
      "_view_count": null,
      "_view_module": "@jupyter-widgets/base",
      "_view_module_version": "1.2.0",
      "_view_name": "StyleView",
      "bar_color": null,
      "description_width": ""
     }
    },
    "6b3288ffeef34c2a925d2554c7c4f521": {
     "model_module": "@jupyter-widgets/base",
     "model_module_version": "1.2.0",
     "model_name": "LayoutModel",
     "state": {
      "_model_module": "@jupyter-widgets/base",
      "_model_module_version": "1.2.0",
      "_model_name": "LayoutModel",
      "_view_count": null,
      "_view_module": "@jupyter-widgets/base",
      "_view_module_version": "1.2.0",
      "_view_name": "LayoutView",
      "align_content": null,
      "align_items": null,
      "align_self": null,
      "border": null,
      "bottom": null,
      "display": null,
      "flex": null,
      "flex_flow": null,
      "grid_area": null,
      "grid_auto_columns": null,
      "grid_auto_flow": null,
      "grid_auto_rows": null,
      "grid_column": null,
      "grid_gap": null,
      "grid_row": null,
      "grid_template_areas": null,
      "grid_template_columns": null,
      "grid_template_rows": null,
      "height": null,
      "justify_content": null,
      "justify_items": null,
      "left": null,
      "margin": null,
      "max_height": null,
      "max_width": null,
      "min_height": null,
      "min_width": null,
      "object_fit": null,
      "object_position": null,
      "order": null,
      "overflow": null,
      "overflow_x": null,
      "overflow_y": null,
      "padding": null,
      "right": null,
      "top": null,
      "visibility": null,
      "width": null
     }
    },
    "6ba56300bd3240629256a72060f36fde": {
     "model_module": "@jupyter-widgets/base",
     "model_module_version": "1.2.0",
     "model_name": "LayoutModel",
     "state": {
      "_model_module": "@jupyter-widgets/base",
      "_model_module_version": "1.2.0",
      "_model_name": "LayoutModel",
      "_view_count": null,
      "_view_module": "@jupyter-widgets/base",
      "_view_module_version": "1.2.0",
      "_view_name": "LayoutView",
      "align_content": null,
      "align_items": null,
      "align_self": null,
      "border": null,
      "bottom": null,
      "display": null,
      "flex": null,
      "flex_flow": null,
      "grid_area": null,
      "grid_auto_columns": null,
      "grid_auto_flow": null,
      "grid_auto_rows": null,
      "grid_column": null,
      "grid_gap": null,
      "grid_row": null,
      "grid_template_areas": null,
      "grid_template_columns": null,
      "grid_template_rows": null,
      "height": null,
      "justify_content": null,
      "justify_items": null,
      "left": null,
      "margin": null,
      "max_height": null,
      "max_width": null,
      "min_height": null,
      "min_width": null,
      "object_fit": null,
      "object_position": null,
      "order": null,
      "overflow": null,
      "overflow_x": null,
      "overflow_y": null,
      "padding": null,
      "right": null,
      "top": null,
      "visibility": null,
      "width": null
     }
    },
    "6ba8f8fde3fc4050a304df11cc1d2c7c": {
     "model_module": "@jupyter-widgets/controls",
     "model_module_version": "1.5.0",
     "model_name": "FloatProgressModel",
     "state": {
      "_dom_classes": [],
      "_model_module": "@jupyter-widgets/controls",
      "_model_module_version": "1.5.0",
      "_model_name": "FloatProgressModel",
      "_view_count": null,
      "_view_module": "@jupyter-widgets/controls",
      "_view_module_version": "1.5.0",
      "_view_name": "ProgressView",
      "bar_style": "success",
      "description": "",
      "description_tooltip": null,
      "layout": "IPY_MODEL_35a9027e670146f3a25db0d06035fd1b",
      "max": 4825,
      "min": 0,
      "orientation": "horizontal",
      "style": "IPY_MODEL_0cd65792216b4decaf24961bb33802d0",
      "value": 4825
     }
    },
    "6bfe6219ad934146a4d680e38ed19879": {
     "model_module": "@jupyter-widgets/controls",
     "model_module_version": "1.5.0",
     "model_name": "DescriptionStyleModel",
     "state": {
      "_model_module": "@jupyter-widgets/controls",
      "_model_module_version": "1.5.0",
      "_model_name": "DescriptionStyleModel",
      "_view_count": null,
      "_view_module": "@jupyter-widgets/base",
      "_view_module_version": "1.2.0",
      "_view_name": "StyleView",
      "description_width": ""
     }
    },
    "6ca0c9b3d250425b9597de9baa6bd77b": {
     "model_module": "@jupyter-widgets/controls",
     "model_module_version": "1.5.0",
     "model_name": "HBoxModel",
     "state": {
      "_dom_classes": [],
      "_model_module": "@jupyter-widgets/controls",
      "_model_module_version": "1.5.0",
      "_model_name": "HBoxModel",
      "_view_count": null,
      "_view_module": "@jupyter-widgets/controls",
      "_view_module_version": "1.5.0",
      "_view_name": "HBoxView",
      "box_style": "",
      "children": [
       "IPY_MODEL_b7d46c7f5da646eba0ed9e38fed6b4ee",
       "IPY_MODEL_7291673613bb43848bec1abee7447078",
       "IPY_MODEL_5c49d625a7f742f1a64820bc6f749f3a"
      ],
      "layout": "IPY_MODEL_a6a5bcb980df41d1b3e7b581701eae16"
     }
    },
    "6cac8e9fcefd4353a76244f89ff459e1": {
     "model_module": "@jupyter-widgets/base",
     "model_module_version": "1.2.0",
     "model_name": "LayoutModel",
     "state": {
      "_model_module": "@jupyter-widgets/base",
      "_model_module_version": "1.2.0",
      "_model_name": "LayoutModel",
      "_view_count": null,
      "_view_module": "@jupyter-widgets/base",
      "_view_module_version": "1.2.0",
      "_view_name": "LayoutView",
      "align_content": null,
      "align_items": null,
      "align_self": null,
      "border": null,
      "bottom": null,
      "display": null,
      "flex": null,
      "flex_flow": null,
      "grid_area": null,
      "grid_auto_columns": null,
      "grid_auto_flow": null,
      "grid_auto_rows": null,
      "grid_column": null,
      "grid_gap": null,
      "grid_row": null,
      "grid_template_areas": null,
      "grid_template_columns": null,
      "grid_template_rows": null,
      "height": null,
      "justify_content": null,
      "justify_items": null,
      "left": null,
      "margin": null,
      "max_height": null,
      "max_width": null,
      "min_height": null,
      "min_width": null,
      "object_fit": null,
      "object_position": null,
      "order": null,
      "overflow": null,
      "overflow_x": null,
      "overflow_y": null,
      "padding": null,
      "right": null,
      "top": null,
      "visibility": null,
      "width": null
     }
    },
    "6e710476548140209be424aefea55f37": {
     "model_module": "@jupyter-widgets/controls",
     "model_module_version": "1.5.0",
     "model_name": "DescriptionStyleModel",
     "state": {
      "_model_module": "@jupyter-widgets/controls",
      "_model_module_version": "1.5.0",
      "_model_name": "DescriptionStyleModel",
      "_view_count": null,
      "_view_module": "@jupyter-widgets/base",
      "_view_module_version": "1.2.0",
      "_view_name": "StyleView",
      "description_width": ""
     }
    },
    "6e71df2ad81042198778bd530451607d": {
     "model_module": "@jupyter-widgets/controls",
     "model_module_version": "1.5.0",
     "model_name": "HBoxModel",
     "state": {
      "_dom_classes": [],
      "_model_module": "@jupyter-widgets/controls",
      "_model_module_version": "1.5.0",
      "_model_name": "HBoxModel",
      "_view_count": null,
      "_view_module": "@jupyter-widgets/controls",
      "_view_module_version": "1.5.0",
      "_view_name": "HBoxView",
      "box_style": "",
      "children": [
       "IPY_MODEL_068c21f096294e7f882a8b1f785e25e1",
       "IPY_MODEL_02382696d96f42f68402da01248633b2",
       "IPY_MODEL_ab56be9b3b164e11a558dd7fe1901ea4"
      ],
      "layout": "IPY_MODEL_78e7c3827c6c414f97d5bdb7ccea790b"
     }
    },
    "6edeccbe943149ff969e60ee5bf4a8f7": {
     "model_module": "@jupyter-widgets/controls",
     "model_module_version": "1.5.0",
     "model_name": "HTMLModel",
     "state": {
      "_dom_classes": [],
      "_model_module": "@jupyter-widgets/controls",
      "_model_module_version": "1.5.0",
      "_model_name": "HTMLModel",
      "_view_count": null,
      "_view_module": "@jupyter-widgets/controls",
      "_view_module_version": "1.5.0",
      "_view_name": "HTMLView",
      "description": "",
      "description_tooltip": null,
      "layout": "IPY_MODEL_a0818d3082004fdf914160aa169febf1",
      "placeholder": "​",
      "style": "IPY_MODEL_2f91b0bc7e4143a987cad4169743d6ff",
      "value": " 7.06k/? [00:00&lt;00:00, 357kB/s]"
     }
    },
    "708ff309676040119bccd6f21d1684f6": {
     "model_module": "@jupyter-widgets/base",
     "model_module_version": "1.2.0",
     "model_name": "LayoutModel",
     "state": {
      "_model_module": "@jupyter-widgets/base",
      "_model_module_version": "1.2.0",
      "_model_name": "LayoutModel",
      "_view_count": null,
      "_view_module": "@jupyter-widgets/base",
      "_view_module_version": "1.2.0",
      "_view_name": "LayoutView",
      "align_content": null,
      "align_items": null,
      "align_self": null,
      "border": null,
      "bottom": null,
      "display": null,
      "flex": null,
      "flex_flow": null,
      "grid_area": null,
      "grid_auto_columns": null,
      "grid_auto_flow": null,
      "grid_auto_rows": null,
      "grid_column": null,
      "grid_gap": null,
      "grid_row": null,
      "grid_template_areas": null,
      "grid_template_columns": null,
      "grid_template_rows": null,
      "height": null,
      "justify_content": null,
      "justify_items": null,
      "left": null,
      "margin": null,
      "max_height": null,
      "max_width": null,
      "min_height": null,
      "min_width": null,
      "object_fit": null,
      "object_position": null,
      "order": null,
      "overflow": null,
      "overflow_x": null,
      "overflow_y": null,
      "padding": null,
      "right": null,
      "top": null,
      "visibility": null,
      "width": null
     }
    },
    "713e2a1e09b24c1ba0692b0432f954c3": {
     "model_module": "@jupyter-widgets/base",
     "model_module_version": "1.2.0",
     "model_name": "LayoutModel",
     "state": {
      "_model_module": "@jupyter-widgets/base",
      "_model_module_version": "1.2.0",
      "_model_name": "LayoutModel",
      "_view_count": null,
      "_view_module": "@jupyter-widgets/base",
      "_view_module_version": "1.2.0",
      "_view_name": "LayoutView",
      "align_content": null,
      "align_items": null,
      "align_self": null,
      "border": null,
      "bottom": null,
      "display": null,
      "flex": null,
      "flex_flow": null,
      "grid_area": null,
      "grid_auto_columns": null,
      "grid_auto_flow": null,
      "grid_auto_rows": null,
      "grid_column": null,
      "grid_gap": null,
      "grid_row": null,
      "grid_template_areas": null,
      "grid_template_columns": null,
      "grid_template_rows": null,
      "height": null,
      "justify_content": null,
      "justify_items": null,
      "left": null,
      "margin": null,
      "max_height": null,
      "max_width": null,
      "min_height": null,
      "min_width": null,
      "object_fit": null,
      "object_position": null,
      "order": null,
      "overflow": null,
      "overflow_x": null,
      "overflow_y": null,
      "padding": null,
      "right": null,
      "top": null,
      "visibility": null,
      "width": null
     }
    },
    "7291673613bb43848bec1abee7447078": {
     "model_module": "@jupyter-widgets/controls",
     "model_module_version": "1.5.0",
     "model_name": "FloatProgressModel",
     "state": {
      "_dom_classes": [],
      "_model_module": "@jupyter-widgets/controls",
      "_model_module_version": "1.5.0",
      "_model_name": "FloatProgressModel",
      "_view_count": null,
      "_view_module": "@jupyter-widgets/controls",
      "_view_module_version": "1.5.0",
      "_view_name": "ProgressView",
      "bar_style": "success",
      "description": "",
      "description_tooltip": null,
      "layout": "IPY_MODEL_ddd975596c234b0eacc40ef18ef40778",
      "max": 85,
      "min": 0,
      "orientation": "horizontal",
      "style": "IPY_MODEL_a5fd824b8eb64bb7b8d83354961927e6",
      "value": 85
     }
    },
    "7396afe547a34812b0cc070f6e4c94a2": {
     "model_module": "@jupyter-widgets/controls",
     "model_module_version": "1.5.0",
     "model_name": "FloatProgressModel",
     "state": {
      "_dom_classes": [],
      "_model_module": "@jupyter-widgets/controls",
      "_model_module_version": "1.5.0",
      "_model_name": "FloatProgressModel",
      "_view_count": null,
      "_view_module": "@jupyter-widgets/controls",
      "_view_module_version": "1.5.0",
      "_view_name": "ProgressView",
      "bar_style": "success",
      "description": "",
      "description_tooltip": null,
      "layout": "IPY_MODEL_924071ae6fca40cd85fa7c4b0f275ba8",
      "max": 1060,
      "min": 0,
      "orientation": "horizontal",
      "style": "IPY_MODEL_629e93c3e9624ddc8742a655f3edf4b6",
      "value": 1060
     }
    },
    "73b586087e9447e688c97318bf6eba11": {
     "model_module": "@jupyter-widgets/controls",
     "model_module_version": "1.5.0",
     "model_name": "HTMLModel",
     "state": {
      "_dom_classes": [],
      "_model_module": "@jupyter-widgets/controls",
      "_model_module_version": "1.5.0",
      "_model_name": "HTMLModel",
      "_view_count": null,
      "_view_module": "@jupyter-widgets/controls",
      "_view_module_version": "1.5.0",
      "_view_name": "HTMLView",
      "description": "",
      "description_tooltip": null,
      "layout": "IPY_MODEL_e53ec4e8ee3d44bb8b3bdcf323335c8a",
      "placeholder": "​",
      "style": "IPY_MODEL_ceef78fab0024c578976ad6c589c0d7f",
      "value": "Upload file runs/May10_11-02-51_d58de38fbf77/1652180636.6085317/events.out.tfevents.1652180636.d58de38fbf77.96.3: 100%"
     }
    },
    "7596ddf522e84fb0b4a62ecbe1234986": {
     "model_module": "@jupyter-widgets/controls",
     "model_module_version": "1.5.0",
     "model_name": "DescriptionStyleModel",
     "state": {
      "_model_module": "@jupyter-widgets/controls",
      "_model_module_version": "1.5.0",
      "_model_name": "DescriptionStyleModel",
      "_view_count": null,
      "_view_module": "@jupyter-widgets/base",
      "_view_module_version": "1.2.0",
      "_view_name": "StyleView",
      "description_width": ""
     }
    },
    "770d4802c0b34c999937a61f85de7760": {
     "model_module": "@jupyter-widgets/controls",
     "model_module_version": "1.5.0",
     "model_name": "FloatProgressModel",
     "state": {
      "_dom_classes": [],
      "_model_module": "@jupyter-widgets/controls",
      "_model_module_version": "1.5.0",
      "_model_name": "FloatProgressModel",
      "_view_count": null,
      "_view_module": "@jupyter-widgets/controls",
      "_view_module_version": "1.5.0",
      "_view_name": "ProgressView",
      "bar_style": "success",
      "description": "",
      "description_tooltip": null,
      "layout": "IPY_MODEL_b8cf032713ec410cb566623a308a3972",
      "max": 1,
      "min": 0,
      "orientation": "horizontal",
      "style": "IPY_MODEL_a3b0da3acf814e0e9eca6eb08238995e",
      "value": 1
     }
    },
    "7748d6bd4e224b3f836a06b321e72de0": {
     "model_module": "@jupyter-widgets/controls",
     "model_module_version": "1.5.0",
     "model_name": "HTMLModel",
     "state": {
      "_dom_classes": [],
      "_model_module": "@jupyter-widgets/controls",
      "_model_module_version": "1.5.0",
      "_model_name": "HTMLModel",
      "_view_count": null,
      "_view_module": "@jupyter-widgets/controls",
      "_view_module_version": "1.5.0",
      "_view_name": "HTMLView",
      "description": "",
      "description_tooltip": null,
      "layout": "IPY_MODEL_4cdbe067372b4c32bc782f966aea7f42",
      "placeholder": "​",
      "style": "IPY_MODEL_afe17562ac7948edab0233eb3804d9cb",
      "value": " 360M/360M [05:26&lt;00:00, 735kB/s]"
     }
    },
    "7851046f5de5478fa219f92fa1a4237a": {
     "model_module": "@jupyter-widgets/base",
     "model_module_version": "1.2.0",
     "model_name": "LayoutModel",
     "state": {
      "_model_module": "@jupyter-widgets/base",
      "_model_module_version": "1.2.0",
      "_model_name": "LayoutModel",
      "_view_count": null,
      "_view_module": "@jupyter-widgets/base",
      "_view_module_version": "1.2.0",
      "_view_name": "LayoutView",
      "align_content": null,
      "align_items": null,
      "align_self": null,
      "border": null,
      "bottom": null,
      "display": null,
      "flex": null,
      "flex_flow": null,
      "grid_area": null,
      "grid_auto_columns": null,
      "grid_auto_flow": null,
      "grid_auto_rows": null,
      "grid_column": null,
      "grid_gap": null,
      "grid_row": null,
      "grid_template_areas": null,
      "grid_template_columns": null,
      "grid_template_rows": null,
      "height": null,
      "justify_content": null,
      "justify_items": null,
      "left": null,
      "margin": null,
      "max_height": null,
      "max_width": null,
      "min_height": null,
      "min_width": null,
      "object_fit": null,
      "object_position": null,
      "order": null,
      "overflow": null,
      "overflow_x": null,
      "overflow_y": null,
      "padding": null,
      "right": null,
      "top": null,
      "visibility": null,
      "width": null
     }
    },
    "78e7c3827c6c414f97d5bdb7ccea790b": {
     "model_module": "@jupyter-widgets/base",
     "model_module_version": "1.2.0",
     "model_name": "LayoutModel",
     "state": {
      "_model_module": "@jupyter-widgets/base",
      "_model_module_version": "1.2.0",
      "_model_name": "LayoutModel",
      "_view_count": null,
      "_view_module": "@jupyter-widgets/base",
      "_view_module_version": "1.2.0",
      "_view_name": "LayoutView",
      "align_content": null,
      "align_items": null,
      "align_self": null,
      "border": null,
      "bottom": null,
      "display": null,
      "flex": null,
      "flex_flow": null,
      "grid_area": null,
      "grid_auto_columns": null,
      "grid_auto_flow": null,
      "grid_auto_rows": null,
      "grid_column": null,
      "grid_gap": null,
      "grid_row": null,
      "grid_template_areas": null,
      "grid_template_columns": null,
      "grid_template_rows": null,
      "height": null,
      "justify_content": null,
      "justify_items": null,
      "left": null,
      "margin": null,
      "max_height": null,
      "max_width": null,
      "min_height": null,
      "min_width": null,
      "object_fit": null,
      "object_position": null,
      "order": null,
      "overflow": null,
      "overflow_x": null,
      "overflow_y": null,
      "padding": null,
      "right": null,
      "top": null,
      "visibility": "hidden",
      "width": null
     }
    },
    "7a4e16be01db411d81b2ab60bf641f34": {
     "model_module": "@jupyter-widgets/controls",
     "model_module_version": "1.5.0",
     "model_name": "HTMLModel",
     "state": {
      "_dom_classes": [],
      "_model_module": "@jupyter-widgets/controls",
      "_model_module_version": "1.5.0",
      "_model_name": "HTMLModel",
      "_view_count": null,
      "_view_module": "@jupyter-widgets/controls",
      "_view_module_version": "1.5.0",
      "_view_name": "HTMLView",
      "description": "",
      "description_tooltip": null,
      "layout": "IPY_MODEL_48cc51ece41545c08bc3c6d69ab9c25b",
      "placeholder": "​",
      "style": "IPY_MODEL_54a4204d69344802a2ff951792003c52",
      "value": " 1563/0 [00:01&lt;00:00, 1569.48 examples/s]"
     }
    },
    "7b0c8bc5bb66433384aeb47bf99001ae": {
     "model_module": "@jupyter-widgets/base",
     "model_module_version": "1.2.0",
     "model_name": "LayoutModel",
     "state": {
      "_model_module": "@jupyter-widgets/base",
      "_model_module_version": "1.2.0",
      "_model_name": "LayoutModel",
      "_view_count": null,
      "_view_module": "@jupyter-widgets/base",
      "_view_module_version": "1.2.0",
      "_view_name": "LayoutView",
      "align_content": null,
      "align_items": null,
      "align_self": null,
      "border": null,
      "bottom": null,
      "display": null,
      "flex": null,
      "flex_flow": null,
      "grid_area": null,
      "grid_auto_columns": null,
      "grid_auto_flow": null,
      "grid_auto_rows": null,
      "grid_column": null,
      "grid_gap": null,
      "grid_row": null,
      "grid_template_areas": null,
      "grid_template_columns": null,
      "grid_template_rows": null,
      "height": null,
      "justify_content": null,
      "justify_items": null,
      "left": null,
      "margin": null,
      "max_height": null,
      "max_width": null,
      "min_height": null,
      "min_width": null,
      "object_fit": null,
      "object_position": null,
      "order": null,
      "overflow": null,
      "overflow_x": null,
      "overflow_y": null,
      "padding": null,
      "right": null,
      "top": null,
      "visibility": null,
      "width": null
     }
    },
    "7c7a5e160a6247bb83f2098b25440981": {
     "model_module": "@jupyter-widgets/base",
     "model_module_version": "1.2.0",
     "model_name": "LayoutModel",
     "state": {
      "_model_module": "@jupyter-widgets/base",
      "_model_module_version": "1.2.0",
      "_model_name": "LayoutModel",
      "_view_count": null,
      "_view_module": "@jupyter-widgets/base",
      "_view_module_version": "1.2.0",
      "_view_name": "LayoutView",
      "align_content": null,
      "align_items": null,
      "align_self": null,
      "border": null,
      "bottom": null,
      "display": null,
      "flex": null,
      "flex_flow": null,
      "grid_area": null,
      "grid_auto_columns": null,
      "grid_auto_flow": null,
      "grid_auto_rows": null,
      "grid_column": null,
      "grid_gap": null,
      "grid_row": null,
      "grid_template_areas": null,
      "grid_template_columns": null,
      "grid_template_rows": null,
      "height": null,
      "justify_content": null,
      "justify_items": null,
      "left": null,
      "margin": null,
      "max_height": null,
      "max_width": null,
      "min_height": null,
      "min_width": null,
      "object_fit": null,
      "object_position": null,
      "order": null,
      "overflow": null,
      "overflow_x": null,
      "overflow_y": null,
      "padding": null,
      "right": null,
      "top": null,
      "visibility": null,
      "width": null
     }
    },
    "7e954c0027d542bdafb1a4bb0cf7e0fa": {
     "model_module": "@jupyter-widgets/controls",
     "model_module_version": "1.5.0",
     "model_name": "HTMLModel",
     "state": {
      "_dom_classes": [],
      "_model_module": "@jupyter-widgets/controls",
      "_model_module_version": "1.5.0",
      "_model_name": "HTMLModel",
      "_view_count": null,
      "_view_module": "@jupyter-widgets/controls",
      "_view_module_version": "1.5.0",
      "_view_name": "HTMLView",
      "description": "",
      "description_tooltip": null,
      "layout": "IPY_MODEL_b6d3427dcf4a43feb625ab5c046a9187",
      "placeholder": "​",
      "style": "IPY_MODEL_cbf697c411c54f72b659e39eaa916874",
      "value": "100%"
     }
    },
    "820ac3ce474346728b80a609d47848ee": {
     "model_module": "@jupyter-widgets/controls",
     "model_module_version": "1.5.0",
     "model_name": "HTMLModel",
     "state": {
      "_dom_classes": [],
      "_model_module": "@jupyter-widgets/controls",
      "_model_module_version": "1.5.0",
      "_model_name": "HTMLModel",
      "_view_count": null,
      "_view_module": "@jupyter-widgets/controls",
      "_view_module_version": "1.5.0",
      "_view_name": "HTMLView",
      "description": "",
      "description_tooltip": null,
      "layout": "IPY_MODEL_f652ea3e007c42669e445a7247bb0430",
      "placeholder": "​",
      "style": "IPY_MODEL_527bf8b3612b4da89479424c5b66681e",
      "value": "Downloading: 100%"
     }
    },
    "8403ed265c75447cbf855f96d6e6e7f2": {
     "model_module": "@jupyter-widgets/controls",
     "model_module_version": "1.5.0",
     "model_name": "DescriptionStyleModel",
     "state": {
      "_model_module": "@jupyter-widgets/controls",
      "_model_module_version": "1.5.0",
      "_model_name": "DescriptionStyleModel",
      "_view_count": null,
      "_view_module": "@jupyter-widgets/base",
      "_view_module_version": "1.2.0",
      "_view_name": "StyleView",
      "description_width": ""
     }
    },
    "844a6e69f92249bcaf5443f816ea6424": {
     "model_module": "@jupyter-widgets/controls",
     "model_module_version": "1.5.0",
     "model_name": "HBoxModel",
     "state": {
      "_dom_classes": [],
      "_model_module": "@jupyter-widgets/controls",
      "_model_module_version": "1.5.0",
      "_model_name": "HBoxModel",
      "_view_count": null,
      "_view_module": "@jupyter-widgets/controls",
      "_view_module_version": "1.5.0",
      "_view_name": "HBoxView",
      "box_style": "",
      "children": [
       "IPY_MODEL_315ec181cf8b469390c4c0067f1abfbe",
       "IPY_MODEL_a80be53ed0184627b69dfabbd3b72dd0",
       "IPY_MODEL_6edeccbe943149ff969e60ee5bf4a8f7"
      ],
      "layout": "IPY_MODEL_4edc929ca2e742eba597301d6b5e9c10"
     }
    },
    "857f0c099d8549e98991a93c791db4c1": {
     "model_module": "@jupyter-widgets/controls",
     "model_module_version": "1.5.0",
     "model_name": "HTMLModel",
     "state": {
      "_dom_classes": [],
      "_model_module": "@jupyter-widgets/controls",
      "_model_module_version": "1.5.0",
      "_model_name": "HTMLModel",
      "_view_count": null,
      "_view_module": "@jupyter-widgets/controls",
      "_view_module_version": "1.5.0",
      "_view_name": "HTMLView",
      "description": "",
      "description_tooltip": null,
      "layout": "IPY_MODEL_8c968b160d3d4fbb998840734f9f07e4",
      "placeholder": "​",
      "style": "IPY_MODEL_d2fd7c9e56b1419f9d23a10c260a7c7d",
      "value": ""
     }
    },
    "85c183d42bc949e8848c9cf364926b8d": {
     "model_module": "@jupyter-widgets/base",
     "model_module_version": "1.2.0",
     "model_name": "LayoutModel",
     "state": {
      "_model_module": "@jupyter-widgets/base",
      "_model_module_version": "1.2.0",
      "_model_name": "LayoutModel",
      "_view_count": null,
      "_view_module": "@jupyter-widgets/base",
      "_view_module_version": "1.2.0",
      "_view_name": "LayoutView",
      "align_content": null,
      "align_items": null,
      "align_self": null,
      "border": null,
      "bottom": null,
      "display": null,
      "flex": null,
      "flex_flow": null,
      "grid_area": null,
      "grid_auto_columns": null,
      "grid_auto_flow": null,
      "grid_auto_rows": null,
      "grid_column": null,
      "grid_gap": null,
      "grid_row": null,
      "grid_template_areas": null,
      "grid_template_columns": null,
      "grid_template_rows": null,
      "height": null,
      "justify_content": null,
      "justify_items": null,
      "left": null,
      "margin": null,
      "max_height": null,
      "max_width": null,
      "min_height": null,
      "min_width": null,
      "object_fit": null,
      "object_position": null,
      "order": null,
      "overflow": null,
      "overflow_x": null,
      "overflow_y": null,
      "padding": null,
      "right": null,
      "top": null,
      "visibility": null,
      "width": null
     }
    },
    "88c2a6ec21a841cca8155fdaf3c4da28": {
     "model_module": "@jupyter-widgets/controls",
     "model_module_version": "1.5.0",
     "model_name": "DescriptionStyleModel",
     "state": {
      "_model_module": "@jupyter-widgets/controls",
      "_model_module_version": "1.5.0",
      "_model_name": "DescriptionStyleModel",
      "_view_count": null,
      "_view_module": "@jupyter-widgets/base",
      "_view_module_version": "1.2.0",
      "_view_name": "StyleView",
      "description_width": ""
     }
    },
    "88fd1cb973f8485b97caa19b7801c3d3": {
     "model_module": "@jupyter-widgets/base",
     "model_module_version": "1.2.0",
     "model_name": "LayoutModel",
     "state": {
      "_model_module": "@jupyter-widgets/base",
      "_model_module_version": "1.2.0",
      "_model_name": "LayoutModel",
      "_view_count": null,
      "_view_module": "@jupyter-widgets/base",
      "_view_module_version": "1.2.0",
      "_view_name": "LayoutView",
      "align_content": null,
      "align_items": null,
      "align_self": null,
      "border": null,
      "bottom": null,
      "display": null,
      "flex": null,
      "flex_flow": null,
      "grid_area": null,
      "grid_auto_columns": null,
      "grid_auto_flow": null,
      "grid_auto_rows": null,
      "grid_column": null,
      "grid_gap": null,
      "grid_row": null,
      "grid_template_areas": null,
      "grid_template_columns": null,
      "grid_template_rows": null,
      "height": null,
      "justify_content": null,
      "justify_items": null,
      "left": null,
      "margin": null,
      "max_height": null,
      "max_width": null,
      "min_height": null,
      "min_width": null,
      "object_fit": null,
      "object_position": null,
      "order": null,
      "overflow": null,
      "overflow_x": null,
      "overflow_y": null,
      "padding": null,
      "right": null,
      "top": null,
      "visibility": null,
      "width": null
     }
    },
    "89472d79793e4db9afa6845fb016c8ad": {
     "model_module": "@jupyter-widgets/base",
     "model_module_version": "1.2.0",
     "model_name": "LayoutModel",
     "state": {
      "_model_module": "@jupyter-widgets/base",
      "_model_module_version": "1.2.0",
      "_model_name": "LayoutModel",
      "_view_count": null,
      "_view_module": "@jupyter-widgets/base",
      "_view_module_version": "1.2.0",
      "_view_name": "LayoutView",
      "align_content": null,
      "align_items": null,
      "align_self": null,
      "border": null,
      "bottom": null,
      "display": null,
      "flex": null,
      "flex_flow": null,
      "grid_area": null,
      "grid_auto_columns": null,
      "grid_auto_flow": null,
      "grid_auto_rows": null,
      "grid_column": null,
      "grid_gap": null,
      "grid_row": null,
      "grid_template_areas": null,
      "grid_template_columns": null,
      "grid_template_rows": null,
      "height": null,
      "justify_content": null,
      "justify_items": null,
      "left": null,
      "margin": null,
      "max_height": null,
      "max_width": null,
      "min_height": null,
      "min_width": null,
      "object_fit": null,
      "object_position": null,
      "order": null,
      "overflow": null,
      "overflow_x": null,
      "overflow_y": null,
      "padding": null,
      "right": null,
      "top": null,
      "visibility": null,
      "width": null
     }
    },
    "8968d84823544ba88b75bf26c4c89bc6": {
     "model_module": "@jupyter-widgets/controls",
     "model_module_version": "1.5.0",
     "model_name": "HTMLModel",
     "state": {
      "_dom_classes": [],
      "_model_module": "@jupyter-widgets/controls",
      "_model_module_version": "1.5.0",
      "_model_name": "HTMLModel",
      "_view_count": null,
      "_view_module": "@jupyter-widgets/controls",
      "_view_module_version": "1.5.0",
      "_view_name": "HTMLView",
      "description": "",
      "description_tooltip": null,
      "layout": "IPY_MODEL_204bc71be71240938db25e68e8f60798",
      "placeholder": "​",
      "style": "IPY_MODEL_1c0f57ec16bb4225884c63c7997cfa77",
      "value": "Downloading: 100%"
     }
    },
    "8a622b09d8aa4665bd749d23e7e37ce1": {
     "model_module": "@jupyter-widgets/controls",
     "model_module_version": "1.5.0",
     "model_name": "HTMLModel",
     "state": {
      "_dom_classes": [],
      "_model_module": "@jupyter-widgets/controls",
      "_model_module_version": "1.5.0",
      "_model_name": "HTMLModel",
      "_view_count": null,
      "_view_module": "@jupyter-widgets/controls",
      "_view_module_version": "1.5.0",
      "_view_name": "HTMLView",
      "description": "",
      "description_tooltip": null,
      "layout": "IPY_MODEL_45a5cc7160b6483eb91686f138a82c1e",
      "placeholder": "​",
      "style": "IPY_MODEL_8c51f3f01dca44a4bf440c17d6f2d2ea",
      "value": "\n<b>Pro Tip:</b> If you don't already have one, you can create a dedicated\n'notebooks' token with 'write' access, that you can then easily reuse for all\nnotebooks. </center>"
     }
    },
    "8ab2466b187047fbbe4d8b72455b1108": {
     "model_module": "@jupyter-widgets/controls",
     "model_module_version": "1.5.0",
     "model_name": "ProgressStyleModel",
     "state": {
      "_model_module": "@jupyter-widgets/controls",
      "_model_module_version": "1.5.0",
      "_model_name": "ProgressStyleModel",
      "_view_count": null,
      "_view_module": "@jupyter-widgets/base",
      "_view_module_version": "1.2.0",
      "_view_name": "StyleView",
      "bar_color": null,
      "description_width": ""
     }
    },
    "8b226820799b4dbc843687369c9a512a": {
     "model_module": "@jupyter-widgets/controls",
     "model_module_version": "1.5.0",
     "model_name": "HTMLModel",
     "state": {
      "_dom_classes": [],
      "_model_module": "@jupyter-widgets/controls",
      "_model_module_version": "1.5.0",
      "_model_name": "HTMLModel",
      "_view_count": null,
      "_view_module": "@jupyter-widgets/controls",
      "_view_module_version": "1.5.0",
      "_view_name": "HTMLView",
      "description": "",
      "description_tooltip": null,
      "layout": "IPY_MODEL_3ce52aa810ea402b8ddafa86b5a0028f",
      "placeholder": "​",
      "style": "IPY_MODEL_6e710476548140209be424aefea55f37",
      "value": " 1680/? [00:00&lt;00:00, 9388.11ex/s]"
     }
    },
    "8c51f3f01dca44a4bf440c17d6f2d2ea": {
     "model_module": "@jupyter-widgets/controls",
     "model_module_version": "1.5.0",
     "model_name": "DescriptionStyleModel",
     "state": {
      "_model_module": "@jupyter-widgets/controls",
      "_model_module_version": "1.5.0",
      "_model_name": "DescriptionStyleModel",
      "_view_count": null,
      "_view_module": "@jupyter-widgets/base",
      "_view_module_version": "1.2.0",
      "_view_name": "StyleView",
      "description_width": ""
     }
    },
    "8c89f99cd7b9408eafbfbf8e0c56d39c": {
     "model_module": "@jupyter-widgets/base",
     "model_module_version": "1.2.0",
     "model_name": "LayoutModel",
     "state": {
      "_model_module": "@jupyter-widgets/base",
      "_model_module_version": "1.2.0",
      "_model_name": "LayoutModel",
      "_view_count": null,
      "_view_module": "@jupyter-widgets/base",
      "_view_module_version": "1.2.0",
      "_view_name": "LayoutView",
      "align_content": null,
      "align_items": null,
      "align_self": null,
      "border": null,
      "bottom": null,
      "display": null,
      "flex": null,
      "flex_flow": null,
      "grid_area": null,
      "grid_auto_columns": null,
      "grid_auto_flow": null,
      "grid_auto_rows": null,
      "grid_column": null,
      "grid_gap": null,
      "grid_row": null,
      "grid_template_areas": null,
      "grid_template_columns": null,
      "grid_template_rows": null,
      "height": null,
      "justify_content": null,
      "justify_items": null,
      "left": null,
      "margin": null,
      "max_height": null,
      "max_width": null,
      "min_height": null,
      "min_width": null,
      "object_fit": null,
      "object_position": null,
      "order": null,
      "overflow": null,
      "overflow_x": null,
      "overflow_y": null,
      "padding": null,
      "right": null,
      "top": null,
      "visibility": null,
      "width": null
     }
    },
    "8c968b160d3d4fbb998840734f9f07e4": {
     "model_module": "@jupyter-widgets/base",
     "model_module_version": "1.2.0",
     "model_name": "LayoutModel",
     "state": {
      "_model_module": "@jupyter-widgets/base",
      "_model_module_version": "1.2.0",
      "_model_name": "LayoutModel",
      "_view_count": null,
      "_view_module": "@jupyter-widgets/base",
      "_view_module_version": "1.2.0",
      "_view_name": "LayoutView",
      "align_content": null,
      "align_items": null,
      "align_self": null,
      "border": null,
      "bottom": null,
      "display": null,
      "flex": null,
      "flex_flow": null,
      "grid_area": null,
      "grid_auto_columns": null,
      "grid_auto_flow": null,
      "grid_auto_rows": null,
      "grid_column": null,
      "grid_gap": null,
      "grid_row": null,
      "grid_template_areas": null,
      "grid_template_columns": null,
      "grid_template_rows": null,
      "height": null,
      "justify_content": null,
      "justify_items": null,
      "left": null,
      "margin": null,
      "max_height": null,
      "max_width": null,
      "min_height": null,
      "min_width": null,
      "object_fit": null,
      "object_position": null,
      "order": null,
      "overflow": null,
      "overflow_x": null,
      "overflow_y": null,
      "padding": null,
      "right": null,
      "top": null,
      "visibility": null,
      "width": null
     }
    },
    "8e7fd1e3048a4543978cfa7461194433": {
     "model_module": "@jupyter-widgets/base",
     "model_module_version": "1.2.0",
     "model_name": "LayoutModel",
     "state": {
      "_model_module": "@jupyter-widgets/base",
      "_model_module_version": "1.2.0",
      "_model_name": "LayoutModel",
      "_view_count": null,
      "_view_module": "@jupyter-widgets/base",
      "_view_module_version": "1.2.0",
      "_view_name": "LayoutView",
      "align_content": null,
      "align_items": null,
      "align_self": null,
      "border": null,
      "bottom": null,
      "display": null,
      "flex": null,
      "flex_flow": null,
      "grid_area": null,
      "grid_auto_columns": null,
      "grid_auto_flow": null,
      "grid_auto_rows": null,
      "grid_column": null,
      "grid_gap": null,
      "grid_row": null,
      "grid_template_areas": null,
      "grid_template_columns": null,
      "grid_template_rows": null,
      "height": null,
      "justify_content": null,
      "justify_items": null,
      "left": null,
      "margin": null,
      "max_height": null,
      "max_width": null,
      "min_height": null,
      "min_width": null,
      "object_fit": null,
      "object_position": null,
      "order": null,
      "overflow": null,
      "overflow_x": null,
      "overflow_y": null,
      "padding": null,
      "right": null,
      "top": null,
      "visibility": null,
      "width": "20px"
     }
    },
    "8eb41fee8e1c452a9d69a07a266d871a": {
     "model_module": "@jupyter-widgets/controls",
     "model_module_version": "1.5.0",
     "model_name": "HTMLModel",
     "state": {
      "_dom_classes": [],
      "_model_module": "@jupyter-widgets/controls",
      "_model_module_version": "1.5.0",
      "_model_name": "HTMLModel",
      "_view_count": null,
      "_view_module": "@jupyter-widgets/controls",
      "_view_module_version": "1.5.0",
      "_view_name": "HTMLView",
      "description": "",
      "description_tooltip": null,
      "layout": "IPY_MODEL_3234edc4a75e4658acd19feef174e88f",
      "placeholder": "​",
      "style": "IPY_MODEL_6bfe6219ad934146a4d680e38ed19879",
      "value": "Downloading: 100%"
     }
    },
    "8f43661ab91e4101a933696f2c59e650": {
     "model_module": "@jupyter-widgets/controls",
     "model_module_version": "1.5.0",
     "model_name": "ProgressStyleModel",
     "state": {
      "_model_module": "@jupyter-widgets/controls",
      "_model_module_version": "1.5.0",
      "_model_name": "ProgressStyleModel",
      "_view_count": null,
      "_view_module": "@jupyter-widgets/base",
      "_view_module_version": "1.2.0",
      "_view_name": "StyleView",
      "bar_color": null,
      "description_width": ""
     }
    },
    "8fbdb230253a4152be95bf6229049f09": {
     "model_module": "@jupyter-widgets/controls",
     "model_module_version": "1.5.0",
     "model_name": "HBoxModel",
     "state": {
      "_dom_classes": [],
      "_model_module": "@jupyter-widgets/controls",
      "_model_module_version": "1.5.0",
      "_model_name": "HBoxModel",
      "_view_count": null,
      "_view_module": "@jupyter-widgets/controls",
      "_view_module_version": "1.5.0",
      "_view_name": "HBoxView",
      "box_style": "",
      "children": [
       "IPY_MODEL_857f0c099d8549e98991a93c791db4c1",
       "IPY_MODEL_16561789e2b9417a80ddcb6ef9d8676a",
       "IPY_MODEL_050c9d6bfd1e4b6ebe67401183a8d397"
      ],
      "layout": "IPY_MODEL_5874591082f944ff9b32202a1edbfd60"
     }
    },
    "90c2824fcfea49809b8eb6c055b498cb": {
     "model_module": "@jupyter-widgets/controls",
     "model_module_version": "1.5.0",
     "model_name": "FloatProgressModel",
     "state": {
      "_dom_classes": [],
      "_model_module": "@jupyter-widgets/controls",
      "_model_module_version": "1.5.0",
      "_model_name": "FloatProgressModel",
      "_view_count": null,
      "_view_module": "@jupyter-widgets/controls",
      "_view_module_version": "1.5.0",
      "_view_name": "ProgressView",
      "bar_style": "success",
      "description": "",
      "description_tooltip": null,
      "layout": "IPY_MODEL_9181ef801fa14dea956cd416dc1da1c7",
      "max": 2,
      "min": 0,
      "orientation": "horizontal",
      "style": "IPY_MODEL_03e14fce8a8c4451adac854356e0e000",
      "value": 2
     }
    },
    "90dbfe5bab604315b329a6a8fcf131b1": {
     "model_module": "@jupyter-widgets/base",
     "model_module_version": "1.2.0",
     "model_name": "LayoutModel",
     "state": {
      "_model_module": "@jupyter-widgets/base",
      "_model_module_version": "1.2.0",
      "_model_name": "LayoutModel",
      "_view_count": null,
      "_view_module": "@jupyter-widgets/base",
      "_view_module_version": "1.2.0",
      "_view_name": "LayoutView",
      "align_content": null,
      "align_items": null,
      "align_self": null,
      "border": null,
      "bottom": null,
      "display": null,
      "flex": null,
      "flex_flow": null,
      "grid_area": null,
      "grid_auto_columns": null,
      "grid_auto_flow": null,
      "grid_auto_rows": null,
      "grid_column": null,
      "grid_gap": null,
      "grid_row": null,
      "grid_template_areas": null,
      "grid_template_columns": null,
      "grid_template_rows": null,
      "height": null,
      "justify_content": null,
      "justify_items": null,
      "left": null,
      "margin": null,
      "max_height": null,
      "max_width": null,
      "min_height": null,
      "min_width": null,
      "object_fit": null,
      "object_position": null,
      "order": null,
      "overflow": null,
      "overflow_x": null,
      "overflow_y": null,
      "padding": null,
      "right": null,
      "top": null,
      "visibility": null,
      "width": null
     }
    },
    "9181ef801fa14dea956cd416dc1da1c7": {
     "model_module": "@jupyter-widgets/base",
     "model_module_version": "1.2.0",
     "model_name": "LayoutModel",
     "state": {
      "_model_module": "@jupyter-widgets/base",
      "_model_module_version": "1.2.0",
      "_model_name": "LayoutModel",
      "_view_count": null,
      "_view_module": "@jupyter-widgets/base",
      "_view_module_version": "1.2.0",
      "_view_name": "LayoutView",
      "align_content": null,
      "align_items": null,
      "align_self": null,
      "border": null,
      "bottom": null,
      "display": null,
      "flex": null,
      "flex_flow": null,
      "grid_area": null,
      "grid_auto_columns": null,
      "grid_auto_flow": null,
      "grid_auto_rows": null,
      "grid_column": null,
      "grid_gap": null,
      "grid_row": null,
      "grid_template_areas": null,
      "grid_template_columns": null,
      "grid_template_rows": null,
      "height": null,
      "justify_content": null,
      "justify_items": null,
      "left": null,
      "margin": null,
      "max_height": null,
      "max_width": null,
      "min_height": null,
      "min_width": null,
      "object_fit": null,
      "object_position": null,
      "order": null,
      "overflow": null,
      "overflow_x": null,
      "overflow_y": null,
      "padding": null,
      "right": null,
      "top": null,
      "visibility": null,
      "width": null
     }
    },
    "91a9bd637428473192d5ec47ba137268": {
     "model_module": "@jupyter-widgets/controls",
     "model_module_version": "1.5.0",
     "model_name": "HTMLModel",
     "state": {
      "_dom_classes": [],
      "_model_module": "@jupyter-widgets/controls",
      "_model_module_version": "1.5.0",
      "_model_name": "HTMLModel",
      "_view_count": null,
      "_view_module": "@jupyter-widgets/controls",
      "_view_module_version": "1.5.0",
      "_view_name": "HTMLView",
      "description": "",
      "description_tooltip": null,
      "layout": "IPY_MODEL_196c66080f944a61a537a0ddd9905248",
      "placeholder": "​",
      "style": "IPY_MODEL_e7d54319900548208c3852623ebc3dcf",
      "value": "Upload file training_args.bin: 100%"
     }
    },
    "924071ae6fca40cd85fa7c4b0f275ba8": {
     "model_module": "@jupyter-widgets/base",
     "model_module_version": "1.2.0",
     "model_name": "LayoutModel",
     "state": {
      "_model_module": "@jupyter-widgets/base",
      "_model_module_version": "1.2.0",
      "_model_name": "LayoutModel",
      "_view_count": null,
      "_view_module": "@jupyter-widgets/base",
      "_view_module_version": "1.2.0",
      "_view_name": "LayoutView",
      "align_content": null,
      "align_items": null,
      "align_self": null,
      "border": null,
      "bottom": null,
      "display": null,
      "flex": null,
      "flex_flow": null,
      "grid_area": null,
      "grid_auto_columns": null,
      "grid_auto_flow": null,
      "grid_auto_rows": null,
      "grid_column": null,
      "grid_gap": null,
      "grid_row": null,
      "grid_template_areas": null,
      "grid_template_columns": null,
      "grid_template_rows": null,
      "height": null,
      "justify_content": null,
      "justify_items": null,
      "left": null,
      "margin": null,
      "max_height": null,
      "max_width": null,
      "min_height": null,
      "min_width": null,
      "object_fit": null,
      "object_position": null,
      "order": null,
      "overflow": null,
      "overflow_x": null,
      "overflow_y": null,
      "padding": null,
      "right": null,
      "top": null,
      "visibility": null,
      "width": null
     }
    },
    "92ae2ab85efc40fa89da650ccbe85e21": {
     "model_module": "@jupyter-widgets/controls",
     "model_module_version": "1.5.0",
     "model_name": "DescriptionStyleModel",
     "state": {
      "_model_module": "@jupyter-widgets/controls",
      "_model_module_version": "1.5.0",
      "_model_name": "DescriptionStyleModel",
      "_view_count": null,
      "_view_module": "@jupyter-widgets/base",
      "_view_module_version": "1.2.0",
      "_view_name": "StyleView",
      "description_width": ""
     }
    },
    "93f90349e4fe4cf68c5928130722f8c9": {
     "model_module": "@jupyter-widgets/base",
     "model_module_version": "1.2.0",
     "model_name": "LayoutModel",
     "state": {
      "_model_module": "@jupyter-widgets/base",
      "_model_module_version": "1.2.0",
      "_model_name": "LayoutModel",
      "_view_count": null,
      "_view_module": "@jupyter-widgets/base",
      "_view_module_version": "1.2.0",
      "_view_name": "LayoutView",
      "align_content": null,
      "align_items": null,
      "align_self": null,
      "border": null,
      "bottom": null,
      "display": null,
      "flex": null,
      "flex_flow": null,
      "grid_area": null,
      "grid_auto_columns": null,
      "grid_auto_flow": null,
      "grid_auto_rows": null,
      "grid_column": null,
      "grid_gap": null,
      "grid_row": null,
      "grid_template_areas": null,
      "grid_template_columns": null,
      "grid_template_rows": null,
      "height": null,
      "justify_content": null,
      "justify_items": null,
      "left": null,
      "margin": null,
      "max_height": null,
      "max_width": null,
      "min_height": null,
      "min_width": null,
      "object_fit": null,
      "object_position": null,
      "order": null,
      "overflow": null,
      "overflow_x": null,
      "overflow_y": null,
      "padding": null,
      "right": null,
      "top": null,
      "visibility": null,
      "width": null
     }
    },
    "940e030ce7ae40d68136ddf1a1a67736": {
     "model_module": "@jupyter-widgets/base",
     "model_module_version": "1.2.0",
     "model_name": "LayoutModel",
     "state": {
      "_model_module": "@jupyter-widgets/base",
      "_model_module_version": "1.2.0",
      "_model_name": "LayoutModel",
      "_view_count": null,
      "_view_module": "@jupyter-widgets/base",
      "_view_module_version": "1.2.0",
      "_view_name": "LayoutView",
      "align_content": null,
      "align_items": null,
      "align_self": null,
      "border": null,
      "bottom": null,
      "display": null,
      "flex": null,
      "flex_flow": null,
      "grid_area": null,
      "grid_auto_columns": null,
      "grid_auto_flow": null,
      "grid_auto_rows": null,
      "grid_column": null,
      "grid_gap": null,
      "grid_row": null,
      "grid_template_areas": null,
      "grid_template_columns": null,
      "grid_template_rows": null,
      "height": null,
      "justify_content": null,
      "justify_items": null,
      "left": null,
      "margin": null,
      "max_height": null,
      "max_width": null,
      "min_height": null,
      "min_width": null,
      "object_fit": null,
      "object_position": null,
      "order": null,
      "overflow": null,
      "overflow_x": null,
      "overflow_y": null,
      "padding": null,
      "right": null,
      "top": null,
      "visibility": null,
      "width": null
     }
    },
    "958772f386e647ce8f00e8114db8532f": {
     "model_module": "@jupyter-widgets/controls",
     "model_module_version": "1.5.0",
     "model_name": "ProgressStyleModel",
     "state": {
      "_model_module": "@jupyter-widgets/controls",
      "_model_module_version": "1.5.0",
      "_model_name": "ProgressStyleModel",
      "_view_count": null,
      "_view_module": "@jupyter-widgets/base",
      "_view_module_version": "1.2.0",
      "_view_name": "StyleView",
      "bar_color": null,
      "description_width": ""
     }
    },
    "968f456d45ab4f25aeaf57b0c0ddc190": {
     "model_module": "@jupyter-widgets/base",
     "model_module_version": "1.2.0",
     "model_name": "LayoutModel",
     "state": {
      "_model_module": "@jupyter-widgets/base",
      "_model_module_version": "1.2.0",
      "_model_name": "LayoutModel",
      "_view_count": null,
      "_view_module": "@jupyter-widgets/base",
      "_view_module_version": "1.2.0",
      "_view_name": "LayoutView",
      "align_content": null,
      "align_items": null,
      "align_self": null,
      "border": null,
      "bottom": null,
      "display": null,
      "flex": null,
      "flex_flow": null,
      "grid_area": null,
      "grid_auto_columns": null,
      "grid_auto_flow": null,
      "grid_auto_rows": null,
      "grid_column": null,
      "grid_gap": null,
      "grid_row": null,
      "grid_template_areas": null,
      "grid_template_columns": null,
      "grid_template_rows": null,
      "height": null,
      "justify_content": null,
      "justify_items": null,
      "left": null,
      "margin": null,
      "max_height": null,
      "max_width": null,
      "min_height": null,
      "min_width": null,
      "object_fit": null,
      "object_position": null,
      "order": null,
      "overflow": null,
      "overflow_x": null,
      "overflow_y": null,
      "padding": null,
      "right": null,
      "top": null,
      "visibility": null,
      "width": null
     }
    },
    "9721f00cdfc942e8ab8a4faf8080ef2d": {
     "model_module": "@jupyter-widgets/base",
     "model_module_version": "1.2.0",
     "model_name": "LayoutModel",
     "state": {
      "_model_module": "@jupyter-widgets/base",
      "_model_module_version": "1.2.0",
      "_model_name": "LayoutModel",
      "_view_count": null,
      "_view_module": "@jupyter-widgets/base",
      "_view_module_version": "1.2.0",
      "_view_name": "LayoutView",
      "align_content": null,
      "align_items": null,
      "align_self": null,
      "border": null,
      "bottom": null,
      "display": null,
      "flex": null,
      "flex_flow": null,
      "grid_area": null,
      "grid_auto_columns": null,
      "grid_auto_flow": null,
      "grid_auto_rows": null,
      "grid_column": null,
      "grid_gap": null,
      "grid_row": null,
      "grid_template_areas": null,
      "grid_template_columns": null,
      "grid_template_rows": null,
      "height": null,
      "justify_content": null,
      "justify_items": null,
      "left": null,
      "margin": null,
      "max_height": null,
      "max_width": null,
      "min_height": null,
      "min_width": null,
      "object_fit": null,
      "object_position": null,
      "order": null,
      "overflow": null,
      "overflow_x": null,
      "overflow_y": null,
      "padding": null,
      "right": null,
      "top": null,
      "visibility": null,
      "width": null
     }
    },
    "98c5a711df7344798337c3bd94dcb7f1": {
     "model_module": "@jupyter-widgets/controls",
     "model_module_version": "1.5.0",
     "model_name": "DescriptionStyleModel",
     "state": {
      "_model_module": "@jupyter-widgets/controls",
      "_model_module_version": "1.5.0",
      "_model_name": "DescriptionStyleModel",
      "_view_count": null,
      "_view_module": "@jupyter-widgets/base",
      "_view_module_version": "1.2.0",
      "_view_name": "StyleView",
      "description_width": ""
     }
    },
    "9bd5653088f14e36affe0ca157a18103": {
     "model_module": "@jupyter-widgets/base",
     "model_module_version": "1.2.0",
     "model_name": "LayoutModel",
     "state": {
      "_model_module": "@jupyter-widgets/base",
      "_model_module_version": "1.2.0",
      "_model_name": "LayoutModel",
      "_view_count": null,
      "_view_module": "@jupyter-widgets/base",
      "_view_module_version": "1.2.0",
      "_view_name": "LayoutView",
      "align_content": null,
      "align_items": null,
      "align_self": null,
      "border": null,
      "bottom": null,
      "display": null,
      "flex": null,
      "flex_flow": null,
      "grid_area": null,
      "grid_auto_columns": null,
      "grid_auto_flow": null,
      "grid_auto_rows": null,
      "grid_column": null,
      "grid_gap": null,
      "grid_row": null,
      "grid_template_areas": null,
      "grid_template_columns": null,
      "grid_template_rows": null,
      "height": null,
      "justify_content": null,
      "justify_items": null,
      "left": null,
      "margin": null,
      "max_height": null,
      "max_width": null,
      "min_height": null,
      "min_width": null,
      "object_fit": null,
      "object_position": null,
      "order": null,
      "overflow": null,
      "overflow_x": null,
      "overflow_y": null,
      "padding": null,
      "right": null,
      "top": null,
      "visibility": null,
      "width": null
     }
    },
    "9ccb319b72b4470d91a892c47277c790": {
     "model_module": "@jupyter-widgets/base",
     "model_module_version": "1.2.0",
     "model_name": "LayoutModel",
     "state": {
      "_model_module": "@jupyter-widgets/base",
      "_model_module_version": "1.2.0",
      "_model_name": "LayoutModel",
      "_view_count": null,
      "_view_module": "@jupyter-widgets/base",
      "_view_module_version": "1.2.0",
      "_view_name": "LayoutView",
      "align_content": null,
      "align_items": null,
      "align_self": null,
      "border": null,
      "bottom": null,
      "display": null,
      "flex": null,
      "flex_flow": null,
      "grid_area": null,
      "grid_auto_columns": null,
      "grid_auto_flow": null,
      "grid_auto_rows": null,
      "grid_column": null,
      "grid_gap": null,
      "grid_row": null,
      "grid_template_areas": null,
      "grid_template_columns": null,
      "grid_template_rows": null,
      "height": null,
      "justify_content": null,
      "justify_items": null,
      "left": null,
      "margin": null,
      "max_height": null,
      "max_width": null,
      "min_height": null,
      "min_width": null,
      "object_fit": null,
      "object_position": null,
      "order": null,
      "overflow": null,
      "overflow_x": null,
      "overflow_y": null,
      "padding": null,
      "right": null,
      "top": null,
      "visibility": null,
      "width": null
     }
    },
    "9e17241932514e67930cf1c08f3e7fb2": {
     "model_module": "@jupyter-widgets/controls",
     "model_module_version": "1.5.0",
     "model_name": "ProgressStyleModel",
     "state": {
      "_model_module": "@jupyter-widgets/controls",
      "_model_module_version": "1.5.0",
      "_model_name": "ProgressStyleModel",
      "_view_count": null,
      "_view_module": "@jupyter-widgets/base",
      "_view_module_version": "1.2.0",
      "_view_name": "StyleView",
      "bar_color": null,
      "description_width": ""
     }
    },
    "a0818d3082004fdf914160aa169febf1": {
     "model_module": "@jupyter-widgets/base",
     "model_module_version": "1.2.0",
     "model_name": "LayoutModel",
     "state": {
      "_model_module": "@jupyter-widgets/base",
      "_model_module_version": "1.2.0",
      "_model_name": "LayoutModel",
      "_view_count": null,
      "_view_module": "@jupyter-widgets/base",
      "_view_module_version": "1.2.0",
      "_view_name": "LayoutView",
      "align_content": null,
      "align_items": null,
      "align_self": null,
      "border": null,
      "bottom": null,
      "display": null,
      "flex": null,
      "flex_flow": null,
      "grid_area": null,
      "grid_auto_columns": null,
      "grid_auto_flow": null,
      "grid_auto_rows": null,
      "grid_column": null,
      "grid_gap": null,
      "grid_row": null,
      "grid_template_areas": null,
      "grid_template_columns": null,
      "grid_template_rows": null,
      "height": null,
      "justify_content": null,
      "justify_items": null,
      "left": null,
      "margin": null,
      "max_height": null,
      "max_width": null,
      "min_height": null,
      "min_width": null,
      "object_fit": null,
      "object_position": null,
      "order": null,
      "overflow": null,
      "overflow_x": null,
      "overflow_y": null,
      "padding": null,
      "right": null,
      "top": null,
      "visibility": null,
      "width": null
     }
    },
    "a0e897961bb049438847879cf082adf3": {
     "model_module": "@jupyter-widgets/controls",
     "model_module_version": "1.5.0",
     "model_name": "HBoxModel",
     "state": {
      "_dom_classes": [],
      "_model_module": "@jupyter-widgets/controls",
      "_model_module_version": "1.5.0",
      "_model_name": "HBoxModel",
      "_view_count": null,
      "_view_module": "@jupyter-widgets/controls",
      "_view_module_version": "1.5.0",
      "_view_name": "HBoxView",
      "box_style": "",
      "children": [
       "IPY_MODEL_820ac3ce474346728b80a609d47848ee",
       "IPY_MODEL_045273b88fa04afba97bf7ba6027f164",
       "IPY_MODEL_4847949da7b64782895b4fca8b432ec8"
      ],
      "layout": "IPY_MODEL_427b99cf8b964a59bbbf0b4d04504906"
     }
    },
    "a3b0da3acf814e0e9eca6eb08238995e": {
     "model_module": "@jupyter-widgets/controls",
     "model_module_version": "1.5.0",
     "model_name": "ProgressStyleModel",
     "state": {
      "_model_module": "@jupyter-widgets/controls",
      "_model_module_version": "1.5.0",
      "_model_name": "ProgressStyleModel",
      "_view_count": null,
      "_view_module": "@jupyter-widgets/base",
      "_view_module_version": "1.2.0",
      "_view_name": "StyleView",
      "bar_color": null,
      "description_width": ""
     }
    },
    "a3b48bc669674ff2a0bcce75a50e81eb": {
     "model_module": "@jupyter-widgets/controls",
     "model_module_version": "1.5.0",
     "model_name": "DescriptionStyleModel",
     "state": {
      "_model_module": "@jupyter-widgets/controls",
      "_model_module_version": "1.5.0",
      "_model_name": "DescriptionStyleModel",
      "_view_count": null,
      "_view_module": "@jupyter-widgets/base",
      "_view_module_version": "1.2.0",
      "_view_name": "StyleView",
      "description_width": ""
     }
    },
    "a40561b6f013481ba77fa137ab43b1c2": {
     "model_module": "@jupyter-widgets/controls",
     "model_module_version": "1.5.0",
     "model_name": "DescriptionStyleModel",
     "state": {
      "_model_module": "@jupyter-widgets/controls",
      "_model_module_version": "1.5.0",
      "_model_name": "DescriptionStyleModel",
      "_view_count": null,
      "_view_module": "@jupyter-widgets/base",
      "_view_module_version": "1.2.0",
      "_view_name": "StyleView",
      "description_width": ""
     }
    },
    "a5fd824b8eb64bb7b8d83354961927e6": {
     "model_module": "@jupyter-widgets/controls",
     "model_module_version": "1.5.0",
     "model_name": "ProgressStyleModel",
     "state": {
      "_model_module": "@jupyter-widgets/controls",
      "_model_module_version": "1.5.0",
      "_model_name": "ProgressStyleModel",
      "_view_count": null,
      "_view_module": "@jupyter-widgets/base",
      "_view_module_version": "1.2.0",
      "_view_name": "StyleView",
      "bar_color": null,
      "description_width": ""
     }
    },
    "a6a5bcb980df41d1b3e7b581701eae16": {
     "model_module": "@jupyter-widgets/base",
     "model_module_version": "1.2.0",
     "model_name": "LayoutModel",
     "state": {
      "_model_module": "@jupyter-widgets/base",
      "_model_module_version": "1.2.0",
      "_model_name": "LayoutModel",
      "_view_count": null,
      "_view_module": "@jupyter-widgets/base",
      "_view_module_version": "1.2.0",
      "_view_name": "LayoutView",
      "align_content": null,
      "align_items": null,
      "align_self": null,
      "border": null,
      "bottom": null,
      "display": null,
      "flex": null,
      "flex_flow": null,
      "grid_area": null,
      "grid_auto_columns": null,
      "grid_auto_flow": null,
      "grid_auto_rows": null,
      "grid_column": null,
      "grid_gap": null,
      "grid_row": null,
      "grid_template_areas": null,
      "grid_template_columns": null,
      "grid_template_rows": null,
      "height": null,
      "justify_content": null,
      "justify_items": null,
      "left": null,
      "margin": null,
      "max_height": null,
      "max_width": null,
      "min_height": null,
      "min_width": null,
      "object_fit": null,
      "object_position": null,
      "order": null,
      "overflow": null,
      "overflow_x": null,
      "overflow_y": null,
      "padding": null,
      "right": null,
      "top": null,
      "visibility": null,
      "width": null
     }
    },
    "a6fa5cb83ec54a14b1d4fb24e7e81d87": {
     "model_module": "@jupyter-widgets/controls",
     "model_module_version": "1.5.0",
     "model_name": "FloatProgressModel",
     "state": {
      "_dom_classes": [],
      "_model_module": "@jupyter-widgets/controls",
      "_model_module_version": "1.5.0",
      "_model_name": "FloatProgressModel",
      "_view_count": null,
      "_view_module": "@jupyter-widgets/controls",
      "_view_module_version": "1.5.0",
      "_view_name": "ProgressView",
      "bar_style": "success",
      "description": "",
      "description_tooltip": null,
      "layout": "IPY_MODEL_b3829f975afd4c26a59fb2fb1b272921",
      "max": 1,
      "min": 0,
      "orientation": "horizontal",
      "style": "IPY_MODEL_958772f386e647ce8f00e8114db8532f",
      "value": 1
     }
    },
    "a7725ad7a1774178bba1b39b48bee36b": {
     "model_module": "@jupyter-widgets/controls",
     "model_module_version": "1.5.0",
     "model_name": "HBoxModel",
     "state": {
      "_dom_classes": [],
      "_model_module": "@jupyter-widgets/controls",
      "_model_module_version": "1.5.0",
      "_model_name": "HBoxModel",
      "_view_count": null,
      "_view_module": "@jupyter-widgets/controls",
      "_view_module_version": "1.5.0",
      "_view_name": "HBoxView",
      "box_style": "",
      "children": [
       "IPY_MODEL_acc6c975316f4fc9af3f449ccaf71646",
       "IPY_MODEL_2b48e3c58b284b32ae51a3c3afb13d85",
       "IPY_MODEL_7748d6bd4e224b3f836a06b321e72de0"
      ],
      "layout": "IPY_MODEL_b29aab47d701449181b8d8c715b09657"
     }
    },
    "a80be53ed0184627b69dfabbd3b72dd0": {
     "model_module": "@jupyter-widgets/controls",
     "model_module_version": "1.5.0",
     "model_name": "FloatProgressModel",
     "state": {
      "_dom_classes": [],
      "_model_module": "@jupyter-widgets/controls",
      "_model_module_version": "1.5.0",
      "_model_name": "FloatProgressModel",
      "_view_count": null,
      "_view_module": "@jupyter-widgets/controls",
      "_view_module_version": "1.5.0",
      "_view_name": "ProgressView",
      "bar_style": "success",
      "description": "",
      "description_tooltip": null,
      "layout": "IPY_MODEL_7c7a5e160a6247bb83f2098b25440981",
      "max": 2403,
      "min": 0,
      "orientation": "horizontal",
      "style": "IPY_MODEL_cefb3ec13b2944d585d999087910f1a0",
      "value": 2403
     }
    },
    "ab508721571948c58adf2877bc2cf9cb": {
     "model_module": "@jupyter-widgets/controls",
     "model_module_version": "1.5.0",
     "model_name": "DescriptionStyleModel",
     "state": {
      "_model_module": "@jupyter-widgets/controls",
      "_model_module_version": "1.5.0",
      "_model_name": "DescriptionStyleModel",
      "_view_count": null,
      "_view_module": "@jupyter-widgets/base",
      "_view_module_version": "1.2.0",
      "_view_name": "StyleView",
      "description_width": ""
     }
    },
    "ab51fefefa1b464a9a780b80c6f0c020": {
     "model_module": "@jupyter-widgets/controls",
     "model_module_version": "1.5.0",
     "model_name": "HTMLModel",
     "state": {
      "_dom_classes": [],
      "_model_module": "@jupyter-widgets/controls",
      "_model_module_version": "1.5.0",
      "_model_name": "HTMLModel",
      "_view_count": null,
      "_view_module": "@jupyter-widgets/controls",
      "_view_module_version": "1.5.0",
      "_view_name": "HTMLView",
      "description": "",
      "description_tooltip": null,
      "layout": "IPY_MODEL_6b3288ffeef34c2a925d2554c7c4f521",
      "placeholder": "​",
      "style": "IPY_MODEL_116e45bbe2d640d18d6a47309692dc20",
      "value": " 215/215 [00:00&lt;00:00, 8.22kB/s]"
     }
    },
    "ab56be9b3b164e11a558dd7fe1901ea4": {
     "model_module": "@jupyter-widgets/controls",
     "model_module_version": "1.5.0",
     "model_name": "HTMLModel",
     "state": {
      "_dom_classes": [],
      "_model_module": "@jupyter-widgets/controls",
      "_model_module_version": "1.5.0",
      "_model_name": "HTMLModel",
      "_view_count": null,
      "_view_module": "@jupyter-widgets/controls",
      "_view_module_version": "1.5.0",
      "_view_name": "HTMLView",
      "description": "",
      "description_tooltip": null,
      "layout": "IPY_MODEL_2caf93fcf6a54342a3a8415a46b2d2a0",
      "placeholder": "​",
      "style": "IPY_MODEL_88c2a6ec21a841cca8155fdaf3c4da28",
      "value": " 4537/0 [00:04&lt;00:00, 954.77 examples/s]"
     }
    },
    "acc6c975316f4fc9af3f449ccaf71646": {
     "model_module": "@jupyter-widgets/controls",
     "model_module_version": "1.5.0",
     "model_name": "HTMLModel",
     "state": {
      "_dom_classes": [],
      "_model_module": "@jupyter-widgets/controls",
      "_model_module_version": "1.5.0",
      "_model_name": "HTMLModel",
      "_view_count": null,
      "_view_module": "@jupyter-widgets/controls",
      "_view_module_version": "1.5.0",
      "_view_name": "HTMLView",
      "description": "",
      "description_tooltip": null,
      "layout": "IPY_MODEL_5cb2c62e3d6f426f8c17eec2fe6e23ae",
      "placeholder": "​",
      "style": "IPY_MODEL_f44a8453ba314ddbb153e1278eb59eec",
      "value": "Upload file pytorch_model.bin: 100%"
     }
    },
    "ad448b6709f54106a9c263c0142e6a89": {
     "model_module": "@jupyter-widgets/controls",
     "model_module_version": "1.5.0",
     "model_name": "HBoxModel",
     "state": {
      "_dom_classes": [],
      "_model_module": "@jupyter-widgets/controls",
      "_model_module_version": "1.5.0",
      "_model_name": "HBoxModel",
      "_view_count": null,
      "_view_module": "@jupyter-widgets/controls",
      "_view_module_version": "1.5.0",
      "_view_name": "HBoxView",
      "box_style": "",
      "children": [
       "IPY_MODEL_fde4ddb4596d4722b219ed99dca6d76b",
       "IPY_MODEL_7396afe547a34812b0cc070f6e4c94a2",
       "IPY_MODEL_043acda41e904eeca9fb1b51728b94a3"
      ],
      "layout": "IPY_MODEL_28d8685762a5464aa8d41defa911ca55"
     }
    },
    "adbd04cd03624b66a8c725f9a89647b6": {
     "model_module": "@jupyter-widgets/base",
     "model_module_version": "1.2.0",
     "model_name": "LayoutModel",
     "state": {
      "_model_module": "@jupyter-widgets/base",
      "_model_module_version": "1.2.0",
      "_model_name": "LayoutModel",
      "_view_count": null,
      "_view_module": "@jupyter-widgets/base",
      "_view_module_version": "1.2.0",
      "_view_name": "LayoutView",
      "align_content": null,
      "align_items": null,
      "align_self": null,
      "border": null,
      "bottom": null,
      "display": null,
      "flex": null,
      "flex_flow": null,
      "grid_area": null,
      "grid_auto_columns": null,
      "grid_auto_flow": null,
      "grid_auto_rows": null,
      "grid_column": null,
      "grid_gap": null,
      "grid_row": null,
      "grid_template_areas": null,
      "grid_template_columns": null,
      "grid_template_rows": null,
      "height": null,
      "justify_content": null,
      "justify_items": null,
      "left": null,
      "margin": null,
      "max_height": null,
      "max_width": null,
      "min_height": null,
      "min_width": null,
      "object_fit": null,
      "object_position": null,
      "order": null,
      "overflow": null,
      "overflow_x": null,
      "overflow_y": null,
      "padding": null,
      "right": null,
      "top": null,
      "visibility": null,
      "width": null
     }
    },
    "afe17562ac7948edab0233eb3804d9cb": {
     "model_module": "@jupyter-widgets/controls",
     "model_module_version": "1.5.0",
     "model_name": "DescriptionStyleModel",
     "state": {
      "_model_module": "@jupyter-widgets/controls",
      "_model_module_version": "1.5.0",
      "_model_name": "DescriptionStyleModel",
      "_view_count": null,
      "_view_module": "@jupyter-widgets/base",
      "_view_module_version": "1.2.0",
      "_view_name": "StyleView",
      "description_width": ""
     }
    },
    "b0c92d1e67cf4bef8c9daefd8b84323c": {
     "model_module": "@jupyter-widgets/controls",
     "model_module_version": "1.5.0",
     "model_name": "HBoxModel",
     "state": {
      "_dom_classes": [],
      "_model_module": "@jupyter-widgets/controls",
      "_model_module_version": "1.5.0",
      "_model_name": "HBoxModel",
      "_view_count": null,
      "_view_module": "@jupyter-widgets/controls",
      "_view_module_version": "1.5.0",
      "_view_name": "HBoxView",
      "box_style": "",
      "children": [
       "IPY_MODEL_e70ccebc02a54e8f9504e228ba1af05a",
       "IPY_MODEL_11069673d1eb4d8183ad45f38e85a449",
       "IPY_MODEL_cb5bb3554d24444aac24ba8d83147b1a"
      ],
      "layout": "IPY_MODEL_672cc40f853b46b5be717ef3454ab540"
     }
    },
    "b1a51bfb07774b7bac783d1c4d5a680c": {
     "model_module": "@jupyter-widgets/controls",
     "model_module_version": "1.5.0",
     "model_name": "DescriptionStyleModel",
     "state": {
      "_model_module": "@jupyter-widgets/controls",
      "_model_module_version": "1.5.0",
      "_model_name": "DescriptionStyleModel",
      "_view_count": null,
      "_view_module": "@jupyter-widgets/base",
      "_view_module_version": "1.2.0",
      "_view_name": "StyleView",
      "description_width": ""
     }
    },
    "b280a81c137447e997b1afd4201fa76b": {
     "model_module": "@jupyter-widgets/controls",
     "model_module_version": "1.5.0",
     "model_name": "FloatProgressModel",
     "state": {
      "_dom_classes": [],
      "_model_module": "@jupyter-widgets/controls",
      "_model_module_version": "1.5.0",
      "_model_name": "FloatProgressModel",
      "_view_count": null,
      "_view_module": "@jupyter-widgets/controls",
      "_view_module_version": "1.5.0",
      "_view_name": "ProgressView",
      "bar_style": "success",
      "description": "",
      "description_tooltip": null,
      "layout": "IPY_MODEL_9bd5653088f14e36affe0ca157a18103",
      "max": 869007403,
      "min": 0,
      "orientation": "horizontal",
      "style": "IPY_MODEL_c886b19fc4604d52823ccec84d91690d",
      "value": 869007403
     }
    },
    "b29aab47d701449181b8d8c715b09657": {
     "model_module": "@jupyter-widgets/base",
     "model_module_version": "1.2.0",
     "model_name": "LayoutModel",
     "state": {
      "_model_module": "@jupyter-widgets/base",
      "_model_module_version": "1.2.0",
      "_model_name": "LayoutModel",
      "_view_count": null,
      "_view_module": "@jupyter-widgets/base",
      "_view_module_version": "1.2.0",
      "_view_name": "LayoutView",
      "align_content": null,
      "align_items": null,
      "align_self": null,
      "border": null,
      "bottom": null,
      "display": null,
      "flex": null,
      "flex_flow": null,
      "grid_area": null,
      "grid_auto_columns": null,
      "grid_auto_flow": null,
      "grid_auto_rows": null,
      "grid_column": null,
      "grid_gap": null,
      "grid_row": null,
      "grid_template_areas": null,
      "grid_template_columns": null,
      "grid_template_rows": null,
      "height": null,
      "justify_content": null,
      "justify_items": null,
      "left": null,
      "margin": null,
      "max_height": null,
      "max_width": null,
      "min_height": null,
      "min_width": null,
      "object_fit": null,
      "object_position": null,
      "order": null,
      "overflow": null,
      "overflow_x": null,
      "overflow_y": null,
      "padding": null,
      "right": null,
      "top": null,
      "visibility": null,
      "width": null
     }
    },
    "b3829f975afd4c26a59fb2fb1b272921": {
     "model_module": "@jupyter-widgets/base",
     "model_module_version": "1.2.0",
     "model_name": "LayoutModel",
     "state": {
      "_model_module": "@jupyter-widgets/base",
      "_model_module_version": "1.2.0",
      "_model_name": "LayoutModel",
      "_view_count": null,
      "_view_module": "@jupyter-widgets/base",
      "_view_module_version": "1.2.0",
      "_view_name": "LayoutView",
      "align_content": null,
      "align_items": null,
      "align_self": null,
      "border": null,
      "bottom": null,
      "display": null,
      "flex": null,
      "flex_flow": null,
      "grid_area": null,
      "grid_auto_columns": null,
      "grid_auto_flow": null,
      "grid_auto_rows": null,
      "grid_column": null,
      "grid_gap": null,
      "grid_row": null,
      "grid_template_areas": null,
      "grid_template_columns": null,
      "grid_template_rows": null,
      "height": null,
      "justify_content": null,
      "justify_items": null,
      "left": null,
      "margin": null,
      "max_height": null,
      "max_width": null,
      "min_height": null,
      "min_width": null,
      "object_fit": null,
      "object_position": null,
      "order": null,
      "overflow": null,
      "overflow_x": null,
      "overflow_y": null,
      "padding": null,
      "right": null,
      "top": null,
      "visibility": null,
      "width": null
     }
    },
    "b69bad861f014c20b4cb470c73b1fe37": {
     "model_module": "@jupyter-widgets/base",
     "model_module_version": "1.2.0",
     "model_name": "LayoutModel",
     "state": {
      "_model_module": "@jupyter-widgets/base",
      "_model_module_version": "1.2.0",
      "_model_name": "LayoutModel",
      "_view_count": null,
      "_view_module": "@jupyter-widgets/base",
      "_view_module_version": "1.2.0",
      "_view_name": "LayoutView",
      "align_content": null,
      "align_items": null,
      "align_self": null,
      "border": null,
      "bottom": null,
      "display": null,
      "flex": null,
      "flex_flow": null,
      "grid_area": null,
      "grid_auto_columns": null,
      "grid_auto_flow": null,
      "grid_auto_rows": null,
      "grid_column": null,
      "grid_gap": null,
      "grid_row": null,
      "grid_template_areas": null,
      "grid_template_columns": null,
      "grid_template_rows": null,
      "height": null,
      "justify_content": null,
      "justify_items": null,
      "left": null,
      "margin": null,
      "max_height": null,
      "max_width": null,
      "min_height": null,
      "min_width": null,
      "object_fit": null,
      "object_position": null,
      "order": null,
      "overflow": null,
      "overflow_x": null,
      "overflow_y": null,
      "padding": null,
      "right": null,
      "top": null,
      "visibility": null,
      "width": null
     }
    },
    "b6d3427dcf4a43feb625ab5c046a9187": {
     "model_module": "@jupyter-widgets/base",
     "model_module_version": "1.2.0",
     "model_name": "LayoutModel",
     "state": {
      "_model_module": "@jupyter-widgets/base",
      "_model_module_version": "1.2.0",
      "_model_name": "LayoutModel",
      "_view_count": null,
      "_view_module": "@jupyter-widgets/base",
      "_view_module_version": "1.2.0",
      "_view_name": "LayoutView",
      "align_content": null,
      "align_items": null,
      "align_self": null,
      "border": null,
      "bottom": null,
      "display": null,
      "flex": null,
      "flex_flow": null,
      "grid_area": null,
      "grid_auto_columns": null,
      "grid_auto_flow": null,
      "grid_auto_rows": null,
      "grid_column": null,
      "grid_gap": null,
      "grid_row": null,
      "grid_template_areas": null,
      "grid_template_columns": null,
      "grid_template_rows": null,
      "height": null,
      "justify_content": null,
      "justify_items": null,
      "left": null,
      "margin": null,
      "max_height": null,
      "max_width": null,
      "min_height": null,
      "min_width": null,
      "object_fit": null,
      "object_position": null,
      "order": null,
      "overflow": null,
      "overflow_x": null,
      "overflow_y": null,
      "padding": null,
      "right": null,
      "top": null,
      "visibility": null,
      "width": null
     }
    },
    "b7d46c7f5da646eba0ed9e38fed6b4ee": {
     "model_module": "@jupyter-widgets/controls",
     "model_module_version": "1.5.0",
     "model_name": "HTMLModel",
     "state": {
      "_dom_classes": [],
      "_model_module": "@jupyter-widgets/controls",
      "_model_module_version": "1.5.0",
      "_model_name": "HTMLModel",
      "_view_count": null,
      "_view_module": "@jupyter-widgets/controls",
      "_view_module_version": "1.5.0",
      "_view_name": "HTMLView",
      "description": "",
      "description_tooltip": null,
      "layout": "IPY_MODEL_6412d390b2ce416fae910d689c3f6e70",
      "placeholder": "​",
      "style": "IPY_MODEL_255c276a050446ed9df81f8eeb7c1178",
      "value": "Downloading: 100%"
     }
    },
    "b7e31b58bd6a4c089045c8697c746ae7": {
     "model_module": "@jupyter-widgets/base",
     "model_module_version": "1.2.0",
     "model_name": "LayoutModel",
     "state": {
      "_model_module": "@jupyter-widgets/base",
      "_model_module_version": "1.2.0",
      "_model_name": "LayoutModel",
      "_view_count": null,
      "_view_module": "@jupyter-widgets/base",
      "_view_module_version": "1.2.0",
      "_view_name": "LayoutView",
      "align_content": null,
      "align_items": null,
      "align_self": null,
      "border": null,
      "bottom": null,
      "display": null,
      "flex": null,
      "flex_flow": null,
      "grid_area": null,
      "grid_auto_columns": null,
      "grid_auto_flow": null,
      "grid_auto_rows": null,
      "grid_column": null,
      "grid_gap": null,
      "grid_row": null,
      "grid_template_areas": null,
      "grid_template_columns": null,
      "grid_template_rows": null,
      "height": null,
      "justify_content": null,
      "justify_items": null,
      "left": null,
      "margin": null,
      "max_height": null,
      "max_width": null,
      "min_height": null,
      "min_width": null,
      "object_fit": null,
      "object_position": null,
      "order": null,
      "overflow": null,
      "overflow_x": null,
      "overflow_y": null,
      "padding": null,
      "right": null,
      "top": null,
      "visibility": null,
      "width": null
     }
    },
    "b82f952712a24fc7a0e592a4e1583f63": {
     "model_module": "@jupyter-widgets/base",
     "model_module_version": "1.2.0",
     "model_name": "LayoutModel",
     "state": {
      "_model_module": "@jupyter-widgets/base",
      "_model_module_version": "1.2.0",
      "_model_name": "LayoutModel",
      "_view_count": null,
      "_view_module": "@jupyter-widgets/base",
      "_view_module_version": "1.2.0",
      "_view_name": "LayoutView",
      "align_content": null,
      "align_items": null,
      "align_self": null,
      "border": null,
      "bottom": null,
      "display": null,
      "flex": null,
      "flex_flow": null,
      "grid_area": null,
      "grid_auto_columns": null,
      "grid_auto_flow": null,
      "grid_auto_rows": null,
      "grid_column": null,
      "grid_gap": null,
      "grid_row": null,
      "grid_template_areas": null,
      "grid_template_columns": null,
      "grid_template_rows": null,
      "height": null,
      "justify_content": null,
      "justify_items": null,
      "left": null,
      "margin": null,
      "max_height": null,
      "max_width": null,
      "min_height": null,
      "min_width": null,
      "object_fit": null,
      "object_position": null,
      "order": null,
      "overflow": null,
      "overflow_x": null,
      "overflow_y": null,
      "padding": null,
      "right": null,
      "top": null,
      "visibility": null,
      "width": "20px"
     }
    },
    "b8cf032713ec410cb566623a308a3972": {
     "model_module": "@jupyter-widgets/base",
     "model_module_version": "1.2.0",
     "model_name": "LayoutModel",
     "state": {
      "_model_module": "@jupyter-widgets/base",
      "_model_module_version": "1.2.0",
      "_model_name": "LayoutModel",
      "_view_count": null,
      "_view_module": "@jupyter-widgets/base",
      "_view_module_version": "1.2.0",
      "_view_name": "LayoutView",
      "align_content": null,
      "align_items": null,
      "align_self": null,
      "border": null,
      "bottom": null,
      "display": null,
      "flex": null,
      "flex_flow": null,
      "grid_area": null,
      "grid_auto_columns": null,
      "grid_auto_flow": null,
      "grid_auto_rows": null,
      "grid_column": null,
      "grid_gap": null,
      "grid_row": null,
      "grid_template_areas": null,
      "grid_template_columns": null,
      "grid_template_rows": null,
      "height": null,
      "justify_content": null,
      "justify_items": null,
      "left": null,
      "margin": null,
      "max_height": null,
      "max_width": null,
      "min_height": null,
      "min_width": null,
      "object_fit": null,
      "object_position": null,
      "order": null,
      "overflow": null,
      "overflow_x": null,
      "overflow_y": null,
      "padding": null,
      "right": null,
      "top": null,
      "visibility": null,
      "width": "20px"
     }
    },
    "bb57e3ec8c79442f8afe5137248cb510": {
     "model_module": "@jupyter-widgets/controls",
     "model_module_version": "1.5.0",
     "model_name": "FloatProgressModel",
     "state": {
      "_dom_classes": [],
      "_model_module": "@jupyter-widgets/controls",
      "_model_module_version": "1.5.0",
      "_model_name": "FloatProgressModel",
      "_view_count": null,
      "_view_module": "@jupyter-widgets/controls",
      "_view_module_version": "1.5.0",
      "_view_name": "ProgressView",
      "bar_style": "success",
      "description": "",
      "description_tooltip": null,
      "layout": "IPY_MODEL_14cc5a0b87c843bfb2c10419e00ba058",
      "max": 1,
      "min": 0,
      "orientation": "horizontal",
      "style": "IPY_MODEL_9e17241932514e67930cf1c08f3e7fb2",
      "value": 1
     }
    },
    "bcb33e49c5ab412eb5b8cd823cf06706": {
     "model_module": "@jupyter-widgets/controls",
     "model_module_version": "1.5.0",
     "model_name": "FloatProgressModel",
     "state": {
      "_dom_classes": [],
      "_model_module": "@jupyter-widgets/controls",
      "_model_module_version": "1.5.0",
      "_model_name": "FloatProgressModel",
      "_view_count": null,
      "_view_module": "@jupyter-widgets/controls",
      "_view_module_version": "1.5.0",
      "_view_name": "ProgressView",
      "bar_style": "success",
      "description": "",
      "description_tooltip": null,
      "layout": "IPY_MODEL_4cc884973b734098a135619736b5f599",
      "max": 19164,
      "min": 0,
      "orientation": "horizontal",
      "style": "IPY_MODEL_fd72ea27c82843ceb5fdb74886fc5b44",
      "value": 19164
     }
    },
    "be78bdab8638431e80c087a0fe9a7a8f": {
     "model_module": "@jupyter-widgets/base",
     "model_module_version": "1.2.0",
     "model_name": "LayoutModel",
     "state": {
      "_model_module": "@jupyter-widgets/base",
      "_model_module_version": "1.2.0",
      "_model_name": "LayoutModel",
      "_view_count": null,
      "_view_module": "@jupyter-widgets/base",
      "_view_module_version": "1.2.0",
      "_view_name": "LayoutView",
      "align_content": null,
      "align_items": null,
      "align_self": null,
      "border": null,
      "bottom": null,
      "display": null,
      "flex": null,
      "flex_flow": null,
      "grid_area": null,
      "grid_auto_columns": null,
      "grid_auto_flow": null,
      "grid_auto_rows": null,
      "grid_column": null,
      "grid_gap": null,
      "grid_row": null,
      "grid_template_areas": null,
      "grid_template_columns": null,
      "grid_template_rows": null,
      "height": null,
      "justify_content": null,
      "justify_items": null,
      "left": null,
      "margin": null,
      "max_height": null,
      "max_width": null,
      "min_height": null,
      "min_width": null,
      "object_fit": null,
      "object_position": null,
      "order": null,
      "overflow": null,
      "overflow_x": null,
      "overflow_y": null,
      "padding": null,
      "right": null,
      "top": null,
      "visibility": null,
      "width": null
     }
    },
    "bf2896c4b25147f0a303c748fa2b0cd9": {
     "model_module": "@jupyter-widgets/controls",
     "model_module_version": "1.5.0",
     "model_name": "DescriptionStyleModel",
     "state": {
      "_model_module": "@jupyter-widgets/controls",
      "_model_module_version": "1.5.0",
      "_model_name": "DescriptionStyleModel",
      "_view_count": null,
      "_view_module": "@jupyter-widgets/base",
      "_view_module_version": "1.2.0",
      "_view_name": "StyleView",
      "description_width": ""
     }
    },
    "c0af642f5ebf4eeaa392c8a005f11dfa": {
     "model_module": "@jupyter-widgets/controls",
     "model_module_version": "1.5.0",
     "model_name": "DescriptionStyleModel",
     "state": {
      "_model_module": "@jupyter-widgets/controls",
      "_model_module_version": "1.5.0",
      "_model_name": "DescriptionStyleModel",
      "_view_count": null,
      "_view_module": "@jupyter-widgets/base",
      "_view_module_version": "1.2.0",
      "_view_name": "StyleView",
      "description_width": ""
     }
    },
    "c3e4da7cc67c4332936f3b83eb0f1d6d": {
     "model_module": "@jupyter-widgets/controls",
     "model_module_version": "1.5.0",
     "model_name": "ButtonModel",
     "state": {
      "_dom_classes": [],
      "_model_module": "@jupyter-widgets/controls",
      "_model_module_version": "1.5.0",
      "_model_name": "ButtonModel",
      "_view_count": null,
      "_view_module": "@jupyter-widgets/controls",
      "_view_module_version": "1.5.0",
      "_view_name": "ButtonView",
      "button_style": "",
      "description": "Login",
      "disabled": false,
      "icon": "",
      "layout": "IPY_MODEL_4246cb15e90c451c9c5804ac10ac8190",
      "style": "IPY_MODEL_d54be46c53f84015b8aae323c84fe97c",
      "tooltip": ""
     }
    },
    "c3f5cf5f7d7c43458c7eae55cca984ec": {
     "model_module": "@jupyter-widgets/controls",
     "model_module_version": "1.5.0",
     "model_name": "DescriptionStyleModel",
     "state": {
      "_model_module": "@jupyter-widgets/controls",
      "_model_module_version": "1.5.0",
      "_model_name": "DescriptionStyleModel",
      "_view_count": null,
      "_view_module": "@jupyter-widgets/base",
      "_view_module_version": "1.2.0",
      "_view_name": "StyleView",
      "description_width": ""
     }
    },
    "c4ebbceb0da54ea7bb340e0504c53efe": {
     "model_module": "@jupyter-widgets/controls",
     "model_module_version": "1.5.0",
     "model_name": "ProgressStyleModel",
     "state": {
      "_model_module": "@jupyter-widgets/controls",
      "_model_module_version": "1.5.0",
      "_model_name": "ProgressStyleModel",
      "_view_count": null,
      "_view_module": "@jupyter-widgets/base",
      "_view_module_version": "1.2.0",
      "_view_name": "StyleView",
      "bar_color": null,
      "description_width": ""
     }
    },
    "c66b1962550b49f081293e33c6810aa6": {
     "model_module": "@jupyter-widgets/controls",
     "model_module_version": "1.5.0",
     "model_name": "VBoxModel",
     "state": {
      "_dom_classes": [],
      "_model_module": "@jupyter-widgets/controls",
      "_model_module_version": "1.5.0",
      "_model_name": "VBoxModel",
      "_view_count": null,
      "_view_module": "@jupyter-widgets/controls",
      "_view_module_version": "1.5.0",
      "_view_name": "VBoxView",
      "box_style": "",
      "children": [
       "IPY_MODEL_d6ddac7accab4e6daa6b4b3feb1bd3c9",
       "IPY_MODEL_009ff972692448a7aa4c9649767d57f8",
       "IPY_MODEL_cb2b5f6824f649e0a03b5d0bf5647657",
       "IPY_MODEL_c3e4da7cc67c4332936f3b83eb0f1d6d",
       "IPY_MODEL_8a622b09d8aa4665bd749d23e7e37ce1"
      ],
      "layout": "IPY_MODEL_1c4de4731eef4f7ca214c492bcd917c2"
     }
    },
    "c80bdd3bae794c08b81c950a33ff9ba0": {
     "model_module": "@jupyter-widgets/controls",
     "model_module_version": "1.5.0",
     "model_name": "DescriptionStyleModel",
     "state": {
      "_model_module": "@jupyter-widgets/controls",
      "_model_module_version": "1.5.0",
      "_model_name": "DescriptionStyleModel",
      "_view_count": null,
      "_view_module": "@jupyter-widgets/base",
      "_view_module_version": "1.2.0",
      "_view_name": "StyleView",
      "description_width": ""
     }
    },
    "c886b19fc4604d52823ccec84d91690d": {
     "model_module": "@jupyter-widgets/controls",
     "model_module_version": "1.5.0",
     "model_name": "ProgressStyleModel",
     "state": {
      "_model_module": "@jupyter-widgets/controls",
      "_model_module_version": "1.5.0",
      "_model_name": "ProgressStyleModel",
      "_view_count": null,
      "_view_module": "@jupyter-widgets/base",
      "_view_module_version": "1.2.0",
      "_view_name": "StyleView",
      "bar_color": null,
      "description_width": ""
     }
    },
    "cb2b5f6824f649e0a03b5d0bf5647657": {
     "model_module": "@jupyter-widgets/controls",
     "model_module_version": "1.5.0",
     "model_name": "CheckboxModel",
     "state": {
      "_dom_classes": [],
      "_model_module": "@jupyter-widgets/controls",
      "_model_module_version": "1.5.0",
      "_model_name": "CheckboxModel",
      "_view_count": null,
      "_view_module": "@jupyter-widgets/controls",
      "_view_module_version": "1.5.0",
      "_view_name": "CheckboxView",
      "description": "Add token as git credential?",
      "description_tooltip": null,
      "disabled": false,
      "indent": true,
      "layout": "IPY_MODEL_28712653a9274339b39ea186e7a0c2b2",
      "style": "IPY_MODEL_8403ed265c75447cbf855f96d6e6e7f2",
      "value": true
     }
    },
    "cb5bb3554d24444aac24ba8d83147b1a": {
     "model_module": "@jupyter-widgets/controls",
     "model_module_version": "1.5.0",
     "model_name": "HTMLModel",
     "state": {
      "_dom_classes": [],
      "_model_module": "@jupyter-widgets/controls",
      "_model_module_version": "1.5.0",
      "_model_name": "HTMLModel",
      "_view_count": null,
      "_view_module": "@jupyter-widgets/controls",
      "_view_module_version": "1.5.0",
      "_view_name": "HTMLView",
      "description": "",
      "description_tooltip": null,
      "layout": "IPY_MODEL_2e2d8b1a44f949149580995fee52747a",
      "placeholder": "​",
      "style": "IPY_MODEL_7596ddf522e84fb0b4a62ecbe1234986",
      "value": " 1/1 [00:00&lt;00:00, 15.18ba/s]"
     }
    },
    "cbf697c411c54f72b659e39eaa916874": {
     "model_module": "@jupyter-widgets/controls",
     "model_module_version": "1.5.0",
     "model_name": "DescriptionStyleModel",
     "state": {
      "_model_module": "@jupyter-widgets/controls",
      "_model_module_version": "1.5.0",
      "_model_name": "DescriptionStyleModel",
      "_view_count": null,
      "_view_module": "@jupyter-widgets/base",
      "_view_module_version": "1.2.0",
      "_view_name": "StyleView",
      "description_width": ""
     }
    },
    "ceef78fab0024c578976ad6c589c0d7f": {
     "model_module": "@jupyter-widgets/controls",
     "model_module_version": "1.5.0",
     "model_name": "DescriptionStyleModel",
     "state": {
      "_model_module": "@jupyter-widgets/controls",
      "_model_module_version": "1.5.0",
      "_model_name": "DescriptionStyleModel",
      "_view_count": null,
      "_view_module": "@jupyter-widgets/base",
      "_view_module_version": "1.2.0",
      "_view_name": "StyleView",
      "description_width": ""
     }
    },
    "cefb3ec13b2944d585d999087910f1a0": {
     "model_module": "@jupyter-widgets/controls",
     "model_module_version": "1.5.0",
     "model_name": "ProgressStyleModel",
     "state": {
      "_model_module": "@jupyter-widgets/controls",
      "_model_module_version": "1.5.0",
      "_model_name": "ProgressStyleModel",
      "_view_count": null,
      "_view_module": "@jupyter-widgets/base",
      "_view_module_version": "1.2.0",
      "_view_name": "StyleView",
      "bar_color": null,
      "description_width": ""
     }
    },
    "d10215d60b9f471ab681a948ad143159": {
     "model_module": "@jupyter-widgets/controls",
     "model_module_version": "1.5.0",
     "model_name": "HTMLModel",
     "state": {
      "_dom_classes": [],
      "_model_module": "@jupyter-widgets/controls",
      "_model_module_version": "1.5.0",
      "_model_name": "HTMLModel",
      "_view_count": null,
      "_view_module": "@jupyter-widgets/controls",
      "_view_module_version": "1.5.0",
      "_view_name": "HTMLView",
      "description": "",
      "description_tooltip": null,
      "layout": "IPY_MODEL_6cac8e9fcefd4353a76244f89ff459e1",
      "placeholder": "​",
      "style": "IPY_MODEL_4f70c2c356074adf9aa7c1fb6b20f8e3",
      "value": "Upload file runs/May10_11-02-51_d58de38fbf77/events.out.tfevents.1652180636.d58de38fbf77.96.2: 100%"
     }
    },
    "d2e06c630c9147e296d2b3e490fad1ea": {
     "model_module": "@jupyter-widgets/controls",
     "model_module_version": "1.5.0",
     "model_name": "HBoxModel",
     "state": {
      "_dom_classes": [],
      "_model_module": "@jupyter-widgets/controls",
      "_model_module_version": "1.5.0",
      "_model_name": "HBoxModel",
      "_view_count": null,
      "_view_module": "@jupyter-widgets/controls",
      "_view_module_version": "1.5.0",
      "_view_name": "HBoxView",
      "box_style": "",
      "children": [
       "IPY_MODEL_8968d84823544ba88b75bf26c4c89bc6",
       "IPY_MODEL_b280a81c137447e997b1afd4201fa76b",
       "IPY_MODEL_0ff1302607b242d49dffdf850396b644"
      ],
      "layout": "IPY_MODEL_713e2a1e09b24c1ba0692b0432f954c3"
     }
    },
    "d2fd7c9e56b1419f9d23a10c260a7c7d": {
     "model_module": "@jupyter-widgets/controls",
     "model_module_version": "1.5.0",
     "model_name": "DescriptionStyleModel",
     "state": {
      "_model_module": "@jupyter-widgets/controls",
      "_model_module_version": "1.5.0",
      "_model_name": "DescriptionStyleModel",
      "_view_count": null,
      "_view_module": "@jupyter-widgets/base",
      "_view_module_version": "1.2.0",
      "_view_name": "StyleView",
      "description_width": ""
     }
    },
    "d44a1f0b3216469fb1ac597951f9471a": {
     "model_module": "@jupyter-widgets/controls",
     "model_module_version": "1.5.0",
     "model_name": "DescriptionStyleModel",
     "state": {
      "_model_module": "@jupyter-widgets/controls",
      "_model_module_version": "1.5.0",
      "_model_name": "DescriptionStyleModel",
      "_view_count": null,
      "_view_module": "@jupyter-widgets/base",
      "_view_module_version": "1.2.0",
      "_view_name": "StyleView",
      "description_width": ""
     }
    },
    "d54be46c53f84015b8aae323c84fe97c": {
     "model_module": "@jupyter-widgets/controls",
     "model_module_version": "1.5.0",
     "model_name": "ButtonStyleModel",
     "state": {
      "_model_module": "@jupyter-widgets/controls",
      "_model_module_version": "1.5.0",
      "_model_name": "ButtonStyleModel",
      "_view_count": null,
      "_view_module": "@jupyter-widgets/base",
      "_view_module_version": "1.2.0",
      "_view_name": "StyleView",
      "button_color": null,
      "font_weight": ""
     }
    },
    "d6ddac7accab4e6daa6b4b3feb1bd3c9": {
     "model_module": "@jupyter-widgets/controls",
     "model_module_version": "1.5.0",
     "model_name": "HTMLModel",
     "state": {
      "_dom_classes": [],
      "_model_module": "@jupyter-widgets/controls",
      "_model_module_version": "1.5.0",
      "_model_name": "HTMLModel",
      "_view_count": null,
      "_view_module": "@jupyter-widgets/controls",
      "_view_module_version": "1.5.0",
      "_view_name": "HTMLView",
      "description": "",
      "description_tooltip": null,
      "layout": "IPY_MODEL_371231a0ba6e4ed4b4182009c95adaab",
      "placeholder": "​",
      "style": "IPY_MODEL_c3f5cf5f7d7c43458c7eae55cca984ec",
      "value": "<center> <img\nsrc=https://huggingface.co/front/assets/huggingface_logo-noborder.svg\nalt='Hugging Face'> <br> Copy a token from <a\nhref=\"https://huggingface.co/settings/tokens\" target=\"_blank\">your Hugging Face\ntokens page</a> and paste it below. <br> Immediately click login after copying\nyour token or it might be stored in plain text in this notebook file. </center>"
     }
    },
    "d7292162448a4450a72aaeaafd564e1a": {
     "model_module": "@jupyter-widgets/base",
     "model_module_version": "1.2.0",
     "model_name": "LayoutModel",
     "state": {
      "_model_module": "@jupyter-widgets/base",
      "_model_module_version": "1.2.0",
      "_model_name": "LayoutModel",
      "_view_count": null,
      "_view_module": "@jupyter-widgets/base",
      "_view_module_version": "1.2.0",
      "_view_name": "LayoutView",
      "align_content": null,
      "align_items": null,
      "align_self": null,
      "border": null,
      "bottom": null,
      "display": null,
      "flex": null,
      "flex_flow": null,
      "grid_area": null,
      "grid_auto_columns": null,
      "grid_auto_flow": null,
      "grid_auto_rows": null,
      "grid_column": null,
      "grid_gap": null,
      "grid_row": null,
      "grid_template_areas": null,
      "grid_template_columns": null,
      "grid_template_rows": null,
      "height": null,
      "justify_content": null,
      "justify_items": null,
      "left": null,
      "margin": null,
      "max_height": null,
      "max_width": null,
      "min_height": null,
      "min_width": null,
      "object_fit": null,
      "object_position": null,
      "order": null,
      "overflow": null,
      "overflow_x": null,
      "overflow_y": null,
      "padding": null,
      "right": null,
      "top": null,
      "visibility": "hidden",
      "width": null
     }
    },
    "d8f4c2ce266a4a9284572af28ad9ad1c": {
     "model_module": "@jupyter-widgets/controls",
     "model_module_version": "1.5.0",
     "model_name": "ProgressStyleModel",
     "state": {
      "_model_module": "@jupyter-widgets/controls",
      "_model_module_version": "1.5.0",
      "_model_name": "ProgressStyleModel",
      "_view_count": null,
      "_view_module": "@jupyter-widgets/base",
      "_view_module_version": "1.2.0",
      "_view_name": "StyleView",
      "bar_color": null,
      "description_width": ""
     }
    },
    "d9dd3186650944089fe82104ea748121": {
     "model_module": "@jupyter-widgets/controls",
     "model_module_version": "1.5.0",
     "model_name": "DescriptionStyleModel",
     "state": {
      "_model_module": "@jupyter-widgets/controls",
      "_model_module_version": "1.5.0",
      "_model_name": "DescriptionStyleModel",
      "_view_count": null,
      "_view_module": "@jupyter-widgets/base",
      "_view_module_version": "1.2.0",
      "_view_name": "StyleView",
      "description_width": ""
     }
    },
    "dc034b4bf9e34963ab79f391c55d44ac": {
     "model_module": "@jupyter-widgets/controls",
     "model_module_version": "1.5.0",
     "model_name": "ProgressStyleModel",
     "state": {
      "_model_module": "@jupyter-widgets/controls",
      "_model_module_version": "1.5.0",
      "_model_name": "ProgressStyleModel",
      "_view_count": null,
      "_view_module": "@jupyter-widgets/base",
      "_view_module_version": "1.2.0",
      "_view_name": "StyleView",
      "bar_color": null,
      "description_width": ""
     }
    },
    "dcb87e1561394560bf8e8b6abf8b14b6": {
     "model_module": "@jupyter-widgets/controls",
     "model_module_version": "1.5.0",
     "model_name": "HTMLModel",
     "state": {
      "_dom_classes": [],
      "_model_module": "@jupyter-widgets/controls",
      "_model_module_version": "1.5.0",
      "_model_name": "HTMLModel",
      "_view_count": null,
      "_view_module": "@jupyter-widgets/controls",
      "_view_module_version": "1.5.0",
      "_view_name": "HTMLView",
      "description": "",
      "description_tooltip": null,
      "layout": "IPY_MODEL_56e15db7711c4f3d81f4706a93057a9d",
      "placeholder": "​",
      "style": "IPY_MODEL_ab508721571948c58adf2877bc2cf9cb",
      "value": " 4620/? [00:00&lt;00:00, 12397.71ex/s]"
     }
    },
    "dd67784133af4b019f744e6275dc5eda": {
     "model_module": "@jupyter-widgets/controls",
     "model_module_version": "1.5.0",
     "model_name": "HTMLModel",
     "state": {
      "_dom_classes": [],
      "_model_module": "@jupyter-widgets/controls",
      "_model_module_version": "1.5.0",
      "_model_name": "HTMLModel",
      "_view_count": null,
      "_view_module": "@jupyter-widgets/controls",
      "_view_module_version": "1.5.0",
      "_view_name": "HTMLView",
      "description": "",
      "description_tooltip": null,
      "layout": "IPY_MODEL_22101e234b5247159a1dc2cbe55c5ba7",
      "placeholder": "​",
      "style": "IPY_MODEL_f6a322f066c6446a90487d5c47bf51a9",
      "value": "100%"
     }
    },
    "ddd975596c234b0eacc40ef18ef40778": {
     "model_module": "@jupyter-widgets/base",
     "model_module_version": "1.2.0",
     "model_name": "LayoutModel",
     "state": {
      "_model_module": "@jupyter-widgets/base",
      "_model_module_version": "1.2.0",
      "_model_name": "LayoutModel",
      "_view_count": null,
      "_view_module": "@jupyter-widgets/base",
      "_view_module_version": "1.2.0",
      "_view_name": "LayoutView",
      "align_content": null,
      "align_items": null,
      "align_self": null,
      "border": null,
      "bottom": null,
      "display": null,
      "flex": null,
      "flex_flow": null,
      "grid_area": null,
      "grid_auto_columns": null,
      "grid_auto_flow": null,
      "grid_auto_rows": null,
      "grid_column": null,
      "grid_gap": null,
      "grid_row": null,
      "grid_template_areas": null,
      "grid_template_columns": null,
      "grid_template_rows": null,
      "height": null,
      "justify_content": null,
      "justify_items": null,
      "left": null,
      "margin": null,
      "max_height": null,
      "max_width": null,
      "min_height": null,
      "min_width": null,
      "object_fit": null,
      "object_position": null,
      "order": null,
      "overflow": null,
      "overflow_x": null,
      "overflow_y": null,
      "padding": null,
      "right": null,
      "top": null,
      "visibility": null,
      "width": null
     }
    },
    "e1a34af59be04546808279b6e673c498": {
     "model_module": "@jupyter-widgets/controls",
     "model_module_version": "1.5.0",
     "model_name": "HBoxModel",
     "state": {
      "_dom_classes": [],
      "_model_module": "@jupyter-widgets/controls",
      "_model_module_version": "1.5.0",
      "_model_name": "HBoxModel",
      "_view_count": null,
      "_view_module": "@jupyter-widgets/controls",
      "_view_module_version": "1.5.0",
      "_view_name": "HBoxView",
      "box_style": "",
      "children": [
       "IPY_MODEL_91a9bd637428473192d5ec47ba137268",
       "IPY_MODEL_f11e33bc060746758ad638204b71955c",
       "IPY_MODEL_ef69985b8f7c4662912a11a377e99b59"
      ],
      "layout": "IPY_MODEL_9721f00cdfc942e8ab8a4faf8080ef2d"
     }
    },
    "e428cba63225447ab0ade9fbf5748e30": {
     "model_module": "@jupyter-widgets/controls",
     "model_module_version": "1.5.0",
     "model_name": "FloatProgressModel",
     "state": {
      "_dom_classes": [],
      "_model_module": "@jupyter-widgets/controls",
      "_model_module_version": "1.5.0",
      "_model_name": "FloatProgressModel",
      "_view_count": null,
      "_view_module": "@jupyter-widgets/controls",
      "_view_module_version": "1.5.0",
      "_view_name": "ProgressView",
      "bar_style": "info",
      "description": "",
      "description_tooltip": null,
      "layout": "IPY_MODEL_8e7fd1e3048a4543978cfa7461194433",
      "max": 1,
      "min": 0,
      "orientation": "horizontal",
      "style": "IPY_MODEL_8f43661ab91e4101a933696f2c59e650",
      "value": 1
     }
    },
    "e53ec4e8ee3d44bb8b3bdcf323335c8a": {
     "model_module": "@jupyter-widgets/base",
     "model_module_version": "1.2.0",
     "model_name": "LayoutModel",
     "state": {
      "_model_module": "@jupyter-widgets/base",
      "_model_module_version": "1.2.0",
      "_model_name": "LayoutModel",
      "_view_count": null,
      "_view_module": "@jupyter-widgets/base",
      "_view_module_version": "1.2.0",
      "_view_name": "LayoutView",
      "align_content": null,
      "align_items": null,
      "align_self": null,
      "border": null,
      "bottom": null,
      "display": null,
      "flex": null,
      "flex_flow": null,
      "grid_area": null,
      "grid_auto_columns": null,
      "grid_auto_flow": null,
      "grid_auto_rows": null,
      "grid_column": null,
      "grid_gap": null,
      "grid_row": null,
      "grid_template_areas": null,
      "grid_template_columns": null,
      "grid_template_rows": null,
      "height": null,
      "justify_content": null,
      "justify_items": null,
      "left": null,
      "margin": null,
      "max_height": null,
      "max_width": null,
      "min_height": null,
      "min_width": null,
      "object_fit": null,
      "object_position": null,
      "order": null,
      "overflow": null,
      "overflow_x": null,
      "overflow_y": null,
      "padding": null,
      "right": null,
      "top": null,
      "visibility": null,
      "width": null
     }
    },
    "e70ccebc02a54e8f9504e228ba1af05a": {
     "model_module": "@jupyter-widgets/controls",
     "model_module_version": "1.5.0",
     "model_name": "HTMLModel",
     "state": {
      "_dom_classes": [],
      "_model_module": "@jupyter-widgets/controls",
      "_model_module_version": "1.5.0",
      "_model_name": "HTMLModel",
      "_view_count": null,
      "_view_module": "@jupyter-widgets/controls",
      "_view_module_version": "1.5.0",
      "_view_name": "HTMLView",
      "description": "",
      "description_tooltip": null,
      "layout": "IPY_MODEL_44e2ae38d685424ba05645c93efea468",
      "placeholder": "​",
      "style": "IPY_MODEL_c0af642f5ebf4eeaa392c8a005f11dfa",
      "value": "100%"
     }
    },
    "e79fb1e8ee3245fba30e140ae2cfb2f1": {
     "model_module": "@jupyter-widgets/controls",
     "model_module_version": "1.5.0",
     "model_name": "HBoxModel",
     "state": {
      "_dom_classes": [],
      "_model_module": "@jupyter-widgets/controls",
      "_model_module_version": "1.5.0",
      "_model_name": "HBoxModel",
      "_view_count": null,
      "_view_module": "@jupyter-widgets/controls",
      "_view_module_version": "1.5.0",
      "_view_name": "HBoxView",
      "box_style": "",
      "children": [
       "IPY_MODEL_41bb4e9b828d4ac2b9b8ddd740e917fe",
       "IPY_MODEL_bb57e3ec8c79442f8afe5137248cb510",
       "IPY_MODEL_8b226820799b4dbc843687369c9a512a"
      ],
      "layout": "IPY_MODEL_4b5c0df4da174b85958f2656241bdbcf"
     }
    },
    "e7d54319900548208c3852623ebc3dcf": {
     "model_module": "@jupyter-widgets/controls",
     "model_module_version": "1.5.0",
     "model_name": "DescriptionStyleModel",
     "state": {
      "_model_module": "@jupyter-widgets/controls",
      "_model_module_version": "1.5.0",
      "_model_name": "DescriptionStyleModel",
      "_view_count": null,
      "_view_module": "@jupyter-widgets/base",
      "_view_module_version": "1.2.0",
      "_view_name": "StyleView",
      "description_width": ""
     }
    },
    "eb9d5bd61b814ff4b50cacb32c990f9c": {
     "model_module": "@jupyter-widgets/controls",
     "model_module_version": "1.5.0",
     "model_name": "HBoxModel",
     "state": {
      "_dom_classes": [],
      "_model_module": "@jupyter-widgets/controls",
      "_model_module_version": "1.5.0",
      "_model_name": "HBoxModel",
      "_view_count": null,
      "_view_module": "@jupyter-widgets/controls",
      "_view_module_version": "1.5.0",
      "_view_name": "HBoxView",
      "box_style": "",
      "children": [
       "IPY_MODEL_38d534265df041689c5be6202dcd87cd",
       "IPY_MODEL_770d4802c0b34c999937a61f85de7760",
       "IPY_MODEL_dcb87e1561394560bf8e8b6abf8b14b6"
      ],
      "layout": "IPY_MODEL_1b97a6f0ecad46c9b5107278895fc4f6"
     }
    },
    "ef69985b8f7c4662912a11a377e99b59": {
     "model_module": "@jupyter-widgets/controls",
     "model_module_version": "1.5.0",
     "model_name": "HTMLModel",
     "state": {
      "_dom_classes": [],
      "_model_module": "@jupyter-widgets/controls",
      "_model_module_version": "1.5.0",
      "_model_name": "HTMLModel",
      "_view_count": null,
      "_view_module": "@jupyter-widgets/controls",
      "_view_module_version": "1.5.0",
      "_view_name": "HTMLView",
      "description": "",
      "description_tooltip": null,
      "layout": "IPY_MODEL_8c89f99cd7b9408eafbfbf8e0c56d39c",
      "placeholder": "​",
      "style": "IPY_MODEL_a40561b6f013481ba77fa137ab43b1c2",
      "value": " 2.98k/2.98k [05:26&lt;?, ?B/s]"
     }
    },
    "f11e33bc060746758ad638204b71955c": {
     "model_module": "@jupyter-widgets/controls",
     "model_module_version": "1.5.0",
     "model_name": "FloatProgressModel",
     "state": {
      "_dom_classes": [],
      "_model_module": "@jupyter-widgets/controls",
      "_model_module_version": "1.5.0",
      "_model_name": "FloatProgressModel",
      "_view_count": null,
      "_view_module": "@jupyter-widgets/controls",
      "_view_module_version": "1.5.0",
      "_view_name": "ProgressView",
      "bar_style": "success",
      "description": "",
      "description_tooltip": null,
      "layout": "IPY_MODEL_adbd04cd03624b66a8c725f9a89647b6",
      "max": 3055,
      "min": 0,
      "orientation": "horizontal",
      "style": "IPY_MODEL_200b5fada23d45ff947953003d052605",
      "value": 3055
     }
    },
    "f22febfc3bbe48058be84b2a20e906f5": {
     "model_module": "@jupyter-widgets/controls",
     "model_module_version": "1.5.0",
     "model_name": "FloatProgressModel",
     "state": {
      "_dom_classes": [],
      "_model_module": "@jupyter-widgets/controls",
      "_model_module_version": "1.5.0",
      "_model_name": "FloatProgressModel",
      "_view_count": null,
      "_view_module": "@jupyter-widgets/controls",
      "_view_module_version": "1.5.0",
      "_view_name": "ProgressView",
      "bar_style": "success",
      "description": "",
      "description_tooltip": null,
      "layout": "IPY_MODEL_63e9fc689ea54fbfa7226cc9918977cb",
      "max": 215,
      "min": 0,
      "orientation": "horizontal",
      "style": "IPY_MODEL_dc034b4bf9e34963ab79f391c55d44ac",
      "value": 215
     }
    },
    "f23b78d30ff040f481b5584a83083b39": {
     "model_module": "@jupyter-widgets/controls",
     "model_module_version": "1.5.0",
     "model_name": "HTMLModel",
     "state": {
      "_dom_classes": [],
      "_model_module": "@jupyter-widgets/controls",
      "_model_module_version": "1.5.0",
      "_model_name": "HTMLModel",
      "_view_count": null,
      "_view_module": "@jupyter-widgets/controls",
      "_view_module_version": "1.5.0",
      "_view_name": "HTMLView",
      "description": "",
      "description_tooltip": null,
      "layout": "IPY_MODEL_28b1ff0d507e40fb84e4083537207de4",
      "placeholder": "​",
      "style": "IPY_MODEL_bf2896c4b25147f0a303c748fa2b0cd9",
      "value": " 18.7k/18.7k [05:26&lt;00:00, 48.2B/s]"
     }
    },
    "f44a8453ba314ddbb153e1278eb59eec": {
     "model_module": "@jupyter-widgets/controls",
     "model_module_version": "1.5.0",
     "model_name": "DescriptionStyleModel",
     "state": {
      "_model_module": "@jupyter-widgets/controls",
      "_model_module_version": "1.5.0",
      "_model_name": "DescriptionStyleModel",
      "_view_count": null,
      "_view_module": "@jupyter-widgets/base",
      "_view_module_version": "1.2.0",
      "_view_name": "StyleView",
      "description_width": ""
     }
    },
    "f5e79b8c3a634eae8a555f18b9dc9bd6": {
     "model_module": "@jupyter-widgets/controls",
     "model_module_version": "1.5.0",
     "model_name": "DescriptionStyleModel",
     "state": {
      "_model_module": "@jupyter-widgets/controls",
      "_model_module_version": "1.5.0",
      "_model_name": "DescriptionStyleModel",
      "_view_count": null,
      "_view_module": "@jupyter-widgets/base",
      "_view_module_version": "1.2.0",
      "_view_name": "StyleView",
      "description_width": ""
     }
    },
    "f652ea3e007c42669e445a7247bb0430": {
     "model_module": "@jupyter-widgets/base",
     "model_module_version": "1.2.0",
     "model_name": "LayoutModel",
     "state": {
      "_model_module": "@jupyter-widgets/base",
      "_model_module_version": "1.2.0",
      "_model_name": "LayoutModel",
      "_view_count": null,
      "_view_module": "@jupyter-widgets/base",
      "_view_module_version": "1.2.0",
      "_view_name": "LayoutView",
      "align_content": null,
      "align_items": null,
      "align_self": null,
      "border": null,
      "bottom": null,
      "display": null,
      "flex": null,
      "flex_flow": null,
      "grid_area": null,
      "grid_auto_columns": null,
      "grid_auto_flow": null,
      "grid_auto_rows": null,
      "grid_column": null,
      "grid_gap": null,
      "grid_row": null,
      "grid_template_areas": null,
      "grid_template_columns": null,
      "grid_template_rows": null,
      "height": null,
      "justify_content": null,
      "justify_items": null,
      "left": null,
      "margin": null,
      "max_height": null,
      "max_width": null,
      "min_height": null,
      "min_width": null,
      "object_fit": null,
      "object_position": null,
      "order": null,
      "overflow": null,
      "overflow_x": null,
      "overflow_y": null,
      "padding": null,
      "right": null,
      "top": null,
      "visibility": null,
      "width": null
     }
    },
    "f6a322f066c6446a90487d5c47bf51a9": {
     "model_module": "@jupyter-widgets/controls",
     "model_module_version": "1.5.0",
     "model_name": "DescriptionStyleModel",
     "state": {
      "_model_module": "@jupyter-widgets/controls",
      "_model_module_version": "1.5.0",
      "_model_name": "DescriptionStyleModel",
      "_view_count": null,
      "_view_module": "@jupyter-widgets/base",
      "_view_module_version": "1.2.0",
      "_view_name": "StyleView",
      "description_width": ""
     }
    },
    "f9af4bdf38da428aab44a5c049526f75": {
     "model_module": "@jupyter-widgets/base",
     "model_module_version": "1.2.0",
     "model_name": "LayoutModel",
     "state": {
      "_model_module": "@jupyter-widgets/base",
      "_model_module_version": "1.2.0",
      "_model_name": "LayoutModel",
      "_view_count": null,
      "_view_module": "@jupyter-widgets/base",
      "_view_module_version": "1.2.0",
      "_view_name": "LayoutView",
      "align_content": null,
      "align_items": null,
      "align_self": null,
      "border": null,
      "bottom": null,
      "display": null,
      "flex": null,
      "flex_flow": null,
      "grid_area": null,
      "grid_auto_columns": null,
      "grid_auto_flow": null,
      "grid_auto_rows": null,
      "grid_column": null,
      "grid_gap": null,
      "grid_row": null,
      "grid_template_areas": null,
      "grid_template_columns": null,
      "grid_template_rows": null,
      "height": null,
      "justify_content": null,
      "justify_items": null,
      "left": null,
      "margin": null,
      "max_height": null,
      "max_width": null,
      "min_height": null,
      "min_width": null,
      "object_fit": null,
      "object_position": null,
      "order": null,
      "overflow": null,
      "overflow_x": null,
      "overflow_y": null,
      "padding": null,
      "right": null,
      "top": null,
      "visibility": null,
      "width": null
     }
    },
    "fd72ea27c82843ceb5fdb74886fc5b44": {
     "model_module": "@jupyter-widgets/controls",
     "model_module_version": "1.5.0",
     "model_name": "ProgressStyleModel",
     "state": {
      "_model_module": "@jupyter-widgets/controls",
      "_model_module_version": "1.5.0",
      "_model_name": "ProgressStyleModel",
      "_view_count": null,
      "_view_module": "@jupyter-widgets/base",
      "_view_module_version": "1.2.0",
      "_view_name": "StyleView",
      "bar_color": null,
      "description_width": ""
     }
    },
    "fde4ddb4596d4722b219ed99dca6d76b": {
     "model_module": "@jupyter-widgets/controls",
     "model_module_version": "1.5.0",
     "model_name": "HTMLModel",
     "state": {
      "_dom_classes": [],
      "_model_module": "@jupyter-widgets/controls",
      "_model_module_version": "1.5.0",
      "_model_name": "HTMLModel",
      "_view_count": null,
      "_view_module": "@jupyter-widgets/controls",
      "_view_module_version": "1.5.0",
      "_view_name": "HTMLView",
      "description": "",
      "description_tooltip": null,
      "layout": "IPY_MODEL_638c91d67ca9466995f70a407b0b8b4d",
      "placeholder": "​",
      "style": "IPY_MODEL_d9dd3186650944089fe82104ea748121",
      "value": "Downloading: "
     }
    },
    "fe39df4b5e9d41f6a0233bafb4522dd4": {
     "model_module": "@jupyter-widgets/base",
     "model_module_version": "1.2.0",
     "model_name": "LayoutModel",
     "state": {
      "_model_module": "@jupyter-widgets/base",
      "_model_module_version": "1.2.0",
      "_model_name": "LayoutModel",
      "_view_count": null,
      "_view_module": "@jupyter-widgets/base",
      "_view_module_version": "1.2.0",
      "_view_name": "LayoutView",
      "align_content": null,
      "align_items": null,
      "align_self": null,
      "border": null,
      "bottom": null,
      "display": null,
      "flex": null,
      "flex_flow": null,
      "grid_area": null,
      "grid_auto_columns": null,
      "grid_auto_flow": null,
      "grid_auto_rows": null,
      "grid_column": null,
      "grid_gap": null,
      "grid_row": null,
      "grid_template_areas": null,
      "grid_template_columns": null,
      "grid_template_rows": null,
      "height": null,
      "justify_content": null,
      "justify_items": null,
      "left": null,
      "margin": null,
      "max_height": null,
      "max_width": null,
      "min_height": null,
      "min_width": null,
      "object_fit": null,
      "object_position": null,
      "order": null,
      "overflow": null,
      "overflow_x": null,
      "overflow_y": null,
      "padding": null,
      "right": null,
      "top": null,
      "visibility": null,
      "width": null
     }
    },
    "ffa2bd3495f54f1c81f15ebf50fd4fee": {
     "model_module": "@jupyter-widgets/base",
     "model_module_version": "1.2.0",
     "model_name": "LayoutModel",
     "state": {
      "_model_module": "@jupyter-widgets/base",
      "_model_module_version": "1.2.0",
      "_model_name": "LayoutModel",
      "_view_count": null,
      "_view_module": "@jupyter-widgets/base",
      "_view_module_version": "1.2.0",
      "_view_name": "LayoutView",
      "align_content": null,
      "align_items": null,
      "align_self": null,
      "border": null,
      "bottom": null,
      "display": null,
      "flex": null,
      "flex_flow": null,
      "grid_area": null,
      "grid_auto_columns": null,
      "grid_auto_flow": null,
      "grid_auto_rows": null,
      "grid_column": null,
      "grid_gap": null,
      "grid_row": null,
      "grid_template_areas": null,
      "grid_template_columns": null,
      "grid_template_rows": null,
      "height": null,
      "justify_content": null,
      "justify_items": null,
      "left": null,
      "margin": null,
      "max_height": null,
      "max_width": null,
      "min_height": null,
      "min_width": null,
      "object_fit": null,
      "object_position": null,
      "order": null,
      "overflow": null,
      "overflow_x": null,
      "overflow_y": null,
      "padding": null,
      "right": null,
      "top": null,
      "visibility": null,
      "width": null
     }
    },
    "ffb933c54b5045139b34c261e23e28d3": {
     "model_module": "@jupyter-widgets/controls",
     "model_module_version": "1.5.0",
     "model_name": "HBoxModel",
     "state": {
      "_dom_classes": [],
      "_model_module": "@jupyter-widgets/controls",
      "_model_module_version": "1.5.0",
      "_model_name": "HBoxModel",
      "_view_count": null,
      "_view_module": "@jupyter-widgets/controls",
      "_view_module_version": "1.5.0",
      "_view_name": "HBoxView",
      "box_style": "",
      "children": [
       "IPY_MODEL_7e954c0027d542bdafb1a4bb0cf7e0fa",
       "IPY_MODEL_a6fa5cb83ec54a14b1d4fb24e7e81d87",
       "IPY_MODEL_3b18750c4c2c4f92a8df56de8b04f3b8"
      ],
      "layout": "IPY_MODEL_7851046f5de5478fa219f92fa1a4237a"
     }
    }
   }
  }
 },
 "nbformat": 4,
 "nbformat_minor": 1
}
